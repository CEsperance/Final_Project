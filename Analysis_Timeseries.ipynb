{
 "cells": [
  {
   "cell_type": "code",
   "execution_count": 44,
   "id": "8b12a1e7",
   "metadata": {},
   "outputs": [],
   "source": [
    "from Data_Preprocessing import exp_var, indexed_df, hate_crime, region_grouped\n",
    "\n",
    "import pandas as pd\n",
    "import numpy as np\n",
    "from datetime import datetime as dt\n",
    "\n",
    "import matplotlib.pyplot as plt\n",
    "import seaborn as sns\n",
    "\n",
    "from statsmodels.tsa.seasonal import seasonal_decompose\n",
    "from statsmodels.tsa.stattools import adfuller\n",
    "\n",
    "from statsmodels.tsa.stattools import acf, pacf\n",
    "from statsmodels.graphics.tsaplots import plot_acf\n",
    "from statsmodels.graphics.tsaplots import plot_pacf\n",
    "\n",
    "from statsmodels.tsa.arima.model import ARIMA\n",
    "from statsmodels.tsa.statespace.sarimax import SARIMAX"
   ]
  },
  {
   "cell_type": "code",
   "execution_count": 2,
   "id": "c982b6f1",
   "metadata": {},
   "outputs": [
    {
     "data": {
      "text/plain": [
       "['hate_crime',\n",
       " 'hate_crime_combined',\n",
       " 'hc_by_year',\n",
       " 'region_grouped',\n",
       " 'race_grouped',\n",
       " 'indexed_df']"
      ]
     },
     "execution_count": 2,
     "metadata": {},
     "output_type": "execute_result"
    }
   ],
   "source": [
    "exp_var"
   ]
  },
  {
   "cell_type": "code",
   "execution_count": 3,
   "id": "b1c7e328",
   "metadata": {},
   "outputs": [
    {
     "data": {
      "text/html": [
       "<div>\n",
       "<style scoped>\n",
       "    .dataframe tbody tr th:only-of-type {\n",
       "        vertical-align: middle;\n",
       "    }\n",
       "\n",
       "    .dataframe tbody tr th {\n",
       "        vertical-align: top;\n",
       "    }\n",
       "\n",
       "    .dataframe thead th {\n",
       "        text-align: right;\n",
       "    }\n",
       "</style>\n",
       "<table border=\"1\" class=\"dataframe\">\n",
       "  <thead>\n",
       "    <tr style=\"text-align: right;\">\n",
       "      <th></th>\n",
       "      <th>TOTAL_INCIDENTS</th>\n",
       "    </tr>\n",
       "    <tr>\n",
       "      <th>INCIDENT_MONTH</th>\n",
       "      <th></th>\n",
       "    </tr>\n",
       "  </thead>\n",
       "  <tbody>\n",
       "    <tr>\n",
       "      <th>1991-01-31</th>\n",
       "      <td>302</td>\n",
       "    </tr>\n",
       "    <tr>\n",
       "      <th>1991-02-28</th>\n",
       "      <td>287</td>\n",
       "    </tr>\n",
       "    <tr>\n",
       "      <th>1991-03-31</th>\n",
       "      <td>287</td>\n",
       "    </tr>\n",
       "    <tr>\n",
       "      <th>1991-04-30</th>\n",
       "      <td>309</td>\n",
       "    </tr>\n",
       "    <tr>\n",
       "      <th>1991-05-31</th>\n",
       "      <td>371</td>\n",
       "    </tr>\n",
       "  </tbody>\n",
       "</table>\n",
       "</div>"
      ],
      "text/plain": [
       "                TOTAL_INCIDENTS\n",
       "INCIDENT_MONTH                 \n",
       "1991-01-31                  302\n",
       "1991-02-28                  287\n",
       "1991-03-31                  287\n",
       "1991-04-30                  309\n",
       "1991-05-31                  371"
      ]
     },
     "execution_count": 3,
     "metadata": {},
     "output_type": "execute_result"
    }
   ],
   "source": [
    "indexed_df.head()"
   ]
  },
  {
   "cell_type": "code",
   "execution_count": 4,
   "id": "5e3fc189",
   "metadata": {},
   "outputs": [],
   "source": [
    "indexed_df_complete = indexed_df"
   ]
  },
  {
   "cell_type": "code",
   "execution_count": 5,
   "id": "2b0a8890",
   "metadata": {},
   "outputs": [
    {
     "data": {
      "image/png": "[encoded data removed]",
      "text/plain": [
       "<Figure size 432x288 with 1 Axes>"
      ]
     },
     "metadata": {
      "needs_background": "light"
     },
     "output_type": "display_data"
    },
    {
     "data": {
      "text/html": [
       "<div>\n",
       "<style scoped>\n",
       "    .dataframe tbody tr th:only-of-type {\n",
       "        vertical-align: middle;\n",
       "    }\n",
       "\n",
       "    .dataframe tbody tr th {\n",
       "        vertical-align: top;\n",
       "    }\n",
       "\n",
       "    .dataframe thead th {\n",
       "        text-align: right;\n",
       "    }\n",
       "</style>\n",
       "<table border=\"1\" class=\"dataframe\">\n",
       "  <thead>\n",
       "    <tr style=\"text-align: right;\">\n",
       "      <th></th>\n",
       "      <th>TOTAL_INCIDENTS</th>\n",
       "    </tr>\n",
       "    <tr>\n",
       "      <th>INCIDENT_MONTH</th>\n",
       "      <th></th>\n",
       "    </tr>\n",
       "  </thead>\n",
       "  <tbody>\n",
       "    <tr>\n",
       "      <th>2001-09-30</th>\n",
       "      <td>1966</td>\n",
       "    </tr>\n",
       "    <tr>\n",
       "      <th>2001-10-31</th>\n",
       "      <td>1048</td>\n",
       "    </tr>\n",
       "    <tr>\n",
       "      <th>2020-06-30</th>\n",
       "      <td>1470</td>\n",
       "    </tr>\n",
       "    <tr>\n",
       "      <th>2020-07-31</th>\n",
       "      <td>1155</td>\n",
       "    </tr>\n",
       "    <tr>\n",
       "      <th>2020-08-31</th>\n",
       "      <td>1085</td>\n",
       "    </tr>\n",
       "    <tr>\n",
       "      <th>2020-10-31</th>\n",
       "      <td>1004</td>\n",
       "    </tr>\n",
       "  </tbody>\n",
       "</table>\n",
       "</div>"
      ],
      "text/plain": [
       "                TOTAL_INCIDENTS\n",
       "INCIDENT_MONTH                 \n",
       "2001-09-30                 1966\n",
       "2001-10-31                 1048\n",
       "2020-06-30                 1470\n",
       "2020-07-31                 1155\n",
       "2020-08-31                 1085\n",
       "2020-10-31                 1004"
      ]
     },
     "execution_count": 5,
     "metadata": {},
     "output_type": "execute_result"
    }
   ],
   "source": [
    "indexed_df.plot()\n",
    "plt.show()\n",
    "\n",
    "indexed_df[indexed_df['TOTAL_INCIDENTS'] > 1000]"
   ]
  },
  {
   "cell_type": "markdown",
   "id": "de029b77",
   "metadata": {},
   "source": [
    "### Remove outliers, months with incidents > 1000"
   ]
  },
  {
   "cell_type": "code",
   "execution_count": 6,
   "id": "8e7bb160",
   "metadata": {},
   "outputs": [
    {
     "name": "stdout",
     "output_type": "stream",
     "text": [
      "{1966: 762.0, 1048: 772.0, 1470: 736.0, 1155: 742.5, 1085: 745.0, 1004: 845.0}\n"
     ]
    }
   ],
   "source": [
    "replace_dict={1966:(indexed_df.loc['2000-09-30']['TOTAL_INCIDENTS'] + indexed_df.loc['2002-09-30']['TOTAL_INCIDENTS'])/2, \n",
    "              1048:(indexed_df.loc['2000-10-31']['TOTAL_INCIDENTS'] + indexed_df.loc['2002-10-31']['TOTAL_INCIDENTS'])/2, \n",
    "              1470:(indexed_df.loc['2019-06-30']['TOTAL_INCIDENTS'] + indexed_df.loc['2020-05-31']['TOTAL_INCIDENTS'])/2, \n",
    "              1155:(indexed_df.loc['2019-07-31']['TOTAL_INCIDENTS'] + indexed_df.loc['2020-05-31']['TOTAL_INCIDENTS'])/2, \n",
    "              1085:(indexed_df.loc['2019-08-31']['TOTAL_INCIDENTS'] + indexed_df.loc['2020-05-31']['TOTAL_INCIDENTS'])/2, \n",
    "              1004:(indexed_df.loc['2019-10-31']['TOTAL_INCIDENTS'] + indexed_df.loc['2020-09-30']['TOTAL_INCIDENTS'])/2 \n",
    "             }\n",
    "\n",
    "print(replace_dict)\n",
    "\n",
    "indexed_df.replace(to_replace=replace_dict, inplace=True)"
   ]
  },
  {
   "cell_type": "code",
   "execution_count": 7,
   "id": "ff68d393",
   "metadata": {},
   "outputs": [
    {
     "data": {
      "image/png": "[encoded data removed]",
      "text/plain": [
       "<Figure size 432x288 with 1 Axes>"
      ]
     },
     "metadata": {
      "needs_background": "light"
     },
     "output_type": "display_data"
    }
   ],
   "source": [
    "indexed_df.plot()\n",
    "plt.show()"
   ]
  },
  {
   "cell_type": "markdown",
   "id": "c7f49f81",
   "metadata": {},
   "source": [
    "### Seasonality and stationarity"
   ]
  },
  {
   "cell_type": "code",
   "execution_count": 8,
   "id": "c6c8f783",
   "metadata": {},
   "outputs": [
    {
     "data": {
      "image/png": "[encoded data removed]",
      "text/plain": [
       "<Figure size 432x288 with 4 Axes>"
      ]
     },
     "metadata": {
      "needs_background": "light"
     },
     "output_type": "display_data"
    }
   ],
   "source": [
    "decompose_data = seasonal_decompose(indexed_df['TOTAL_INCIDENTS'], period=30)\n",
    "\n",
    "decompose_plot = decompose_data.plot()\n",
    "\n",
    "## trend is not consistent\n",
    "##variation in residuals mostly accounted for in 2001 spike"
   ]
  },
  {
   "cell_type": "code",
   "execution_count": 9,
   "id": "377b02c0",
   "metadata": {},
   "outputs": [
    {
     "data": {
      "text/plain": [
       "<AxesSubplot:xlabel='INCIDENT_MONTH'>"
      ]
     },
     "execution_count": 9,
     "metadata": {},
     "output_type": "execute_result"
    },
    {
     "data": {
      "image/png": "[encoded data removed]",
      "text/plain": [
       "<Figure size 432x288 with 1 Axes>"
      ]
     },
     "metadata": {
      "needs_background": "light"
     },
     "output_type": "display_data"
    }
   ],
   "source": [
    "#inspect seasonality\n",
    "seasonality = decompose_data.seasonal\n",
    "seasonality.plot()"
   ]
  },
  {
   "cell_type": "code",
   "execution_count": 10,
   "id": "735a7aee",
   "metadata": {},
   "outputs": [
    {
     "name": "stdout",
     "output_type": "stream",
     "text": [
      "ADF:  -2.3563481920398264\n",
      "P-Value:  0.15443758406898878\n",
      "Num Of Lags:  14\n",
      "Num Of Observations: 345\n",
      "Critical Values:\n",
      "\t 1% :  -3.4494474563375737\n",
      "\t 5% :  -2.8699542285903887\n",
      "\t 10% :  -2.5712527305187987\n"
     ]
    }
   ],
   "source": [
    "#Augmented Dickey Fuller test\n",
    "\n",
    "dftest = adfuller(indexed_df.TOTAL_INCIDENTS, autolag = 'AIC')\n",
    "print(\"ADF: \",dftest[0])\n",
    "print(\"P-Value: \", dftest[1])\n",
    "print(\"Num Of Lags: \", dftest[2])\n",
    "print(\"Num Of Observations:\", dftest[3])\n",
    "print(\"Critical Values:\")\n",
    "for key, val in dftest[4].items():\n",
    "    print(\"\\t\",key, \": \", val)\n",
    "    \n",
    "## p-value is high, well above threshold of 0.05\n",
    "##dataset is non-stationary"
   ]
  },
  {
   "cell_type": "code",
   "execution_count": 11,
   "id": "fb8ffc85",
   "metadata": {},
   "outputs": [
    {
     "data": {
      "text/plain": [
       "<AxesSubplot:title={'center':'original'}, xlabel='INCIDENT_MONTH'>"
      ]
     },
     "execution_count": 11,
     "metadata": {},
     "output_type": "execute_result"
    },
    {
     "data": {
      "image/png": "[encoded data removed]",
      "text/plain": [
       "<Figure size 432x288 with 1 Axes>"
      ]
     },
     "metadata": {
      "needs_background": "light"
     },
     "output_type": "display_data"
    }
   ],
   "source": [
    "## use rolling mean as differencing method to impose stationarity\n",
    "\n",
    "rolling_mean = indexed_df['TOTAL_INCIDENTS'].rolling(window = 12).mean()\n",
    "indexed_df['rolling_mean_diff'] = rolling_mean - rolling_mean.shift()\n",
    "\n",
    "#plot original df and rolling mean difference together\n",
    "indexed_df[['TOTAL_INCIDENTS', 'rolling_mean_diff']].plot(title='original')"
   ]
  },
  {
   "cell_type": "code",
   "execution_count": 12,
   "id": "cf43fd8b",
   "metadata": {},
   "outputs": [
    {
     "name": "stdout",
     "output_type": "stream",
     "text": [
      "ADF:  -4.174192567360622\n",
      "P-Value:  0.0007284062649401091\n",
      "Num Of Lags:  14\n",
      "Num Of Observations: 333\n",
      "Critical Values:\n",
      "\t 1% :  -3.450141065277327\n",
      "\t 5% :  -2.870258846235788\n",
      "\t 10% :  -2.571415151457764\n"
     ]
    }
   ],
   "source": [
    "#perform Augmented Dickey Fuller Test again on rolling_mean_diff\n",
    "\n",
    "dftest = adfuller(indexed_df['rolling_mean_diff'].dropna(), autolag = 'AIC')\n",
    "print(\"ADF: \",dftest[0])\n",
    "print(\"P-Value: \", dftest[1])\n",
    "print(\"Num Of Lags: \", dftest[2])\n",
    "print(\"Num Of Observations:\", dftest[3])\n",
    "print(\"Critical Values:\")\n",
    "for key, val in dftest[4].items():\n",
    "    print(\"\\t\",key, \": \", val)\n",
    "    \n",
    "## p value is much lower than 0.05 now; stationarity has been corrected with d=1"
   ]
  },
  {
   "cell_type": "markdown",
   "id": "fb531238",
   "metadata": {},
   "source": [
    "### ACF and PACF"
   ]
  },
  {
   "cell_type": "code",
   "execution_count": 13,
   "id": "6dda15eb",
   "metadata": {},
   "outputs": [
    {
     "data": {
      "text/html": [
       "<div>\n",
       "<style scoped>\n",
       "    .dataframe tbody tr th:only-of-type {\n",
       "        vertical-align: middle;\n",
       "    }\n",
       "\n",
       "    .dataframe tbody tr th {\n",
       "        vertical-align: top;\n",
       "    }\n",
       "\n",
       "    .dataframe thead th {\n",
       "        text-align: right;\n",
       "    }\n",
       "</style>\n",
       "<table border=\"1\" class=\"dataframe\">\n",
       "  <thead>\n",
       "    <tr style=\"text-align: right;\">\n",
       "      <th></th>\n",
       "      <th>TOTAL_INCIDENTS</th>\n",
       "      <th>rolling_mean_diff</th>\n",
       "    </tr>\n",
       "    <tr>\n",
       "      <th>INCIDENT_MONTH</th>\n",
       "      <th></th>\n",
       "      <th></th>\n",
       "    </tr>\n",
       "  </thead>\n",
       "  <tbody>\n",
       "    <tr>\n",
       "      <th>1991-01-31</th>\n",
       "      <td>302.0</td>\n",
       "      <td>NaN</td>\n",
       "    </tr>\n",
       "    <tr>\n",
       "      <th>1991-02-28</th>\n",
       "      <td>287.0</td>\n",
       "      <td>NaN</td>\n",
       "    </tr>\n",
       "    <tr>\n",
       "      <th>1991-03-31</th>\n",
       "      <td>287.0</td>\n",
       "      <td>NaN</td>\n",
       "    </tr>\n",
       "    <tr>\n",
       "      <th>1991-04-30</th>\n",
       "      <td>309.0</td>\n",
       "      <td>NaN</td>\n",
       "    </tr>\n",
       "    <tr>\n",
       "      <th>1991-05-31</th>\n",
       "      <td>371.0</td>\n",
       "      <td>NaN</td>\n",
       "    </tr>\n",
       "    <tr>\n",
       "      <th>...</th>\n",
       "      <td>...</td>\n",
       "      <td>...</td>\n",
       "    </tr>\n",
       "    <tr>\n",
       "      <th>2020-08-31</th>\n",
       "      <td>745.0</td>\n",
       "      <td>2.333333</td>\n",
       "    </tr>\n",
       "    <tr>\n",
       "      <th>2020-09-30</th>\n",
       "      <td>952.0</td>\n",
       "      <td>19.083333</td>\n",
       "    </tr>\n",
       "    <tr>\n",
       "      <th>2020-10-31</th>\n",
       "      <td>845.0</td>\n",
       "      <td>8.916667</td>\n",
       "    </tr>\n",
       "    <tr>\n",
       "      <th>2020-11-30</th>\n",
       "      <td>780.0</td>\n",
       "      <td>12.916667</td>\n",
       "    </tr>\n",
       "    <tr>\n",
       "      <th>2020-12-31</th>\n",
       "      <td>654.0</td>\n",
       "      <td>1.083333</td>\n",
       "    </tr>\n",
       "  </tbody>\n",
       "</table>\n",
       "<p>360 rows × 2 columns</p>\n",
       "</div>"
      ],
      "text/plain": [
       "                TOTAL_INCIDENTS  rolling_mean_diff\n",
       "INCIDENT_MONTH                                    \n",
       "1991-01-31                302.0                NaN\n",
       "1991-02-28                287.0                NaN\n",
       "1991-03-31                287.0                NaN\n",
       "1991-04-30                309.0                NaN\n",
       "1991-05-31                371.0                NaN\n",
       "...                         ...                ...\n",
       "2020-08-31                745.0           2.333333\n",
       "2020-09-30                952.0          19.083333\n",
       "2020-10-31                845.0           8.916667\n",
       "2020-11-30                780.0          12.916667\n",
       "2020-12-31                654.0           1.083333\n",
       "\n",
       "[360 rows x 2 columns]"
      ]
     },
     "execution_count": 13,
     "metadata": {},
     "output_type": "execute_result"
    }
   ],
   "source": [
    "indexed_df"
   ]
  },
  {
   "cell_type": "code",
   "execution_count": 14,
   "id": "a812520c",
   "metadata": {},
   "outputs": [
    {
     "data": {
      "text/plain": [
       "0.10330107023216706"
      ]
     },
     "execution_count": 14,
     "metadata": {},
     "output_type": "execute_result"
    }
   ],
   "source": [
    "#confidence interval\n",
    "ci = 1.96/np.sqrt(len(indexed_df))\n",
    "ci\n",
    "\n",
    "# look into this, sigma?"
   ]
  },
  {
   "cell_type": "code",
   "execution_count": 15,
   "id": "4a29b111",
   "metadata": {},
   "outputs": [
    {
     "name": "stderr",
     "output_type": "stream",
     "text": [
      "C:\\Users\\aspen\\anaconda3\\lib\\site-packages\\statsmodels\\tsa\\stattools.py:657: FutureWarning: The default number of lags is changing from 40 tomin(int(10 * np.log10(nobs)), nobs - 1) after 0.12is released. Set the number of lags to an integer to  silence this warning.\n",
      "  warnings.warn(\n"
     ]
    },
    {
     "data": {
      "image/png": "[encoded data removed]",
      "text/plain": [
       "<Figure size 432x288 with 1 Axes>"
      ]
     },
     "metadata": {
      "needs_background": "light"
     },
     "output_type": "display_data"
    }
   ],
   "source": [
    "#ACF  (q value)\n",
    "acf_array = acf(indexed_df['TOTAL_INCIDENTS'], fft=False)\n",
    "plot_acf(indexed_df['TOTAL_INCIDENTS'], lags=26, alpha=ci)\n",
    "plt.show()\n",
    "\n",
    "#q=6"
   ]
  },
  {
   "cell_type": "code",
   "execution_count": 16,
   "id": "cb84043e",
   "metadata": {},
   "outputs": [
    {
     "data": {
      "image/png": "[encoded data removed]",
      "text/plain": [
       "<Figure size 432x288 with 1 Axes>"
      ]
     },
     "metadata": {
      "needs_background": "light"
     },
     "output_type": "display_data"
    }
   ],
   "source": [
    "#PACF (p value)\n",
    "plot_pacf(indexed_df['TOTAL_INCIDENTS'], lags = 26)\n",
    "plt.show()\n",
    "\n",
    "#p=3/4"
   ]
  },
  {
   "cell_type": "code",
   "execution_count": 17,
   "id": "40798aee",
   "metadata": {},
   "outputs": [],
   "source": [
    "## drop null values created by differencing\n",
    "\n",
    "indexed_df.isnull().sum()\n",
    "indexed_df.dropna(axis=1, inplace=True)"
   ]
  },
  {
   "cell_type": "code",
   "execution_count": 18,
   "id": "1fcdcf1d",
   "metadata": {},
   "outputs": [],
   "source": [
    "#ensure frequency is set for timeseries models\n",
    "indexed_df = indexed_df.asfreq('M')"
   ]
  },
  {
   "cell_type": "markdown",
   "id": "fb5a38c8",
   "metadata": {},
   "source": [
    "## ARIMA"
   ]
  },
  {
   "cell_type": "code",
   "execution_count": 19,
   "id": "030aaf6f",
   "metadata": {},
   "outputs": [],
   "source": [
    "#p = lags in the autoregresive model\n",
    "p = 5\n",
    "#d = differencing / integration order\n",
    "d = 1\n",
    "#q = moving average lags\n",
    "q = 4\n",
    "\n",
    "my_order=(p,d,q)\n",
    "\n",
    "#Seasonal order\n",
    "P = 5\n",
    "D = 1\n",
    "Q = 4\n",
    "m = 12\n",
    "\n",
    "my_seasonal_order = (P,D,Q,m)"
   ]
  },
  {
   "cell_type": "code",
   "execution_count": 20,
   "id": "05aa7c89",
   "metadata": {},
   "outputs": [
    {
     "name": "stderr",
     "output_type": "stream",
     "text": [
      "C:\\Users\\aspen\\anaconda3\\lib\\site-packages\\statsmodels\\tsa\\statespace\\sarimax.py:966: UserWarning: Non-stationary starting autoregressive parameters found. Using zeros as starting parameters.\n",
      "  warn('Non-stationary starting autoregressive parameters'\n",
      "C:\\Users\\aspen\\anaconda3\\lib\\site-packages\\statsmodels\\tsa\\statespace\\sarimax.py:978: UserWarning: Non-invertible starting MA parameters found. Using zeros as starting parameters.\n",
      "  warn('Non-invertible starting MA parameters found.'\n",
      "C:\\Users\\aspen\\anaconda3\\lib\\site-packages\\statsmodels\\base\\model.py:566: ConvergenceWarning: Maximum Likelihood optimization failed to converge. Check mle_retvals\n",
      "  warnings.warn(\"Maximum Likelihood optimization failed to \"\n"
     ]
    },
    {
     "data": {
      "text/html": [
       "<table class=\"simpletable\">\n",
       "<caption>SARIMAX Results</caption>\n",
       "<tr>\n",
       "  <th>Dep. Variable:</th>    <td>TOTAL_INCIDENTS</td> <th>  No. Observations:  </th>    <td>360</td>   \n",
       "</tr>\n",
       "<tr>\n",
       "  <th>Model:</th>            <td>ARIMA(5, 1, 4)</td>  <th>  Log Likelihood     </th> <td>-2050.882</td>\n",
       "</tr>\n",
       "<tr>\n",
       "  <th>Date:</th>            <td>Mon, 07 Mar 2022</td> <th>  AIC                </th> <td>4121.764</td> \n",
       "</tr>\n",
       "<tr>\n",
       "  <th>Time:</th>                <td>17:47:44</td>     <th>  BIC                </th> <td>4160.597</td> \n",
       "</tr>\n",
       "<tr>\n",
       "  <th>Sample:</th>             <td>01-31-1991</td>    <th>  HQIC               </th> <td>4137.207</td> \n",
       "</tr>\n",
       "<tr>\n",
       "  <th></th>                   <td>- 12-31-2020</td>   <th>                     </th>     <td> </td>    \n",
       "</tr>\n",
       "<tr>\n",
       "  <th>Covariance Type:</th>        <td>opg</td>       <th>                     </th>     <td> </td>    \n",
       "</tr>\n",
       "</table>\n",
       "<table class=\"simpletable\">\n",
       "<tr>\n",
       "     <td></td>       <th>coef</th>     <th>std err</th>      <th>z</th>      <th>P>|z|</th>  <th>[0.025</th>    <th>0.975]</th>  \n",
       "</tr>\n",
       "<tr>\n",
       "  <th>ar.L1</th>  <td>    0.1760</td> <td>    0.109</td> <td>    1.613</td> <td> 0.107</td> <td>   -0.038</td> <td>    0.390</td>\n",
       "</tr>\n",
       "<tr>\n",
       "  <th>ar.L2</th>  <td>    0.1439</td> <td>    0.074</td> <td>    1.933</td> <td> 0.053</td> <td>   -0.002</td> <td>    0.290</td>\n",
       "</tr>\n",
       "<tr>\n",
       "  <th>ar.L3</th>  <td>    0.6909</td> <td>    0.058</td> <td>   11.865</td> <td> 0.000</td> <td>    0.577</td> <td>    0.805</td>\n",
       "</tr>\n",
       "<tr>\n",
       "  <th>ar.L4</th>  <td>   -0.5998</td> <td>    0.059</td> <td>  -10.177</td> <td> 0.000</td> <td>   -0.715</td> <td>   -0.484</td>\n",
       "</tr>\n",
       "<tr>\n",
       "  <th>ar.L5</th>  <td>   -0.1031</td> <td>    0.063</td> <td>   -1.638</td> <td> 0.101</td> <td>   -0.226</td> <td>    0.020</td>\n",
       "</tr>\n",
       "<tr>\n",
       "  <th>ma.L1</th>  <td>   -0.4920</td> <td>    0.138</td> <td>   -3.562</td> <td> 0.000</td> <td>   -0.763</td> <td>   -0.221</td>\n",
       "</tr>\n",
       "<tr>\n",
       "  <th>ma.L2</th>  <td>   -0.3380</td> <td>    0.049</td> <td>   -6.872</td> <td> 0.000</td> <td>   -0.434</td> <td>   -0.242</td>\n",
       "</tr>\n",
       "<tr>\n",
       "  <th>ma.L3</th>  <td>   -0.7485</td> <td>    0.171</td> <td>   -4.389</td> <td> 0.000</td> <td>   -1.083</td> <td>   -0.414</td>\n",
       "</tr>\n",
       "<tr>\n",
       "  <th>ma.L4</th>  <td>    0.7871</td> <td>    0.137</td> <td>    5.749</td> <td> 0.000</td> <td>    0.519</td> <td>    1.056</td>\n",
       "</tr>\n",
       "<tr>\n",
       "  <th>sigma2</th> <td> 5011.4739</td> <td>  772.781</td> <td>    6.485</td> <td> 0.000</td> <td> 3496.851</td> <td> 6526.097</td>\n",
       "</tr>\n",
       "</table>\n",
       "<table class=\"simpletable\">\n",
       "<tr>\n",
       "  <th>Ljung-Box (L1) (Q):</th>     <td>0.26</td> <th>  Jarque-Bera (JB):  </th> <td>11.72</td>\n",
       "</tr>\n",
       "<tr>\n",
       "  <th>Prob(Q):</th>                <td>0.61</td> <th>  Prob(JB):          </th> <td>0.00</td> \n",
       "</tr>\n",
       "<tr>\n",
       "  <th>Heteroskedasticity (H):</th> <td>0.58</td> <th>  Skew:              </th> <td>0.05</td> \n",
       "</tr>\n",
       "<tr>\n",
       "  <th>Prob(H) (two-sided):</th>    <td>0.00</td> <th>  Kurtosis:          </th> <td>3.88</td> \n",
       "</tr>\n",
       "</table><br/><br/>Warnings:<br/>[1] Covariance matrix calculated using the outer product of gradients (complex-step)."
      ],
      "text/plain": [
       "<class 'statsmodels.iolib.summary.Summary'>\n",
       "\"\"\"\n",
       "                               SARIMAX Results                                \n",
       "==============================================================================\n",
       "Dep. Variable:        TOTAL_INCIDENTS   No. Observations:                  360\n",
       "Model:                 ARIMA(5, 1, 4)   Log Likelihood               -2050.882\n",
       "Date:                Mon, 07 Mar 2022   AIC                           4121.764\n",
       "Time:                        17:47:44   BIC                           4160.597\n",
       "Sample:                    01-31-1991   HQIC                          4137.207\n",
       "                         - 12-31-2020                                         \n",
       "Covariance Type:                  opg                                         \n",
       "==============================================================================\n",
       "                 coef    std err          z      P>|z|      [0.025      0.975]\n",
       "------------------------------------------------------------------------------\n",
       "ar.L1          0.1760      0.109      1.613      0.107      -0.038       0.390\n",
       "ar.L2          0.1439      0.074      1.933      0.053      -0.002       0.290\n",
       "ar.L3          0.6909      0.058     11.865      0.000       0.577       0.805\n",
       "ar.L4         -0.5998      0.059    -10.177      0.000      -0.715      -0.484\n",
       "ar.L5         -0.1031      0.063     -1.638      0.101      -0.226       0.020\n",
       "ma.L1         -0.4920      0.138     -3.562      0.000      -0.763      -0.221\n",
       "ma.L2         -0.3380      0.049     -6.872      0.000      -0.434      -0.242\n",
       "ma.L3         -0.7485      0.171     -4.389      0.000      -1.083      -0.414\n",
       "ma.L4          0.7871      0.137      5.749      0.000       0.519       1.056\n",
       "sigma2      5011.4739    772.781      6.485      0.000    3496.851    6526.097\n",
       "===================================================================================\n",
       "Ljung-Box (L1) (Q):                   0.26   Jarque-Bera (JB):                11.72\n",
       "Prob(Q):                              0.61   Prob(JB):                         0.00\n",
       "Heteroskedasticity (H):               0.58   Skew:                             0.05\n",
       "Prob(H) (two-sided):                  0.00   Kurtosis:                         3.88\n",
       "===================================================================================\n",
       "\n",
       "Warnings:\n",
       "[1] Covariance matrix calculated using the outer product of gradients (complex-step).\n",
       "\"\"\""
      ]
     },
     "execution_count": 20,
     "metadata": {},
     "output_type": "execute_result"
    }
   ],
   "source": [
    "model = ARIMA(indexed_df['TOTAL_INCIDENTS'], order=my_order)\n",
    "results = model.fit()\n",
    "results.summary()"
   ]
  },
  {
   "cell_type": "code",
   "execution_count": 21,
   "id": "df4f6d58",
   "metadata": {},
   "outputs": [
    {
     "name": "stderr",
     "output_type": "stream",
     "text": [
      "C:\\Users\\aspen\\anaconda3\\lib\\site-packages\\statsmodels\\tsa\\base\\tsa_model.py:132: FutureWarning: The 'freq' argument in Timestamp is deprecated and will be removed in a future version.\n",
      "  date_key = Timestamp(key, freq=base_index.freq)\n"
     ]
    },
    {
     "data": {
      "text/plain": [
       "<AxesSubplot:xlabel='INCIDENT_MONTH'>"
      ]
     },
     "execution_count": 21,
     "metadata": {},
     "output_type": "execute_result"
    },
    {
     "data": {
      "image/png": "[encoded data removed]",
      "text/plain": [
       "<Figure size 864x576 with 1 Axes>"
      ]
     },
     "metadata": {
      "needs_background": "light"
     },
     "output_type": "display_data"
    }
   ],
   "source": [
    "indexed_df['forecast'] = results.predict(start='2018-01', end='2020-12', dynamic=True)\n",
    "indexed_df[['TOTAL_INCIDENTS', 'forecast']].plot(figsize=(12,8))"
   ]
  },
  {
   "cell_type": "markdown",
   "id": "46d066db",
   "metadata": {},
   "source": [
    "## SARIMAX"
   ]
  },
  {
   "cell_type": "code",
   "execution_count": 22,
   "id": "bdaa7b9c",
   "metadata": {},
   "outputs": [
    {
     "name": "stderr",
     "output_type": "stream",
     "text": [
      "C:\\Users\\aspen\\anaconda3\\lib\\site-packages\\statsmodels\\tsa\\statespace\\sarimax.py:966: UserWarning: Non-stationary starting autoregressive parameters found. Using zeros as starting parameters.\n",
      "  warn('Non-stationary starting autoregressive parameters'\n",
      "C:\\Users\\aspen\\anaconda3\\lib\\site-packages\\statsmodels\\tsa\\statespace\\sarimax.py:978: UserWarning: Non-invertible starting MA parameters found. Using zeros as starting parameters.\n",
      "  warn('Non-invertible starting MA parameters found.'\n",
      "C:\\Users\\aspen\\anaconda3\\lib\\site-packages\\statsmodels\\base\\model.py:566: ConvergenceWarning: Maximum Likelihood optimization failed to converge. Check mle_retvals\n",
      "  warnings.warn(\"Maximum Likelihood optimization failed to \"\n"
     ]
    },
    {
     "data": {
      "text/html": [
       "<table class=\"simpletable\">\n",
       "<caption>SARIMAX Results</caption>\n",
       "<tr>\n",
       "  <th>Dep. Variable:</th>           <td>TOTAL_INCIDENTS</td>        <th>  No. Observations:  </th>    <td>360</td>   \n",
       "</tr>\n",
       "<tr>\n",
       "  <th>Model:</th>           <td>SARIMAX(5, 1, 4)x(5, 1, 4, 12)</td> <th>  Log Likelihood     </th> <td>-1894.531</td>\n",
       "</tr>\n",
       "<tr>\n",
       "  <th>Date:</th>                   <td>Mon, 07 Mar 2022</td>        <th>  AIC                </th> <td>3827.061</td> \n",
       "</tr>\n",
       "<tr>\n",
       "  <th>Time:</th>                       <td>17:49:43</td>            <th>  BIC                </th> <td>3900.198</td> \n",
       "</tr>\n",
       "<tr>\n",
       "  <th>Sample:</th>                    <td>01-31-1991</td>           <th>  HQIC               </th> <td>3856.182</td> \n",
       "</tr>\n",
       "<tr>\n",
       "  <th></th>                          <td>- 12-31-2020</td>          <th>                     </th>     <td> </td>    \n",
       "</tr>\n",
       "<tr>\n",
       "  <th>Covariance Type:</th>               <td>opg</td>              <th>                     </th>     <td> </td>    \n",
       "</tr>\n",
       "</table>\n",
       "<table class=\"simpletable\">\n",
       "<tr>\n",
       "      <td></td>        <th>coef</th>     <th>std err</th>      <th>z</th>      <th>P>|z|</th>  <th>[0.025</th>    <th>0.975]</th>  \n",
       "</tr>\n",
       "<tr>\n",
       "  <th>ar.L1</th>    <td>    0.0559</td> <td>    0.565</td> <td>    0.099</td> <td> 0.921</td> <td>   -1.051</td> <td>    1.162</td>\n",
       "</tr>\n",
       "<tr>\n",
       "  <th>ar.L2</th>    <td>    0.2438</td> <td>    0.492</td> <td>    0.495</td> <td> 0.620</td> <td>   -0.721</td> <td>    1.209</td>\n",
       "</tr>\n",
       "<tr>\n",
       "  <th>ar.L3</th>    <td>    0.8667</td> <td>    0.292</td> <td>    2.964</td> <td> 0.003</td> <td>    0.294</td> <td>    1.440</td>\n",
       "</tr>\n",
       "<tr>\n",
       "  <th>ar.L4</th>    <td>   -0.2476</td> <td>    0.241</td> <td>   -1.028</td> <td> 0.304</td> <td>   -0.720</td> <td>    0.224</td>\n",
       "</tr>\n",
       "<tr>\n",
       "  <th>ar.L5</th>    <td>   -0.0245</td> <td>    0.111</td> <td>   -0.222</td> <td> 0.825</td> <td>   -0.242</td> <td>    0.193</td>\n",
       "</tr>\n",
       "<tr>\n",
       "  <th>ma.L1</th>    <td>   -0.5136</td> <td>    0.564</td> <td>   -0.910</td> <td> 0.363</td> <td>   -1.620</td> <td>    0.593</td>\n",
       "</tr>\n",
       "<tr>\n",
       "  <th>ma.L2</th>    <td>   -0.4048</td> <td>    0.225</td> <td>   -1.798</td> <td> 0.072</td> <td>   -0.846</td> <td>    0.036</td>\n",
       "</tr>\n",
       "<tr>\n",
       "  <th>ma.L3</th>    <td>   -0.7478</td> <td>    0.111</td> <td>   -6.715</td> <td> 0.000</td> <td>   -0.966</td> <td>   -0.530</td>\n",
       "</tr>\n",
       "<tr>\n",
       "  <th>ma.L4</th>    <td>    0.6963</td> <td>    0.438</td> <td>    1.589</td> <td> 0.112</td> <td>   -0.162</td> <td>    1.555</td>\n",
       "</tr>\n",
       "<tr>\n",
       "  <th>ar.S.L12</th> <td>   -0.3775</td> <td>    0.336</td> <td>   -1.123</td> <td> 0.261</td> <td>   -1.036</td> <td>    0.281</td>\n",
       "</tr>\n",
       "<tr>\n",
       "  <th>ar.S.L24</th> <td>    0.0197</td> <td>    0.362</td> <td>    0.054</td> <td> 0.957</td> <td>   -0.690</td> <td>    0.729</td>\n",
       "</tr>\n",
       "<tr>\n",
       "  <th>ar.S.L36</th> <td>    0.7591</td> <td>    0.430</td> <td>    1.765</td> <td> 0.078</td> <td>   -0.084</td> <td>    1.602</td>\n",
       "</tr>\n",
       "<tr>\n",
       "  <th>ar.S.L48</th> <td>   -0.0971</td> <td>    0.172</td> <td>   -0.566</td> <td> 0.572</td> <td>   -0.434</td> <td>    0.239</td>\n",
       "</tr>\n",
       "<tr>\n",
       "  <th>ar.S.L60</th> <td>   -0.0240</td> <td>    0.129</td> <td>   -0.186</td> <td> 0.853</td> <td>   -0.278</td> <td>    0.230</td>\n",
       "</tr>\n",
       "<tr>\n",
       "  <th>ma.S.L12</th> <td>   -0.4660</td> <td>    4.302</td> <td>   -0.108</td> <td> 0.914</td> <td>   -8.897</td> <td>    7.965</td>\n",
       "</tr>\n",
       "<tr>\n",
       "  <th>ma.S.L24</th> <td>   -0.3330</td> <td>    0.644</td> <td>   -0.517</td> <td> 0.605</td> <td>   -1.595</td> <td>    0.929</td>\n",
       "</tr>\n",
       "<tr>\n",
       "  <th>ma.S.L36</th> <td>   -0.7390</td> <td>    8.445</td> <td>   -0.088</td> <td> 0.930</td> <td>  -17.290</td> <td>   15.812</td>\n",
       "</tr>\n",
       "<tr>\n",
       "  <th>ma.S.L48</th> <td>    0.7768</td> <td>    5.413</td> <td>    0.144</td> <td> 0.886</td> <td>   -9.832</td> <td>   11.386</td>\n",
       "</tr>\n",
       "<tr>\n",
       "  <th>sigma2</th>   <td> 3361.0057</td> <td> 2.22e+04</td> <td>    0.152</td> <td> 0.880</td> <td>-4.01e+04</td> <td> 4.68e+04</td>\n",
       "</tr>\n",
       "</table>\n",
       "<table class=\"simpletable\">\n",
       "<tr>\n",
       "  <th>Ljung-Box (L1) (Q):</th>     <td>0.09</td> <th>  Jarque-Bera (JB):  </th> <td>278.26</td>\n",
       "</tr>\n",
       "<tr>\n",
       "  <th>Prob(Q):</th>                <td>0.77</td> <th>  Prob(JB):          </th>  <td>0.00</td> \n",
       "</tr>\n",
       "<tr>\n",
       "  <th>Heteroskedasticity (H):</th> <td>0.82</td> <th>  Skew:              </th>  <td>0.19</td> \n",
       "</tr>\n",
       "<tr>\n",
       "  <th>Prob(H) (two-sided):</th>    <td>0.29</td> <th>  Kurtosis:          </th>  <td>7.37</td> \n",
       "</tr>\n",
       "</table><br/><br/>Warnings:<br/>[1] Covariance matrix calculated using the outer product of gradients (complex-step)."
      ],
      "text/plain": [
       "<class 'statsmodels.iolib.summary.Summary'>\n",
       "\"\"\"\n",
       "                                     SARIMAX Results                                      \n",
       "==========================================================================================\n",
       "Dep. Variable:                    TOTAL_INCIDENTS   No. Observations:                  360\n",
       "Model:             SARIMAX(5, 1, 4)x(5, 1, 4, 12)   Log Likelihood               -1894.531\n",
       "Date:                            Mon, 07 Mar 2022   AIC                           3827.061\n",
       "Time:                                    17:49:43   BIC                           3900.198\n",
       "Sample:                                01-31-1991   HQIC                          3856.182\n",
       "                                     - 12-31-2020                                         \n",
       "Covariance Type:                              opg                                         \n",
       "==============================================================================\n",
       "                 coef    std err          z      P>|z|      [0.025      0.975]\n",
       "------------------------------------------------------------------------------\n",
       "ar.L1          0.0559      0.565      0.099      0.921      -1.051       1.162\n",
       "ar.L2          0.2438      0.492      0.495      0.620      -0.721       1.209\n",
       "ar.L3          0.8667      0.292      2.964      0.003       0.294       1.440\n",
       "ar.L4         -0.2476      0.241     -1.028      0.304      -0.720       0.224\n",
       "ar.L5         -0.0245      0.111     -0.222      0.825      -0.242       0.193\n",
       "ma.L1         -0.5136      0.564     -0.910      0.363      -1.620       0.593\n",
       "ma.L2         -0.4048      0.225     -1.798      0.072      -0.846       0.036\n",
       "ma.L3         -0.7478      0.111     -6.715      0.000      -0.966      -0.530\n",
       "ma.L4          0.6963      0.438      1.589      0.112      -0.162       1.555\n",
       "ar.S.L12      -0.3775      0.336     -1.123      0.261      -1.036       0.281\n",
       "ar.S.L24       0.0197      0.362      0.054      0.957      -0.690       0.729\n",
       "ar.S.L36       0.7591      0.430      1.765      0.078      -0.084       1.602\n",
       "ar.S.L48      -0.0971      0.172     -0.566      0.572      -0.434       0.239\n",
       "ar.S.L60      -0.0240      0.129     -0.186      0.853      -0.278       0.230\n",
       "ma.S.L12      -0.4660      4.302     -0.108      0.914      -8.897       7.965\n",
       "ma.S.L24      -0.3330      0.644     -0.517      0.605      -1.595       0.929\n",
       "ma.S.L36      -0.7390      8.445     -0.088      0.930     -17.290      15.812\n",
       "ma.S.L48       0.7768      5.413      0.144      0.886      -9.832      11.386\n",
       "sigma2      3361.0057   2.22e+04      0.152      0.880   -4.01e+04    4.68e+04\n",
       "===================================================================================\n",
       "Ljung-Box (L1) (Q):                   0.09   Jarque-Bera (JB):               278.26\n",
       "Prob(Q):                              0.77   Prob(JB):                         0.00\n",
       "Heteroskedasticity (H):               0.82   Skew:                             0.19\n",
       "Prob(H) (two-sided):                  0.29   Kurtosis:                         7.37\n",
       "===================================================================================\n",
       "\n",
       "Warnings:\n",
       "[1] Covariance matrix calculated using the outer product of gradients (complex-step).\n",
       "\"\"\""
      ]
     },
     "execution_count": 22,
     "metadata": {},
     "output_type": "execute_result"
    }
   ],
   "source": [
    "model = SARIMAX(indexed_df['TOTAL_INCIDENTS'], order=my_order, seasonal_order=(my_seasonal_order))\n",
    "results = model.fit()\n",
    "results.summary()"
   ]
  },
  {
   "cell_type": "code",
   "execution_count": 23,
   "id": "d3b2c334",
   "metadata": {},
   "outputs": [
    {
     "name": "stderr",
     "output_type": "stream",
     "text": [
      "C:\\Users\\aspen\\anaconda3\\lib\\site-packages\\statsmodels\\tsa\\base\\tsa_model.py:132: FutureWarning: The 'freq' argument in Timestamp is deprecated and will be removed in a future version.\n",
      "  date_key = Timestamp(key, freq=base_index.freq)\n"
     ]
    },
    {
     "data": {
      "text/plain": [
       "<AxesSubplot:xlabel='INCIDENT_MONTH'>"
      ]
     },
     "execution_count": 23,
     "metadata": {},
     "output_type": "execute_result"
    },
    {
     "data": {
      "image/png": "[encoded data removed]",
      "text/plain": [
       "<Figure size 864x576 with 1 Axes>"
      ]
     },
     "metadata": {
      "needs_background": "light"
     },
     "output_type": "display_data"
    }
   ],
   "source": [
    "indexed_df['forecast']=results.predict(start='2019-01',end='2020-12',dynamic=True)\n",
    "indexed_df[['TOTAL_INCIDENTS','forecast']].plot(figsize=(12,8))"
   ]
  },
  {
   "cell_type": "code",
   "execution_count": null,
   "id": "c083220b",
   "metadata": {},
   "outputs": [],
   "source": []
  },
  {
   "cell_type": "markdown",
   "id": "1f37a8f3",
   "metadata": {},
   "source": [
    "## NEXT for Timeseries Analysis\n",
    "\n",
    "Improve the model's performance with CV\n",
    "explore timeseries analysis as supervised learning problem to predict future values\n",
    "\n",
    "explore multivariate timeseries and look at total incidents by region, state, or population code\n",
    "\n",
    "statistical test to determine outliers, 2xsigma"
   ]
  },
  {
   "cell_type": "code",
   "execution_count": 24,
   "id": "764d5c4e",
   "metadata": {},
   "outputs": [],
   "source": [
    "import itertools\n",
    "import statsmodels.api as sm"
   ]
  },
  {
   "cell_type": "code",
   "execution_count": 30,
   "id": "4dcfd058",
   "metadata": {},
   "outputs": [],
   "source": [
    "p = d = q = range(0, 3)"
   ]
  },
  {
   "cell_type": "code",
   "execution_count": 31,
   "id": "738186f1",
   "metadata": {},
   "outputs": [],
   "source": [
    "pdq = list(itertools.product(p, d, q))"
   ]
  },
  {
   "cell_type": "code",
   "execution_count": 32,
   "id": "3be36d34",
   "metadata": {},
   "outputs": [],
   "source": [
    "pdqs = [(x[0], x[1], x[2], 12) for x in list(itertools.product(p, d, q))]"
   ]
  },
  {
   "cell_type": "code",
   "execution_count": 33,
   "id": "a88a9c9f",
   "metadata": {},
   "outputs": [
    {
     "data": {
      "text/plain": [
       "[(0, 0, 0, 12),\n",
       " (0, 0, 1, 12),\n",
       " (0, 0, 2, 12),\n",
       " (0, 1, 0, 12),\n",
       " (0, 1, 1, 12),\n",
       " (0, 1, 2, 12),\n",
       " (0, 2, 0, 12),\n",
       " (0, 2, 1, 12),\n",
       " (0, 2, 2, 12),\n",
       " (1, 0, 0, 12),\n",
       " (1, 0, 1, 12),\n",
       " (1, 0, 2, 12),\n",
       " (1, 1, 0, 12),\n",
       " (1, 1, 1, 12),\n",
       " (1, 1, 2, 12),\n",
       " (1, 2, 0, 12),\n",
       " (1, 2, 1, 12),\n",
       " (1, 2, 2, 12),\n",
       " (2, 0, 0, 12),\n",
       " (2, 0, 1, 12),\n",
       " (2, 0, 2, 12),\n",
       " (2, 1, 0, 12),\n",
       " (2, 1, 1, 12),\n",
       " (2, 1, 2, 12),\n",
       " (2, 2, 0, 12),\n",
       " (2, 2, 1, 12),\n",
       " (2, 2, 2, 12)]"
      ]
     },
     "execution_count": 33,
     "metadata": {},
     "output_type": "execute_result"
    }
   ],
   "source": [
    "pdqs"
   ]
  },
  {
   "cell_type": "code",
   "execution_count": 34,
   "id": "262a81cd",
   "metadata": {},
   "outputs": [],
   "source": [
    "ts = indexed_df[['TOTAL_INCIDENTS']]"
   ]
  },
  {
   "cell_type": "code",
   "execution_count": 35,
   "id": "12797df7",
   "metadata": {},
   "outputs": [],
   "source": [
    "def sarimax_gridsearch(ts, pdq, pdqs, maxiter=50, freq='M'):\n",
    "    '''\n",
    "    Input: \n",
    "        ts : your time series data\n",
    "        pdq : ARIMA combinations from above\n",
    "        pdqs : seasonal ARIMA combinations from above\n",
    "        maxiter : number of iterations, increase if your model isn't converging\n",
    "        frequency : default='M' for month. Change to suit your time series frequency\n",
    "            e.g. 'D' for day, 'H' for hour, 'Y' for year. \n",
    "        \n",
    "    Return:\n",
    "        Prints out top 5 parameter combinations\n",
    "        Returns dataframe of parameter combinations ranked by BIC\n",
    "    '''\n",
    "\n",
    "    # Run a grid search with pdq and seasonal pdq parameters and get the best BIC value\n",
    "    ans = []\n",
    "    for comb in pdq:\n",
    "        for combs in pdqs:\n",
    "            try:\n",
    "                mod = sm.tsa.statespace.SARIMAX(ts, # this is your time series you will input\n",
    "                                                order=comb,\n",
    "                                                seasonal_order=combs,\n",
    "                                                enforce_stationarity=False,\n",
    "                                                enforce_invertibility=False,\n",
    "                                                freq=freq)\n",
    "\n",
    "                output = mod.fit(maxiter=maxiter) \n",
    "                ans.append([comb, combs, output.bic])\n",
    "                print('SARIMAX {} x {}12 : BIC Calculated ={}'.format(comb, combs, output.bic))\n",
    "            except:\n",
    "                continue\n",
    "            \n",
    "    # Find the parameters with minimal BIC value\n",
    "\n",
    "    # Convert into dataframe\n",
    "    ans_df = pd.DataFrame(ans, columns=['pdq', 'pdqs', 'bic'])\n",
    "\n",
    "    # Sort and return top 5 combinations\n",
    "    ans_df = ans_df.sort_values(by=['bic'],ascending=True)[0:5]\n",
    "    \n",
    "    return ans_df"
   ]
  },
  {
   "cell_type": "code",
   "execution_count": 36,
   "id": "6328e132",
   "metadata": {},
   "outputs": [
    {
     "name": "stdout",
     "output_type": "stream",
     "text": [
      "SARIMAX (0, 0, 0) x (0, 0, 0, 12)12 : BIC Calculated =5632.579681139644\n",
      "SARIMAX (0, 0, 0) x (0, 0, 1, 12)12 : BIC Calculated =5060.7284005865995\n",
      "SARIMAX (0, 0, 0) x (0, 0, 2, 12)12 : BIC Calculated =4649.074729594643\n",
      "SARIMAX (0, 0, 0) x (0, 1, 0, 12)12 : BIC Calculated =4129.436633407522\n",
      "SARIMAX (0, 0, 0) x (0, 1, 1, 12)12 : BIC Calculated =3896.023586674101\n",
      "SARIMAX (0, 0, 0) x (0, 1, 2, 12)12 : BIC Calculated =3738.149957701243\n",
      "SARIMAX (0, 0, 0) x (0, 2, 0, 12)12 : BIC Calculated =4274.315327047462\n",
      "SARIMAX (0, 0, 0) x (0, 2, 1, 12)12 : BIC Calculated =3852.9006897130953\n",
      "SARIMAX (0, 0, 0) x (0, 2, 2, 12)12 : BIC Calculated =3597.991453411939\n",
      "SARIMAX (0, 0, 0) x (1, 0, 0, 12)12 : BIC Calculated =4149.994502877623\n",
      "SARIMAX (0, 0, 0) x (1, 0, 1, 12)12 : BIC Calculated =4099.261861694904\n",
      "SARIMAX (0, 0, 0) x (1, 0, 2, 12)12 : BIC Calculated =3900.6250163105346\n",
      "SARIMAX (0, 0, 0) x (1, 1, 0, 12)12 : BIC Calculated =3920.866882869581\n",
      "SARIMAX (0, 0, 0) x (1, 1, 1, 12)12 : BIC Calculated =3898.775589001298\n",
      "SARIMAX (0, 0, 0) x (1, 1, 2, 12)12 : BIC Calculated =3742.6141729107203\n",
      "SARIMAX (0, 0, 0) x (1, 2, 0, 12)12 : BIC Calculated =3997.6308239644814\n",
      "SARIMAX (0, 0, 0) x (1, 2, 1, 12)12 : BIC Calculated =3831.969730538657\n",
      "SARIMAX (0, 0, 0) x (1, 2, 2, 12)12 : BIC Calculated =3603.56310148367\n",
      "SARIMAX (0, 0, 0) x (2, 0, 0, 12)12 : BIC Calculated =3925.716993067459\n",
      "SARIMAX (0, 0, 0) x (2, 0, 1, 12)12 : BIC Calculated =3912.6203100883495\n",
      "SARIMAX (0, 0, 0) x (2, 0, 2, 12)12 : BIC Calculated =3906.19258373204\n",
      "SARIMAX (0, 0, 0) x (2, 1, 0, 12)12 : BIC Calculated =3740.131154744534\n",
      "SARIMAX (0, 0, 0) x (2, 1, 1, 12)12 : BIC Calculated =3730.4158255711163\n",
      "SARIMAX (0, 0, 0) x (2, 1, 2, 12)12 : BIC Calculated =3721.673111312743\n",
      "SARIMAX (0, 0, 0) x (2, 2, 0, 12)12 : BIC Calculated =3690.54710958042\n",
      "SARIMAX (0, 0, 0) x (2, 2, 1, 12)12 : BIC Calculated =3632.520258832656\n",
      "SARIMAX (0, 0, 0) x (2, 2, 2, 12)12 : BIC Calculated =3621.5554813210592\n",
      "SARIMAX (0, 0, 1) x (0, 0, 0, 12)12 : BIC Calculated =5202.044866773759\n",
      "SARIMAX (0, 0, 1) x (0, 0, 1, 12)12 : BIC Calculated =4726.150037202196\n",
      "SARIMAX (0, 0, 1) x (0, 0, 2, 12)12 : BIC Calculated =4456.113204105239\n",
      "SARIMAX (0, 0, 1) x (0, 1, 0, 12)12 : BIC Calculated =4006.7855827763924\n",
      "SARIMAX (0, 0, 1) x (0, 1, 1, 12)12 : BIC Calculated =3780.147393957436\n",
      "SARIMAX (0, 0, 1) x (0, 1, 2, 12)12 : BIC Calculated =3625.240110911751\n",
      "SARIMAX (0, 0, 1) x (0, 2, 0, 12)12 : BIC Calculated =4175.854567392717\n",
      "SARIMAX (0, 0, 1) x (0, 2, 1, 12)12 : BIC Calculated =3735.9341141770324\n",
      "SARIMAX (0, 0, 1) x (0, 2, 2, 12)12 : BIC Calculated =3521.121568645022\n",
      "SARIMAX (0, 0, 1) x (1, 0, 0, 12)12 : BIC Calculated =4042.4964705663906\n"
     ]
    },
    {
     "name": "stderr",
     "output_type": "stream",
     "text": [
      "C:\\Users\\aspen\\anaconda3\\lib\\site-packages\\statsmodels\\base\\model.py:566: ConvergenceWarning: Maximum Likelihood optimization failed to converge. Check mle_retvals\n",
      "  warnings.warn(\"Maximum Likelihood optimization failed to \"\n"
     ]
    },
    {
     "name": "stdout",
     "output_type": "stream",
     "text": [
      "SARIMAX (0, 0, 1) x (1, 0, 1, 12)12 : BIC Calculated =4031.7957339432824\n"
     ]
    },
    {
     "name": "stderr",
     "output_type": "stream",
     "text": [
      "C:\\Users\\aspen\\anaconda3\\lib\\site-packages\\statsmodels\\base\\model.py:566: ConvergenceWarning: Maximum Likelihood optimization failed to converge. Check mle_retvals\n",
      "  warnings.warn(\"Maximum Likelihood optimization failed to \"\n"
     ]
    },
    {
     "name": "stdout",
     "output_type": "stream",
     "text": [
      "SARIMAX (0, 0, 1) x (1, 0, 2, 12)12 : BIC Calculated =3795.146647069884\n",
      "SARIMAX (0, 0, 1) x (1, 1, 0, 12)12 : BIC Calculated =3826.0995967426597\n",
      "SARIMAX (0, 0, 1) x (1, 1, 1, 12)12 : BIC Calculated =3782.4265473053206\n",
      "SARIMAX (0, 0, 1) x (1, 1, 2, 12)12 : BIC Calculated =3629.3963414143536\n",
      "SARIMAX (0, 0, 1) x (1, 2, 0, 12)12 : BIC Calculated =3904.530157532956\n",
      "SARIMAX (0, 0, 1) x (1, 2, 1, 12)12 : BIC Calculated =3715.773851536555\n",
      "SARIMAX (0, 0, 1) x (1, 2, 2, 12)12 : BIC Calculated =3526.213617097222\n",
      "SARIMAX (0, 0, 1) x (2, 0, 0, 12)12 : BIC Calculated =3832.030342739044\n",
      "SARIMAX (0, 0, 1) x (2, 0, 1, 12)12 : BIC Calculated =3811.3051202745105\n"
     ]
    },
    {
     "name": "stderr",
     "output_type": "stream",
     "text": [
      "C:\\Users\\aspen\\anaconda3\\lib\\site-packages\\statsmodels\\base\\model.py:566: ConvergenceWarning: Maximum Likelihood optimization failed to converge. Check mle_retvals\n",
      "  warnings.warn(\"Maximum Likelihood optimization failed to \"\n"
     ]
    },
    {
     "name": "stdout",
     "output_type": "stream",
     "text": [
      "SARIMAX (0, 0, 1) x (2, 0, 2, 12)12 : BIC Calculated =3801.8221793640455\n",
      "SARIMAX (0, 0, 1) x (2, 1, 0, 12)12 : BIC Calculated =3649.490453457695\n",
      "SARIMAX (0, 0, 1) x (2, 1, 1, 12)12 : BIC Calculated =3651.388632996275\n",
      "SARIMAX (0, 0, 1) x (2, 1, 2, 12)12 : BIC Calculated =3629.3465946356214\n",
      "SARIMAX (0, 0, 1) x (2, 2, 0, 12)12 : BIC Calculated =3637.493371117812\n",
      "SARIMAX (0, 0, 1) x (2, 2, 1, 12)12 : BIC Calculated =3555.7836929269533\n",
      "SARIMAX (0, 0, 1) x (2, 2, 2, 12)12 : BIC Calculated =3535.0715281760135\n",
      "SARIMAX (0, 0, 2) x (0, 0, 0, 12)12 : BIC Calculated =4893.163036143201\n",
      "SARIMAX (0, 0, 2) x (0, 0, 1, 12)12 : BIC Calculated =4500.600066824611\n",
      "SARIMAX (0, 0, 2) x (0, 0, 2, 12)12 : BIC Calculated =4203.0625688148675\n",
      "SARIMAX (0, 0, 2) x (0, 1, 0, 12)12 : BIC Calculated =3968.197621471961\n",
      "SARIMAX (0, 0, 2) x (0, 1, 1, 12)12 : BIC Calculated =3750.210810433356\n",
      "SARIMAX (0, 0, 2) x (0, 1, 2, 12)12 : BIC Calculated =3592.5115556559613\n",
      "SARIMAX (0, 0, 2) x (0, 2, 0, 12)12 : BIC Calculated =4146.926288482251\n",
      "SARIMAX (0, 0, 2) x (0, 2, 1, 12)12 : BIC Calculated =3706.6509689045197\n",
      "SARIMAX (0, 0, 2) x (0, 2, 2, 12)12 : BIC Calculated =3491.8891444072333\n",
      "SARIMAX (0, 0, 2) x (1, 0, 0, 12)12 : BIC Calculated =4022.5390358510454\n",
      "SARIMAX (0, 0, 2) x (1, 0, 1, 12)12 : BIC Calculated =3915.9363093211073\n"
     ]
    },
    {
     "name": "stderr",
     "output_type": "stream",
     "text": [
      "C:\\Users\\aspen\\anaconda3\\lib\\site-packages\\statsmodels\\base\\model.py:566: ConvergenceWarning: Maximum Likelihood optimization failed to converge. Check mle_retvals\n",
      "  warnings.warn(\"Maximum Likelihood optimization failed to \"\n"
     ]
    },
    {
     "name": "stdout",
     "output_type": "stream",
     "text": [
      "SARIMAX (0, 0, 2) x (1, 0, 2, 12)12 : BIC Calculated =3781.1561684716276\n",
      "SARIMAX (0, 0, 2) x (1, 1, 0, 12)12 : BIC Calculated =3811.107386234282\n",
      "SARIMAX (0, 0, 2) x (1, 1, 1, 12)12 : BIC Calculated =3750.1502203732193\n",
      "SARIMAX (0, 0, 2) x (1, 1, 2, 12)12 : BIC Calculated =3597.257809016125\n",
      "SARIMAX (0, 0, 2) x (1, 2, 0, 12)12 : BIC Calculated =3891.7290612594556\n",
      "SARIMAX (0, 0, 2) x (1, 2, 1, 12)12 : BIC Calculated =3687.1639832271067\n",
      "SARIMAX (0, 0, 2) x (1, 2, 2, 12)12 : BIC Calculated =3497.4614344062493\n"
     ]
    },
    {
     "name": "stderr",
     "output_type": "stream",
     "text": [
      "C:\\Users\\aspen\\anaconda3\\lib\\site-packages\\statsmodels\\base\\model.py:566: ConvergenceWarning: Maximum Likelihood optimization failed to converge. Check mle_retvals\n",
      "  warnings.warn(\"Maximum Likelihood optimization failed to \"\n"
     ]
    },
    {
     "name": "stdout",
     "output_type": "stream",
     "text": [
      "SARIMAX (0, 0, 2) x (2, 0, 0, 12)12 : BIC Calculated =3827.1933135603854\n"
     ]
    },
    {
     "name": "stderr",
     "output_type": "stream",
     "text": [
      "C:\\Users\\aspen\\anaconda3\\lib\\site-packages\\statsmodels\\base\\model.py:566: ConvergenceWarning: Maximum Likelihood optimization failed to converge. Check mle_retvals\n",
      "  warnings.warn(\"Maximum Likelihood optimization failed to \"\n"
     ]
    },
    {
     "name": "stdout",
     "output_type": "stream",
     "text": [
      "SARIMAX (0, 0, 2) x (2, 0, 1, 12)12 : BIC Calculated =3802.6960685081126\n"
     ]
    },
    {
     "name": "stderr",
     "output_type": "stream",
     "text": [
      "C:\\Users\\aspen\\anaconda3\\lib\\site-packages\\statsmodels\\base\\model.py:566: ConvergenceWarning: Maximum Likelihood optimization failed to converge. Check mle_retvals\n",
      "  warnings.warn(\"Maximum Likelihood optimization failed to \"\n"
     ]
    },
    {
     "name": "stdout",
     "output_type": "stream",
     "text": [
      "SARIMAX (0, 0, 2) x (2, 0, 2, 12)12 : BIC Calculated =3775.62968095334\n",
      "SARIMAX (0, 0, 2) x (2, 1, 0, 12)12 : BIC Calculated =3630.269244869783\n",
      "SARIMAX (0, 0, 2) x (2, 1, 1, 12)12 : BIC Calculated =3633.111461226123\n",
      "SARIMAX (0, 0, 2) x (2, 1, 2, 12)12 : BIC Calculated =3593.9608021923236\n",
      "SARIMAX (0, 0, 2) x (2, 2, 0, 12)12 : BIC Calculated =3623.8082217528763\n",
      "SARIMAX (0, 0, 2) x (2, 2, 1, 12)12 : BIC Calculated =3540.4436549140846\n",
      "SARIMAX (0, 0, 2) x (2, 2, 2, 12)12 : BIC Calculated =3501.0811443509233\n",
      "SARIMAX (0, 1, 0) x (0, 0, 0, 12)12 : BIC Calculated =4178.296584830394\n",
      "SARIMAX (0, 1, 0) x (0, 0, 1, 12)12 : BIC Calculated =3975.4797246118515\n",
      "SARIMAX (0, 1, 0) x (0, 0, 2, 12)12 : BIC Calculated =3793.806442375205\n",
      "SARIMAX (0, 1, 0) x (0, 1, 0, 12)12 : BIC Calculated =4019.8701822926564\n",
      "SARIMAX (0, 1, 0) x (0, 1, 1, 12)12 : BIC Calculated =3731.5939805779403\n",
      "SARIMAX (0, 1, 0) x (0, 1, 2, 12)12 : BIC Calculated =3587.2259027936516\n",
      "SARIMAX (0, 1, 0) x (0, 2, 0, 12)12 : BIC Calculated =4215.7722217132405\n",
      "SARIMAX (0, 1, 0) x (0, 2, 1, 12)12 : BIC Calculated =3744.673324261321\n",
      "SARIMAX (0, 1, 0) x (0, 2, 2, 12)12 : BIC Calculated =3494.1954603824515\n",
      "SARIMAX (0, 1, 0) x (1, 0, 0, 12)12 : BIC Calculated =3947.1834153311247\n",
      "SARIMAX (0, 1, 0) x (1, 0, 1, 12)12 : BIC Calculated =3876.8402563150953\n",
      "SARIMAX (0, 1, 0) x (1, 0, 2, 12)12 : BIC Calculated =3748.2025013097887\n",
      "SARIMAX (0, 1, 0) x (1, 1, 0, 12)12 : BIC Calculated =3821.578810518517\n",
      "SARIMAX (0, 1, 0) x (1, 1, 1, 12)12 : BIC Calculated =3737.191003316877\n",
      "SARIMAX (0, 1, 0) x (1, 1, 2, 12)12 : BIC Calculated =3591.9545161684287\n",
      "SARIMAX (0, 1, 0) x (1, 2, 0, 12)12 : BIC Calculated =3904.337091107412\n",
      "SARIMAX (0, 1, 0) x (1, 2, 1, 12)12 : BIC Calculated =3713.7545241523967\n",
      "SARIMAX (0, 1, 0) x (1, 2, 2, 12)12 : BIC Calculated =3499.3165465202155\n",
      "SARIMAX (0, 1, 0) x (2, 0, 0, 12)12 : BIC Calculated =3776.7094843300624\n",
      "SARIMAX (0, 1, 0) x (2, 0, 1, 12)12 : BIC Calculated =3762.029733542234\n",
      "SARIMAX (0, 1, 0) x (2, 0, 2, 12)12 : BIC Calculated =3737.0689929788905\n",
      "SARIMAX (0, 1, 0) x (2, 1, 0, 12)12 : BIC Calculated =3639.2156286982763\n",
      "SARIMAX (0, 1, 0) x (2, 1, 1, 12)12 : BIC Calculated =3592.453018760692\n",
      "SARIMAX (0, 1, 0) x (2, 1, 2, 12)12 : BIC Calculated =3587.187417398111\n",
      "SARIMAX (0, 1, 0) x (2, 2, 0, 12)12 : BIC Calculated =3675.9637731171124\n",
      "SARIMAX (0, 1, 0) x (2, 2, 1, 12)12 : BIC Calculated =3551.2777293842496\n",
      "SARIMAX (0, 1, 0) x (2, 2, 2, 12)12 : BIC Calculated =3492.1398185306393\n",
      "SARIMAX (0, 1, 1) x (0, 0, 0, 12)12 : BIC Calculated =4164.671773319528\n",
      "SARIMAX (0, 1, 1) x (0, 0, 1, 12)12 : BIC Calculated =3942.568510264639\n",
      "SARIMAX (0, 1, 1) x (0, 0, 2, 12)12 : BIC Calculated =3756.565540350129\n",
      "SARIMAX (0, 1, 1) x (0, 1, 0, 12)12 : BIC Calculated =3946.0310529289145\n",
      "SARIMAX (0, 1, 1) x (0, 1, 1, 12)12 : BIC Calculated =3639.5464039453036\n",
      "SARIMAX (0, 1, 1) x (0, 1, 2, 12)12 : BIC Calculated =3497.003385366911\n",
      "SARIMAX (0, 1, 1) x (0, 2, 0, 12)12 : BIC Calculated =4145.853712035246\n",
      "SARIMAX (0, 1, 1) x (0, 2, 1, 12)12 : BIC Calculated =3665.2684201241036\n",
      "SARIMAX (0, 1, 1) x (0, 2, 2, 12)12 : BIC Calculated =3397.382844783336\n",
      "SARIMAX (0, 1, 1) x (1, 0, 0, 12)12 : BIC Calculated =3904.710462026143\n",
      "SARIMAX (0, 1, 1) x (1, 0, 1, 12)12 : BIC Calculated =3799.141591744255\n",
      "SARIMAX (0, 1, 1) x (1, 0, 2, 12)12 : BIC Calculated =3664.8634027501016\n",
      "SARIMAX (0, 1, 1) x (1, 1, 0, 12)12 : BIC Calculated =3735.946186053447\n",
      "SARIMAX (0, 1, 1) x (1, 1, 1, 12)12 : BIC Calculated =3644.7633179088975\n",
      "SARIMAX (0, 1, 1) x (1, 1, 2, 12)12 : BIC Calculated =3501.876661917281\n",
      "SARIMAX (0, 1, 1) x (1, 2, 0, 12)12 : BIC Calculated =3830.576313876639\n",
      "SARIMAX (0, 1, 1) x (1, 2, 1, 12)12 : BIC Calculated =3620.3063573088657\n",
      "SARIMAX (0, 1, 1) x (1, 2, 2, 12)12 : BIC Calculated =3399.3717032038985\n",
      "SARIMAX (0, 1, 1) x (2, 0, 0, 12)12 : BIC Calculated =3712.1600325801596\n",
      "SARIMAX (0, 1, 1) x (2, 0, 1, 12)12 : BIC Calculated =3688.319233004529\n",
      "SARIMAX (0, 1, 1) x (2, 0, 2, 12)12 : BIC Calculated =3656.5018409162412\n",
      "SARIMAX (0, 1, 1) x (2, 1, 0, 12)12 : BIC Calculated =3546.6637704755635\n",
      "SARIMAX (0, 1, 1) x (2, 1, 1, 12)12 : BIC Calculated =3518.39579074085\n",
      "SARIMAX (0, 1, 1) x (2, 1, 2, 12)12 : BIC Calculated =3497.045318197367\n",
      "SARIMAX (0, 1, 1) x (2, 2, 0, 12)12 : BIC Calculated =3584.642180317908\n",
      "SARIMAX (0, 1, 1) x (2, 2, 1, 12)12 : BIC Calculated =3462.711128478781\n"
     ]
    },
    {
     "name": "stderr",
     "output_type": "stream",
     "text": [
      "C:\\Users\\aspen\\anaconda3\\lib\\site-packages\\statsmodels\\base\\model.py:566: ConvergenceWarning: Maximum Likelihood optimization failed to converge. Check mle_retvals\n",
      "  warnings.warn(\"Maximum Likelihood optimization failed to \"\n"
     ]
    },
    {
     "name": "stdout",
     "output_type": "stream",
     "text": [
      "SARIMAX (0, 1, 1) x (2, 2, 2, 12)12 : BIC Calculated =3402.8635899436395\n",
      "SARIMAX (0, 1, 2) x (0, 0, 0, 12)12 : BIC Calculated =4131.978475278132\n",
      "SARIMAX (0, 1, 2) x (0, 0, 1, 12)12 : BIC Calculated =3917.7284560507032\n",
      "SARIMAX (0, 1, 2) x (0, 0, 2, 12)12 : BIC Calculated =3730.425554568218\n",
      "SARIMAX (0, 1, 2) x (0, 1, 0, 12)12 : BIC Calculated =3936.2949690926243\n",
      "SARIMAX (0, 1, 2) x (0, 1, 1, 12)12 : BIC Calculated =3631.7519391539154\n",
      "SARIMAX (0, 1, 2) x (0, 1, 2, 12)12 : BIC Calculated =3486.4294232835937\n",
      "SARIMAX (0, 1, 2) x (0, 2, 0, 12)12 : BIC Calculated =4135.38778124457\n",
      "SARIMAX (0, 1, 2) x (0, 2, 1, 12)12 : BIC Calculated =3654.8930281254325\n",
      "SARIMAX (0, 1, 2) x (0, 2, 2, 12)12 : BIC Calculated =3391.062465988071\n",
      "SARIMAX (0, 1, 2) x (1, 0, 0, 12)12 : BIC Calculated =3899.024045491503\n",
      "SARIMAX (0, 1, 2) x (1, 0, 1, 12)12 : BIC Calculated =3789.8525152058182\n",
      "SARIMAX (0, 1, 2) x (1, 0, 2, 12)12 : BIC Calculated =3655.001053805771\n",
      "SARIMAX (0, 1, 2) x (1, 1, 0, 12)12 : BIC Calculated =3740.8824901313114\n",
      "SARIMAX (0, 1, 2) x (1, 1, 1, 12)12 : BIC Calculated =3636.179245434775\n",
      "SARIMAX (0, 1, 2) x (1, 1, 2, 12)12 : BIC Calculated =3491.823823023554\n",
      "SARIMAX (0, 1, 2) x (1, 2, 0, 12)12 : BIC Calculated =3834.3600761933985\n",
      "SARIMAX (0, 1, 2) x (1, 2, 1, 12)12 : BIC Calculated =3612.536398897906\n",
      "SARIMAX (0, 1, 2) x (1, 2, 2, 12)12 : BIC Calculated =3392.649079359336\n",
      "SARIMAX (0, 1, 2) x (2, 0, 0, 12)12 : BIC Calculated =3714.1730355397035\n",
      "SARIMAX (0, 1, 2) x (2, 0, 1, 12)12 : BIC Calculated =3688.7474956465203\n",
      "SARIMAX (0, 1, 2) x (2, 0, 2, 12)12 : BIC Calculated =3647.484970762408\n",
      "SARIMAX (0, 1, 2) x (2, 1, 0, 12)12 : BIC Calculated =3550.893023850726\n",
      "SARIMAX (0, 1, 2) x (2, 1, 1, 12)12 : BIC Calculated =3519.2414853261316\n",
      "SARIMAX (0, 1, 2) x (2, 1, 2, 12)12 : BIC Calculated =3487.747588155332\n",
      "SARIMAX (0, 1, 2) x (2, 2, 0, 12)12 : BIC Calculated =3590.1384468171914\n",
      "SARIMAX (0, 1, 2) x (2, 2, 1, 12)12 : BIC Calculated =3467.339126976066\n",
      "SARIMAX (0, 1, 2) x (2, 2, 2, 12)12 : BIC Calculated =3395.4172319688023\n",
      "SARIMAX (0, 2, 0) x (0, 0, 0, 12)12 : BIC Calculated =4458.410970571013\n",
      "SARIMAX (0, 2, 0) x (0, 0, 1, 12)12 : BIC Calculated =4265.598882771844\n",
      "SARIMAX (0, 2, 0) x (0, 0, 2, 12)12 : BIC Calculated =4080.3279744191486\n",
      "SARIMAX (0, 2, 0) x (0, 1, 0, 12)12 : BIC Calculated =4343.9640143876295\n",
      "SARIMAX (0, 2, 0) x (0, 1, 1, 12)12 : BIC Calculated =4051.431438682032\n",
      "SARIMAX (0, 2, 0) x (0, 1, 2, 12)12 : BIC Calculated =3893.0241969731815\n",
      "SARIMAX (0, 2, 0) x (0, 2, 0, 12)12 : BIC Calculated =4525.438889425526\n",
      "SARIMAX (0, 2, 0) x (0, 2, 1, 12)12 : BIC Calculated =4047.1902761916217\n",
      "SARIMAX (0, 2, 0) x (0, 2, 2, 12)12 : BIC Calculated =3796.572069929974\n",
      "SARIMAX (0, 2, 0) x (1, 0, 0, 12)12 : BIC Calculated =4254.9878742199635\n",
      "SARIMAX (0, 2, 0) x (1, 0, 1, 12)12 : BIC Calculated =4198.911209357088\n",
      "SARIMAX (0, 2, 0) x (1, 0, 2, 12)12 : BIC Calculated =4060.6357403995357\n",
      "SARIMAX (0, 2, 0) x (1, 1, 0, 12)12 : BIC Calculated =4146.872126152616\n",
      "SARIMAX (0, 2, 0) x (1, 1, 1, 12)12 : BIC Calculated =4056.659022716384\n",
      "SARIMAX (0, 2, 0) x (1, 1, 2, 12)12 : BIC Calculated =3898.7951371709996\n",
      "SARIMAX (0, 2, 0) x (1, 2, 0, 12)12 : BIC Calculated =4208.916313599337\n",
      "SARIMAX (0, 2, 0) x (1, 2, 1, 12)12 : BIC Calculated =4018.0707735948504\n",
      "SARIMAX (0, 2, 0) x (1, 2, 2, 12)12 : BIC Calculated =3800.9517628082676\n",
      "SARIMAX (0, 2, 0) x (2, 0, 0, 12)12 : BIC Calculated =4081.145614508056\n",
      "SARIMAX (0, 2, 0) x (2, 0, 1, 12)12 : BIC Calculated =4080.663514340569\n",
      "SARIMAX (0, 2, 0) x (2, 0, 2, 12)12 : BIC Calculated =4050.986075826779\n",
      "SARIMAX (0, 2, 0) x (2, 1, 0, 12)12 : BIC Calculated =3956.1233130340675\n",
      "SARIMAX (0, 2, 0) x (2, 1, 1, 12)12 : BIC Calculated =3897.228675586124\n",
      "SARIMAX (0, 2, 0) x (2, 1, 2, 12)12 : BIC Calculated =3885.0519294367205\n",
      "SARIMAX (0, 2, 0) x (2, 2, 0, 12)12 : BIC Calculated =3985.5325034710713\n",
      "SARIMAX (0, 2, 0) x (2, 2, 1, 12)12 : BIC Calculated =3854.2422175024362\n",
      "SARIMAX (0, 2, 0) x (2, 2, 2, 12)12 : BIC Calculated =3786.3142917505374\n",
      "SARIMAX (0, 2, 1) x (0, 0, 0, 12)12 : BIC Calculated =4167.514643297606\n",
      "SARIMAX (0, 2, 1) x (0, 0, 1, 12)12 : BIC Calculated =3963.32597486902\n",
      "SARIMAX (0, 2, 1) x (0, 0, 2, 12)12 : BIC Calculated =3780.2621547577764\n",
      "SARIMAX (0, 2, 1) x (0, 1, 0, 12)12 : BIC Calculated =4008.081019065046\n",
      "SARIMAX (0, 2, 1) x (0, 1, 1, 12)12 : BIC Calculated =3719.6497860751842\n",
      "SARIMAX (0, 2, 1) x (0, 1, 2, 12)12 : BIC Calculated =3571.727302095418\n",
      "SARIMAX (0, 2, 1) x (0, 2, 0, 12)12 : BIC Calculated =4199.3111160322505\n",
      "SARIMAX (0, 2, 1) x (0, 2, 1, 12)12 : BIC Calculated =3725.4732873100347\n",
      "SARIMAX (0, 2, 1) x (0, 2, 2, 12)12 : BIC Calculated =3487.3545289919234\n",
      "SARIMAX (0, 2, 1) x (1, 0, 0, 12)12 : BIC Calculated =3948.496555463654\n",
      "SARIMAX (0, 2, 1) x (1, 0, 1, 12)12 : BIC Calculated =3868.8332875184183\n",
      "SARIMAX (0, 2, 1) x (1, 0, 2, 12)12 : BIC Calculated =3736.80873686937\n",
      "SARIMAX (0, 2, 1) x (1, 1, 0, 12)12 : BIC Calculated =3822.5218512286847\n",
      "SARIMAX (0, 2, 1) x (1, 1, 1, 12)12 : BIC Calculated =3725.3899807241196\n",
      "SARIMAX (0, 2, 1) x (1, 1, 2, 12)12 : BIC Calculated =3577.25914203364\n",
      "SARIMAX (0, 2, 1) x (1, 2, 0, 12)12 : BIC Calculated =3903.723965236335\n",
      "SARIMAX (0, 2, 1) x (1, 2, 1, 12)12 : BIC Calculated =3695.526222146993\n"
     ]
    },
    {
     "name": "stderr",
     "output_type": "stream",
     "text": [
      "C:\\Users\\aspen\\anaconda3\\lib\\site-packages\\statsmodels\\base\\model.py:566: ConvergenceWarning: Maximum Likelihood optimization failed to converge. Check mle_retvals\n",
      "  warnings.warn(\"Maximum Likelihood optimization failed to \"\n"
     ]
    },
    {
     "name": "stdout",
     "output_type": "stream",
     "text": [
      "SARIMAX (0, 2, 1) x (1, 2, 2, 12)12 : BIC Calculated =3492.6344056207604\n",
      "SARIMAX (0, 2, 1) x (2, 0, 0, 12)12 : BIC Calculated =3777.69765966198\n",
      "SARIMAX (0, 2, 1) x (2, 0, 1, 12)12 : BIC Calculated =3765.2398297189707\n",
      "SARIMAX (0, 2, 1) x (2, 0, 2, 12)12 : BIC Calculated =3726.262339229048\n",
      "SARIMAX (0, 2, 1) x (2, 1, 0, 12)12 : BIC Calculated =3639.333557879758\n",
      "SARIMAX (0, 2, 1) x (2, 1, 1, 12)12 : BIC Calculated =3598.609150181585\n",
      "SARIMAX (0, 2, 1) x (2, 1, 2, 12)12 : BIC Calculated =3570.5633655528422\n",
      "SARIMAX (0, 2, 1) x (2, 2, 0, 12)12 : BIC Calculated =3675.93072815528\n",
      "SARIMAX (0, 2, 1) x (2, 2, 1, 12)12 : BIC Calculated =3554.7032139684807\n",
      "SARIMAX (0, 2, 1) x (2, 2, 2, 12)12 : BIC Calculated =3492.942334803322\n",
      "SARIMAX (0, 2, 2) x (0, 0, 0, 12)12 : BIC Calculated =4153.818943569857\n",
      "SARIMAX (0, 2, 2) x (0, 0, 1, 12)12 : BIC Calculated =3930.258078532624\n",
      "SARIMAX (0, 2, 2) x (0, 0, 2, 12)12 : BIC Calculated =3744.707661221721\n",
      "SARIMAX (0, 2, 2) x (0, 1, 0, 12)12 : BIC Calculated =3936.6184788394685\n",
      "SARIMAX (0, 2, 2) x (0, 1, 1, 12)12 : BIC Calculated =3632.5204017076726\n",
      "SARIMAX (0, 2, 2) x (0, 1, 2, 12)12 : BIC Calculated =3482.608980824341\n",
      "SARIMAX (0, 2, 2) x (0, 2, 0, 12)12 : BIC Calculated =4133.297310002636\n",
      "SARIMAX (0, 2, 2) x (0, 2, 1, 12)12 : BIC Calculated =3652.9065243254076\n",
      "SARIMAX (0, 2, 2) x (0, 2, 2, 12)12 : BIC Calculated =3393.988897735915\n",
      "SARIMAX (0, 2, 2) x (1, 0, 0, 12)12 : BIC Calculated =3907.530870231488\n",
      "SARIMAX (0, 2, 2) x (1, 0, 1, 12)12 : BIC Calculated =3792.1638164655474\n",
      "SARIMAX (0, 2, 2) x (1, 0, 2, 12)12 : BIC Calculated =3655.4947575595143\n",
      "SARIMAX (0, 2, 2) x (1, 1, 0, 12)12 : BIC Calculated =3738.9020617862143\n",
      "SARIMAX (0, 2, 2) x (1, 1, 1, 12)12 : BIC Calculated =3635.3982606750183\n",
      "SARIMAX (0, 2, 2) x (1, 1, 2, 12)12 : BIC Calculated =3488.329339818726\n",
      "SARIMAX (0, 2, 2) x (1, 2, 0, 12)12 : BIC Calculated =3831.9629561207753\n",
      "SARIMAX (0, 2, 2) x (1, 2, 1, 12)12 : BIC Calculated =3609.1616416463944\n"
     ]
    },
    {
     "name": "stderr",
     "output_type": "stream",
     "text": [
      "C:\\Users\\aspen\\anaconda3\\lib\\site-packages\\statsmodels\\base\\model.py:566: ConvergenceWarning: Maximum Likelihood optimization failed to converge. Check mle_retvals\n",
      "  warnings.warn(\"Maximum Likelihood optimization failed to \"\n"
     ]
    },
    {
     "name": "stdout",
     "output_type": "stream",
     "text": [
      "SARIMAX (0, 2, 2) x (1, 2, 2, 12)12 : BIC Calculated =3395.795739559289\n",
      "SARIMAX (0, 2, 2) x (2, 0, 0, 12)12 : BIC Calculated =3715.11564269938\n",
      "SARIMAX (0, 2, 2) x (2, 0, 1, 12)12 : BIC Calculated =3692.689683107348\n"
     ]
    },
    {
     "name": "stderr",
     "output_type": "stream",
     "text": [
      "C:\\Users\\aspen\\anaconda3\\lib\\site-packages\\statsmodels\\base\\model.py:566: ConvergenceWarning: Maximum Likelihood optimization failed to converge. Check mle_retvals\n",
      "  warnings.warn(\"Maximum Likelihood optimization failed to \"\n"
     ]
    },
    {
     "name": "stdout",
     "output_type": "stream",
     "text": [
      "SARIMAX (0, 2, 2) x (2, 0, 2, 12)12 : BIC Calculated =3646.8001877798874\n",
      "SARIMAX (0, 2, 2) x (2, 1, 0, 12)12 : BIC Calculated =3549.616611956501\n",
      "SARIMAX (0, 2, 2) x (2, 1, 1, 12)12 : BIC Calculated =3529.2829159437783\n"
     ]
    },
    {
     "name": "stderr",
     "output_type": "stream",
     "text": [
      "C:\\Users\\aspen\\anaconda3\\lib\\site-packages\\statsmodels\\base\\model.py:566: ConvergenceWarning: Maximum Likelihood optimization failed to converge. Check mle_retvals\n",
      "  warnings.warn(\"Maximum Likelihood optimization failed to \"\n"
     ]
    },
    {
     "name": "stdout",
     "output_type": "stream",
     "text": [
      "SARIMAX (0, 2, 2) x (2, 1, 2, 12)12 : BIC Calculated =3484.567793913226\n",
      "SARIMAX (0, 2, 2) x (2, 2, 0, 12)12 : BIC Calculated =3587.846152818311\n",
      "SARIMAX (0, 2, 2) x (2, 2, 1, 12)12 : BIC Calculated =3469.683139792802\n"
     ]
    },
    {
     "name": "stderr",
     "output_type": "stream",
     "text": [
      "C:\\Users\\aspen\\anaconda3\\lib\\site-packages\\statsmodels\\base\\model.py:566: ConvergenceWarning: Maximum Likelihood optimization failed to converge. Check mle_retvals\n",
      "  warnings.warn(\"Maximum Likelihood optimization failed to \"\n"
     ]
    },
    {
     "name": "stdout",
     "output_type": "stream",
     "text": [
      "SARIMAX (0, 2, 2) x (2, 2, 2, 12)12 : BIC Calculated =3479.5943349664253\n",
      "SARIMAX (1, 0, 0) x (0, 0, 0, 12)12 : BIC Calculated =4193.672270558043\n",
      "SARIMAX (1, 0, 0) x (0, 0, 1, 12)12 : BIC Calculated =3989.9124105079804\n",
      "SARIMAX (1, 0, 0) x (0, 0, 2, 12)12 : BIC Calculated =3807.3048974495337\n",
      "SARIMAX (1, 0, 0) x (0, 1, 0, 12)12 : BIC Calculated =3962.5262785830214\n",
      "SARIMAX (1, 0, 0) x (0, 1, 1, 12)12 : BIC Calculated =3703.7006385379805\n",
      "SARIMAX (1, 0, 0) x (0, 1, 2, 12)12 : BIC Calculated =3553.964286445963\n",
      "SARIMAX (1, 0, 0) x (0, 2, 0, 12)12 : BIC Calculated =4151.428702180356\n",
      "SARIMAX (1, 0, 0) x (0, 2, 1, 12)12 : BIC Calculated =3690.8929286051152\n",
      "SARIMAX (1, 0, 0) x (0, 2, 2, 12)12 : BIC Calculated =3466.276110479967\n",
      "SARIMAX (1, 0, 0) x (1, 0, 0, 12)12 : BIC Calculated =3948.0936494902526\n",
      "SARIMAX (1, 0, 0) x (1, 0, 1, 12)12 : BIC Calculated =3859.764823219558\n",
      "SARIMAX (1, 0, 0) x (1, 0, 2, 12)12 : BIC Calculated =3722.286489673152\n",
      "SARIMAX (1, 0, 0) x (1, 1, 0, 12)12 : BIC Calculated =3753.7972424854884\n",
      "SARIMAX (1, 0, 0) x (1, 1, 1, 12)12 : BIC Calculated =3708.692550019779\n",
      "SARIMAX (1, 0, 0) x (1, 1, 2, 12)12 : BIC Calculated =3559.6100001718273\n",
      "SARIMAX (1, 0, 0) x (1, 2, 0, 12)12 : BIC Calculated =3832.98456012969\n",
      "SARIMAX (1, 0, 0) x (1, 2, 1, 12)12 : BIC Calculated =3663.181651254872\n",
      "SARIMAX (1, 0, 0) x (1, 2, 2, 12)12 : BIC Calculated =3471.492473162702\n",
      "SARIMAX (1, 0, 0) x (2, 0, 0, 12)12 : BIC Calculated =3758.7366969505733\n",
      "SARIMAX (1, 0, 0) x (2, 0, 1, 12)12 : BIC Calculated =3724.7321142681717\n",
      "SARIMAX (1, 0, 0) x (2, 0, 2, 12)12 : BIC Calculated =3717.711559639373\n",
      "SARIMAX (1, 0, 0) x (2, 1, 0, 12)12 : BIC Calculated =3577.1405691641235\n",
      "SARIMAX (1, 0, 0) x (2, 1, 1, 12)12 : BIC Calculated =3554.0380735685417\n",
      "SARIMAX (1, 0, 0) x (2, 1, 2, 12)12 : BIC Calculated =3559.616928833443\n",
      "SARIMAX (1, 0, 0) x (2, 2, 0, 12)12 : BIC Calculated =3593.0782145808303\n",
      "SARIMAX (1, 0, 0) x (2, 2, 1, 12)12 : BIC Calculated =3488.8271881976398\n",
      "SARIMAX (1, 0, 0) x (2, 2, 2, 12)12 : BIC Calculated =3470.727995961704\n",
      "SARIMAX (1, 0, 1) x (0, 0, 0, 12)12 : BIC Calculated =4180.643495661048\n",
      "SARIMAX (1, 0, 1) x (0, 0, 1, 12)12 : BIC Calculated =3959.911728564597\n",
      "SARIMAX (1, 0, 1) x (0, 0, 2, 12)12 : BIC Calculated =3772.270363240171\n",
      "SARIMAX (1, 0, 1) x (0, 1, 0, 12)12 : BIC Calculated =3938.8633946584237\n",
      "SARIMAX (1, 0, 1) x (0, 1, 1, 12)12 : BIC Calculated =3648.16951527995\n",
      "SARIMAX (1, 0, 1) x (0, 1, 2, 12)12 : BIC Calculated =3509.1619789096\n",
      "SARIMAX (1, 0, 1) x (0, 2, 0, 12)12 : BIC Calculated =4136.6911590612835\n",
      "SARIMAX (1, 0, 1) x (0, 2, 1, 12)12 : BIC Calculated =3662.0463280994354\n",
      "SARIMAX (1, 0, 1) x (0, 2, 2, 12)12 : BIC Calculated =3405.8464560655207\n",
      "SARIMAX (1, 0, 1) x (1, 0, 0, 12)12 : BIC Calculated =3908.7573014293034\n",
      "SARIMAX (1, 0, 1) x (1, 0, 1, 12)12 : BIC Calculated =3806.0538047826317\n",
      "SARIMAX (1, 0, 1) x (1, 0, 2, 12)12 : BIC Calculated =3680.019286153137\n",
      "SARIMAX (1, 0, 1) x (1, 1, 0, 12)12 : BIC Calculated =3724.4787668124964\n",
      "SARIMAX (1, 0, 1) x (1, 1, 1, 12)12 : BIC Calculated =3653.9350460321066\n",
      "SARIMAX (1, 0, 1) x (1, 1, 2, 12)12 : BIC Calculated =3511.618109389645\n",
      "SARIMAX (1, 0, 1) x (1, 2, 0, 12)12 : BIC Calculated =3813.794498469521\n",
      "SARIMAX (1, 0, 1) x (1, 2, 1, 12)12 : BIC Calculated =3620.116093024251\n",
      "SARIMAX (1, 0, 1) x (1, 2, 2, 12)12 : BIC Calculated =3411.319560823167\n",
      "SARIMAX (1, 0, 1) x (2, 0, 0, 12)12 : BIC Calculated =3715.4722524109034\n",
      "SARIMAX (1, 0, 1) x (2, 0, 1, 12)12 : BIC Calculated =3689.8592550217586\n",
      "SARIMAX (1, 0, 1) x (2, 0, 2, 12)12 : BIC Calculated =3665.79172333565\n",
      "SARIMAX (1, 0, 1) x (2, 1, 0, 12)12 : BIC Calculated =3543.324577029927\n",
      "SARIMAX (1, 0, 1) x (2, 1, 1, 12)12 : BIC Calculated =3515.6891407987105\n",
      "SARIMAX (1, 0, 1) x (2, 1, 2, 12)12 : BIC Calculated =3511.6844699423937\n",
      "SARIMAX (1, 0, 1) x (2, 2, 0, 12)12 : BIC Calculated =3573.0280804497156\n",
      "SARIMAX (1, 0, 1) x (2, 2, 1, 12)12 : BIC Calculated =3456.189537544055\n",
      "SARIMAX (1, 0, 1) x (2, 2, 2, 12)12 : BIC Calculated =3412.8878420300084\n",
      "SARIMAX (1, 0, 2) x (0, 0, 0, 12)12 : BIC Calculated =4148.343086200443\n",
      "SARIMAX (1, 0, 2) x (0, 0, 1, 12)12 : BIC Calculated =3934.3020224179895\n",
      "SARIMAX (1, 0, 2) x (0, 0, 2, 12)12 : BIC Calculated =3748.6958132090313\n",
      "SARIMAX (1, 0, 2) x (0, 1, 0, 12)12 : BIC Calculated =3926.7041992041027\n",
      "SARIMAX (1, 0, 2) x (0, 1, 1, 12)12 : BIC Calculated =3638.5515140084417\n",
      "SARIMAX (1, 0, 2) x (0, 1, 2, 12)12 : BIC Calculated =3500.8764544352302\n",
      "SARIMAX (1, 0, 2) x (0, 2, 0, 12)12 : BIC Calculated =4123.79530315668\n",
      "SARIMAX (1, 0, 2) x (0, 2, 1, 12)12 : BIC Calculated =3654.3432584360125\n",
      "SARIMAX (1, 0, 2) x (0, 2, 2, 12)12 : BIC Calculated =3399.545132020631\n",
      "SARIMAX (1, 0, 2) x (1, 0, 0, 12)12 : BIC Calculated =3904.0330609986286\n",
      "SARIMAX (1, 0, 2) x (1, 0, 1, 12)12 : BIC Calculated =3794.718738875158\n",
      "SARIMAX (1, 0, 2) x (1, 0, 2, 12)12 : BIC Calculated =3671.9115850823537\n",
      "SARIMAX (1, 0, 2) x (1, 1, 0, 12)12 : BIC Calculated =3730.011057056702\n",
      "SARIMAX (1, 0, 2) x (1, 1, 1, 12)12 : BIC Calculated =3644.293814688719\n",
      "SARIMAX (1, 0, 2) x (1, 1, 2, 12)12 : BIC Calculated =3505.298297860302\n",
      "SARIMAX (1, 0, 2) x (1, 2, 0, 12)12 : BIC Calculated =3818.554566302581\n",
      "SARIMAX (1, 0, 2) x (1, 2, 1, 12)12 : BIC Calculated =3613.72172565436\n",
      "SARIMAX (1, 0, 2) x (1, 2, 2, 12)12 : BIC Calculated =3405.1506963778247\n",
      "SARIMAX (1, 0, 2) x (2, 0, 0, 12)12 : BIC Calculated =3718.347517501536\n",
      "SARIMAX (1, 0, 2) x (2, 0, 1, 12)12 : BIC Calculated =3691.6593372695734\n",
      "SARIMAX (1, 0, 2) x (2, 0, 2, 12)12 : BIC Calculated =3658.8138128813953\n",
      "SARIMAX (1, 0, 2) x (2, 1, 0, 12)12 : BIC Calculated =3548.54463749609\n",
      "SARIMAX (1, 0, 2) x (2, 1, 1, 12)12 : BIC Calculated =3517.8760965041224\n",
      "SARIMAX (1, 0, 2) x (2, 1, 2, 12)12 : BIC Calculated =3498.1756404653624\n",
      "SARIMAX (1, 0, 2) x (2, 2, 0, 12)12 : BIC Calculated =3578.5939935511474\n",
      "SARIMAX (1, 0, 2) x (2, 2, 1, 12)12 : BIC Calculated =3461.532284546705\n",
      "SARIMAX (1, 0, 2) x (2, 2, 2, 12)12 : BIC Calculated =3406.761780105258\n",
      "SARIMAX (1, 1, 0) x (0, 0, 0, 12)12 : BIC Calculated =4177.813908882261\n",
      "SARIMAX (1, 1, 0) x (0, 0, 1, 12)12 : BIC Calculated =3964.5683750585126\n",
      "SARIMAX (1, 1, 0) x (0, 0, 2, 12)12 : BIC Calculated =3782.17826361746\n",
      "SARIMAX (1, 1, 0) x (0, 1, 0, 12)12 : BIC Calculated =3986.8728580260263\n",
      "SARIMAX (1, 1, 0) x (0, 1, 1, 12)12 : BIC Calculated =3693.0098925917955\n",
      "SARIMAX (1, 1, 0) x (0, 1, 2, 12)12 : BIC Calculated =3551.9150126487825\n",
      "SARIMAX (1, 1, 0) x (0, 2, 0, 12)12 : BIC Calculated =4186.566780559592\n",
      "SARIMAX (1, 1, 0) x (0, 2, 1, 12)12 : BIC Calculated =3712.321854463162\n",
      "SARIMAX (1, 1, 0) x (0, 2, 2, 12)12 : BIC Calculated =3450.166668419869\n",
      "SARIMAX (1, 1, 0) x (1, 0, 0, 12)12 : BIC Calculated =3914.8407656259196\n",
      "SARIMAX (1, 1, 0) x (1, 0, 1, 12)12 : BIC Calculated =3844.465014646573\n",
      "SARIMAX (1, 1, 0) x (1, 0, 2, 12)12 : BIC Calculated =3714.3808293928864\n",
      "SARIMAX (1, 1, 0) x (1, 1, 0, 12)12 : BIC Calculated =3765.8755748053954\n",
      "SARIMAX (1, 1, 0) x (1, 1, 1, 12)12 : BIC Calculated =3698.7579620098063\n",
      "SARIMAX (1, 1, 0) x (1, 1, 2, 12)12 : BIC Calculated =3554.2037300361753\n",
      "SARIMAX (1, 1, 0) x (1, 2, 0, 12)12 : BIC Calculated =3857.7829483244877\n",
      "SARIMAX (1, 1, 0) x (1, 2, 1, 12)12 : BIC Calculated =3674.010278211938\n",
      "SARIMAX (1, 1, 0) x (1, 2, 2, 12)12 : BIC Calculated =3455.5025468553717\n",
      "SARIMAX (1, 1, 0) x (2, 0, 0, 12)12 : BIC Calculated =3734.6545502045524\n",
      "SARIMAX (1, 1, 0) x (2, 0, 1, 12)12 : BIC Calculated =3715.6473465807785\n",
      "SARIMAX (1, 1, 0) x (2, 0, 2, 12)12 : BIC Calculated =3701.7210083698565\n",
      "SARIMAX (1, 1, 0) x (2, 1, 0, 12)12 : BIC Calculated =3579.4085407525054\n",
      "SARIMAX (1, 1, 0) x (2, 1, 1, 12)12 : BIC Calculated =3549.671340964965\n",
      "SARIMAX (1, 1, 0) x (2, 1, 2, 12)12 : BIC Calculated =3554.9633604210435\n",
      "SARIMAX (1, 1, 0) x (2, 2, 0, 12)12 : BIC Calculated =3606.6345751479985\n",
      "SARIMAX (1, 1, 0) x (2, 2, 1, 12)12 : BIC Calculated =3492.600657448976\n",
      "SARIMAX (1, 1, 0) x (2, 2, 2, 12)12 : BIC Calculated =3455.249245330518\n",
      "SARIMAX (1, 1, 1) x (0, 0, 0, 12)12 : BIC Calculated =4121.982501361504\n",
      "SARIMAX (1, 1, 1) x (0, 0, 1, 12)12 : BIC Calculated =3908.9195209540803\n",
      "SARIMAX (1, 1, 1) x (0, 0, 2, 12)12 : BIC Calculated =3731.849493541759\n",
      "SARIMAX (1, 1, 1) x (0, 1, 0, 12)12 : BIC Calculated =3947.4583142957\n",
      "SARIMAX (1, 1, 1) x (0, 1, 1, 12)12 : BIC Calculated =3643.4927891460943\n"
     ]
    },
    {
     "name": "stdout",
     "output_type": "stream",
     "text": [
      "SARIMAX (1, 1, 1) x (0, 1, 2, 12)12 : BIC Calculated =3500.0513478830667\n",
      "SARIMAX (1, 1, 1) x (0, 2, 0, 12)12 : BIC Calculated =4147.662966776517\n",
      "SARIMAX (1, 1, 1) x (0, 2, 1, 12)12 : BIC Calculated =3669.8131475043506\n",
      "SARIMAX (1, 1, 1) x (0, 2, 2, 12)12 : BIC Calculated =3401.5148766259526\n",
      "SARIMAX (1, 1, 1) x (1, 0, 0, 12)12 : BIC Calculated =3880.0240884670557\n",
      "SARIMAX (1, 1, 1) x (1, 0, 1, 12)12 : BIC Calculated =3800.606299376231\n",
      "SARIMAX (1, 1, 1) x (1, 0, 2, 12)12 : BIC Calculated =3666.423215423647\n",
      "SARIMAX (1, 1, 1) x (1, 1, 0, 12)12 : BIC Calculated =3730.4151396223224\n",
      "SARIMAX (1, 1, 1) x (1, 1, 1, 12)12 : BIC Calculated =3647.699041985223\n",
      "SARIMAX (1, 1, 1) x (1, 1, 2, 12)12 : BIC Calculated =3505.466278362782\n",
      "SARIMAX (1, 1, 1) x (1, 2, 0, 12)12 : BIC Calculated =3823.9805601943335\n",
      "SARIMAX (1, 1, 1) x (1, 2, 1, 12)12 : BIC Calculated =3625.3712322511174\n",
      "SARIMAX (1, 1, 1) x (1, 2, 2, 12)12 : BIC Calculated =3403.971564830441\n",
      "SARIMAX (1, 1, 1) x (2, 0, 0, 12)12 : BIC Calculated =3704.3377408935416\n",
      "SARIMAX (1, 1, 1) x (2, 0, 1, 12)12 : BIC Calculated =3677.341297359879\n",
      "SARIMAX (1, 1, 1) x (2, 0, 2, 12)12 : BIC Calculated =3659.825974691523\n",
      "SARIMAX (1, 1, 1) x (2, 1, 0, 12)12 : BIC Calculated =3540.8101372247024\n",
      "SARIMAX (1, 1, 1) x (2, 1, 1, 12)12 : BIC Calculated =3512.5223137514927\n",
      "SARIMAX (1, 1, 1) x (2, 1, 2, 12)12 : BIC Calculated =3506.635928266538\n",
      "SARIMAX (1, 1, 1) x (2, 2, 0, 12)12 : BIC Calculated =3579.311968159965\n",
      "SARIMAX (1, 1, 1) x (2, 2, 1, 12)12 : BIC Calculated =3456.681067778804\n",
      "SARIMAX (1, 1, 1) x (2, 2, 2, 12)12 : BIC Calculated =3405.553462123553\n",
      "SARIMAX (1, 1, 2) x (0, 0, 0, 12)12 : BIC Calculated =4114.1589266755045\n",
      "SARIMAX (1, 1, 2) x (0, 0, 1, 12)12 : BIC Calculated =3904.789853979432\n",
      "SARIMAX (1, 1, 2) x (0, 0, 2, 12)12 : BIC Calculated =3725.622090577513\n",
      "SARIMAX (1, 1, 2) x (0, 1, 0, 12)12 : BIC Calculated =3941.6763615499153\n",
      "SARIMAX (1, 1, 2) x (0, 1, 1, 12)12 : BIC Calculated =3634.155982671639\n",
      "SARIMAX (1, 1, 2) x (0, 1, 2, 12)12 : BIC Calculated =3493.7380018430345\n",
      "SARIMAX (1, 1, 2) x (0, 2, 0, 12)12 : BIC Calculated =4140.627412395245\n",
      "SARIMAX (1, 1, 2) x (0, 2, 1, 12)12 : BIC Calculated =3649.878999724277\n",
      "SARIMAX (1, 1, 2) x (0, 2, 2, 12)12 : BIC Calculated =3391.2656221179795\n",
      "SARIMAX (1, 1, 2) x (1, 0, 0, 12)12 : BIC Calculated =3882.991763972912\n",
      "SARIMAX (1, 1, 2) x (1, 0, 1, 12)12 : BIC Calculated =3792.7742144224126\n"
     ]
    },
    {
     "name": "stderr",
     "output_type": "stream",
     "text": [
      "C:\\Users\\aspen\\anaconda3\\lib\\site-packages\\statsmodels\\base\\model.py:566: ConvergenceWarning: Maximum Likelihood optimization failed to converge. Check mle_retvals\n",
      "  warnings.warn(\"Maximum Likelihood optimization failed to \"\n"
     ]
    },
    {
     "name": "stdout",
     "output_type": "stream",
     "text": [
      "SARIMAX (1, 1, 2) x (1, 0, 2, 12)12 : BIC Calculated =3660.7185830849166\n",
      "SARIMAX (1, 1, 2) x (1, 1, 0, 12)12 : BIC Calculated =3734.2387713503626\n",
      "SARIMAX (1, 1, 2) x (1, 1, 1, 12)12 : BIC Calculated =3639.9585650425547\n",
      "SARIMAX (1, 1, 2) x (1, 1, 2, 12)12 : BIC Calculated =3497.9299784410036\n",
      "SARIMAX (1, 1, 2) x (1, 2, 0, 12)12 : BIC Calculated =3816.7630380309906\n",
      "SARIMAX (1, 1, 2) x (1, 2, 1, 12)12 : BIC Calculated =3610.456494971996\n",
      "SARIMAX (1, 1, 2) x (1, 2, 2, 12)12 : BIC Calculated =3396.876459801415\n",
      "SARIMAX (1, 1, 2) x (2, 0, 0, 12)12 : BIC Calculated =3702.8238616094322\n"
     ]
    },
    {
     "name": "stderr",
     "output_type": "stream",
     "text": [
      "C:\\Users\\aspen\\anaconda3\\lib\\site-packages\\statsmodels\\base\\model.py:566: ConvergenceWarning: Maximum Likelihood optimization failed to converge. Check mle_retvals\n",
      "  warnings.warn(\"Maximum Likelihood optimization failed to \"\n"
     ]
    },
    {
     "name": "stdout",
     "output_type": "stream",
     "text": [
      "SARIMAX (1, 1, 2) x (2, 0, 1, 12)12 : BIC Calculated =3683.0147610535378\n"
     ]
    },
    {
     "name": "stderr",
     "output_type": "stream",
     "text": [
      "C:\\Users\\aspen\\anaconda3\\lib\\site-packages\\statsmodels\\base\\model.py:566: ConvergenceWarning: Maximum Likelihood optimization failed to converge. Check mle_retvals\n",
      "  warnings.warn(\"Maximum Likelihood optimization failed to \"\n"
     ]
    },
    {
     "name": "stdout",
     "output_type": "stream",
     "text": [
      "SARIMAX (1, 1, 2) x (2, 0, 2, 12)12 : BIC Calculated =3652.7486474309017\n",
      "SARIMAX (1, 1, 2) x (2, 1, 0, 12)12 : BIC Calculated =3543.345241800449\n"
     ]
    },
    {
     "name": "stderr",
     "output_type": "stream",
     "text": [
      "C:\\Users\\aspen\\anaconda3\\lib\\site-packages\\statsmodels\\base\\model.py:566: ConvergenceWarning: Maximum Likelihood optimization failed to converge. Check mle_retvals\n",
      "  warnings.warn(\"Maximum Likelihood optimization failed to \"\n"
     ]
    },
    {
     "name": "stdout",
     "output_type": "stream",
     "text": [
      "SARIMAX (1, 1, 2) x (2, 1, 1, 12)12 : BIC Calculated =3521.0178471208505\n",
      "SARIMAX (1, 1, 2) x (2, 1, 2, 12)12 : BIC Calculated =3498.228547510869\n",
      "SARIMAX (1, 1, 2) x (2, 2, 0, 12)12 : BIC Calculated =3571.8593726264166\n",
      "SARIMAX (1, 1, 2) x (2, 2, 1, 12)12 : BIC Calculated =3459.4221362973826\n"
     ]
    },
    {
     "name": "stderr",
     "output_type": "stream",
     "text": [
      "C:\\Users\\aspen\\anaconda3\\lib\\site-packages\\statsmodels\\base\\model.py:566: ConvergenceWarning: Maximum Likelihood optimization failed to converge. Check mle_retvals\n",
      "  warnings.warn(\"Maximum Likelihood optimization failed to \"\n"
     ]
    },
    {
     "name": "stdout",
     "output_type": "stream",
     "text": [
      "SARIMAX (1, 1, 2) x (2, 2, 2, 12)12 : BIC Calculated =3403.8436559876877\n",
      "SARIMAX (1, 2, 0) x (0, 0, 0, 12)12 : BIC Calculated =4355.922533011486\n",
      "SARIMAX (1, 2, 0) x (0, 0, 1, 12)12 : BIC Calculated =4153.71862185509\n",
      "SARIMAX (1, 2, 0) x (0, 0, 2, 12)12 : BIC Calculated =3978.2956428410075\n",
      "SARIMAX (1, 2, 0) x (0, 1, 0, 12)12 : BIC Calculated =4213.419313485662\n",
      "SARIMAX (1, 2, 0) x (0, 1, 1, 12)12 : BIC Calculated =3925.585982862558\n",
      "SARIMAX (1, 2, 0) x (0, 1, 2, 12)12 : BIC Calculated =3771.5891036569856\n",
      "SARIMAX (1, 2, 0) x (0, 2, 0, 12)12 : BIC Calculated =4402.026137545116\n",
      "SARIMAX (1, 2, 0) x (0, 2, 1, 12)12 : BIC Calculated =3925.945322586078\n",
      "SARIMAX (1, 2, 0) x (0, 2, 2, 12)12 : BIC Calculated =3668.345465900076\n",
      "SARIMAX (1, 2, 0) x (1, 0, 0, 12)12 : BIC Calculated =4123.083557545899\n",
      "SARIMAX (1, 2, 0) x (1, 0, 1, 12)12 : BIC Calculated =4070.743571609715\n",
      "SARIMAX (1, 2, 0) x (1, 0, 2, 12)12 : BIC Calculated =3935.2690255906696\n",
      "SARIMAX (1, 2, 0) x (1, 1, 0, 12)12 : BIC Calculated =4002.547019183266\n",
      "SARIMAX (1, 2, 0) x (1, 1, 1, 12)12 : BIC Calculated =3931.1529846583917\n",
      "SARIMAX (1, 2, 0) x (1, 1, 2, 12)12 : BIC Calculated =3773.518576527086\n",
      "SARIMAX (1, 2, 0) x (1, 2, 0, 12)12 : BIC Calculated =4080.948759198597\n",
      "SARIMAX (1, 2, 0) x (1, 2, 1, 12)12 : BIC Calculated =3892.656449328496\n",
      "SARIMAX (1, 2, 0) x (1, 2, 2, 12)12 : BIC Calculated =3673.159918305907\n",
      "SARIMAX (1, 2, 0) x (2, 0, 0, 12)12 : BIC Calculated =3951.318347380177\n",
      "SARIMAX (1, 2, 0) x (2, 0, 1, 12)12 : BIC Calculated =3937.538518234946\n",
      "SARIMAX (1, 2, 0) x (2, 0, 2, 12)12 : BIC Calculated =3923.348931822717\n",
      "SARIMAX (1, 2, 0) x (2, 1, 0, 12)12 : BIC Calculated =3800.906667663687\n",
      "SARIMAX (1, 2, 0) x (2, 1, 1, 12)12 : BIC Calculated =3766.521470830492\n",
      "SARIMAX (1, 2, 0) x (2, 1, 2, 12)12 : BIC Calculated =3774.4584910000376\n",
      "SARIMAX (1, 2, 0) x (2, 2, 0, 12)12 : BIC Calculated =3818.2888480271877\n",
      "SARIMAX (1, 2, 0) x (2, 2, 1, 12)12 : BIC Calculated =3706.1910505975466\n"
     ]
    },
    {
     "name": "stderr",
     "output_type": "stream",
     "text": [
      "C:\\Users\\aspen\\anaconda3\\lib\\site-packages\\statsmodels\\base\\model.py:566: ConvergenceWarning: Maximum Likelihood optimization failed to converge. Check mle_retvals\n",
      "  warnings.warn(\"Maximum Likelihood optimization failed to \"\n"
     ]
    },
    {
     "name": "stdout",
     "output_type": "stream",
     "text": [
      "SARIMAX (1, 2, 0) x (2, 2, 2, 12)12 : BIC Calculated =3666.878915080194\n",
      "SARIMAX (1, 2, 1) x (0, 0, 0, 12)12 : BIC Calculated =4167.258489440772\n",
      "SARIMAX (1, 2, 1) x (0, 0, 1, 12)12 : BIC Calculated =3953.291063340718\n",
      "SARIMAX (1, 2, 1) x (0, 0, 2, 12)12 : BIC Calculated =3768.9791788796915\n",
      "SARIMAX (1, 2, 1) x (0, 1, 0, 12)12 : BIC Calculated =3975.760504581037\n",
      "SARIMAX (1, 2, 1) x (0, 1, 1, 12)12 : BIC Calculated =3681.5664949461816\n",
      "SARIMAX (1, 2, 1) x (0, 1, 2, 12)12 : BIC Calculated =3537.123608502427\n",
      "SARIMAX (1, 2, 1) x (0, 2, 0, 12)12 : BIC Calculated =4171.120421509305\n",
      "SARIMAX (1, 2, 1) x (0, 2, 1, 12)12 : BIC Calculated =3693.4496486555054\n",
      "SARIMAX (1, 2, 1) x (0, 2, 2, 12)12 : BIC Calculated =3443.8468747954066\n",
      "SARIMAX (1, 2, 1) x (1, 0, 0, 12)12 : BIC Calculated =3915.907488315239\n",
      "SARIMAX (1, 2, 1) x (1, 0, 1, 12)12 : BIC Calculated =3836.8904705785685\n"
     ]
    },
    {
     "name": "stderr",
     "output_type": "stream",
     "text": [
      "C:\\Users\\aspen\\anaconda3\\lib\\site-packages\\statsmodels\\base\\model.py:566: ConvergenceWarning: Maximum Likelihood optimization failed to converge. Check mle_retvals\n",
      "  warnings.warn(\"Maximum Likelihood optimization failed to \"\n"
     ]
    },
    {
     "name": "stdout",
     "output_type": "stream",
     "text": [
      "SARIMAX (1, 2, 1) x (1, 0, 2, 12)12 : BIC Calculated =3703.5827669963137\n",
      "SARIMAX (1, 2, 1) x (1, 1, 0, 12)12 : BIC Calculated =3766.746532300303\n",
      "SARIMAX (1, 2, 1) x (1, 1, 1, 12)12 : BIC Calculated =3687.313743367023\n",
      "SARIMAX (1, 2, 1) x (1, 1, 2, 12)12 : BIC Calculated =3541.1913190819337\n",
      "SARIMAX (1, 2, 1) x (1, 2, 0, 12)12 : BIC Calculated =3855.3327671741304\n",
      "SARIMAX (1, 2, 1) x (1, 2, 1, 12)12 : BIC Calculated =3656.4843560052063\n"
     ]
    },
    {
     "name": "stderr",
     "output_type": "stream",
     "text": [
      "C:\\Users\\aspen\\anaconda3\\lib\\site-packages\\statsmodels\\base\\model.py:566: ConvergenceWarning: Maximum Likelihood optimization failed to converge. Check mle_retvals\n",
      "  warnings.warn(\"Maximum Likelihood optimization failed to \"\n"
     ]
    },
    {
     "name": "stdout",
     "output_type": "stream",
     "text": [
      "SARIMAX (1, 2, 1) x (1, 2, 2, 12)12 : BIC Calculated =3449.4307493874576\n",
      "SARIMAX (1, 2, 1) x (2, 0, 0, 12)12 : BIC Calculated =3735.5490923151597\n"
     ]
    },
    {
     "name": "stderr",
     "output_type": "stream",
     "text": [
      "C:\\Users\\aspen\\anaconda3\\lib\\site-packages\\statsmodels\\base\\model.py:566: ConvergenceWarning: Maximum Likelihood optimization failed to converge. Check mle_retvals\n",
      "  warnings.warn(\"Maximum Likelihood optimization failed to \"\n"
     ]
    },
    {
     "name": "stdout",
     "output_type": "stream",
     "text": [
      "SARIMAX (1, 2, 1) x (2, 0, 1, 12)12 : BIC Calculated =3718.935267435042\n",
      "SARIMAX (1, 2, 1) x (2, 0, 2, 12)12 : BIC Calculated =3691.3225248905123\n",
      "SARIMAX (1, 2, 1) x (2, 1, 0, 12)12 : BIC Calculated =3577.3172522246878\n",
      "SARIMAX (1, 2, 1) x (2, 1, 1, 12)12 : BIC Calculated =3547.9763629159847\n",
      "SARIMAX (1, 2, 1) x (2, 1, 2, 12)12 : BIC Calculated =3540.978516777624\n",
      "SARIMAX (1, 2, 1) x (2, 2, 0, 12)12 : BIC Calculated =3606.7321764007997\n",
      "SARIMAX (1, 2, 1) x (2, 2, 1, 12)12 : BIC Calculated =3495.675320520143\n"
     ]
    },
    {
     "name": "stderr",
     "output_type": "stream",
     "text": [
      "C:\\Users\\aspen\\anaconda3\\lib\\site-packages\\statsmodels\\base\\model.py:566: ConvergenceWarning: Maximum Likelihood optimization failed to converge. Check mle_retvals\n",
      "  warnings.warn(\"Maximum Likelihood optimization failed to \"\n"
     ]
    },
    {
     "name": "stdout",
     "output_type": "stream",
     "text": [
      "SARIMAX (1, 2, 1) x (2, 2, 2, 12)12 : BIC Calculated =3453.394221906414\n",
      "SARIMAX (1, 2, 2) x (0, 0, 0, 12)12 : BIC Calculated =4124.744147582146\n"
     ]
    },
    {
     "name": "stderr",
     "output_type": "stream",
     "text": [
      "C:\\Users\\aspen\\anaconda3\\lib\\site-packages\\statsmodels\\base\\model.py:566: ConvergenceWarning: Maximum Likelihood optimization failed to converge. Check mle_retvals\n",
      "  warnings.warn(\"Maximum Likelihood optimization failed to \"\n"
     ]
    },
    {
     "name": "stdout",
     "output_type": "stream",
     "text": [
      "SARIMAX (1, 2, 2) x (0, 0, 1, 12)12 : BIC Calculated =3898.8216080364195\n"
     ]
    },
    {
     "name": "stderr",
     "output_type": "stream",
     "text": [
      "C:\\Users\\aspen\\anaconda3\\lib\\site-packages\\statsmodels\\base\\model.py:566: ConvergenceWarning: Maximum Likelihood optimization failed to converge. Check mle_retvals\n",
      "  warnings.warn(\"Maximum Likelihood optimization failed to \"\n"
     ]
    },
    {
     "name": "stdout",
     "output_type": "stream",
     "text": [
      "SARIMAX (1, 2, 2) x (0, 0, 2, 12)12 : BIC Calculated =3757.242916386336\n",
      "SARIMAX (1, 2, 2) x (0, 1, 0, 12)12 : BIC Calculated =3938.007641098451\n",
      "SARIMAX (1, 2, 2) x (0, 1, 1, 12)12 : BIC Calculated =3636.375285544926\n",
      "SARIMAX (1, 2, 2) x (0, 1, 2, 12)12 : BIC Calculated =3485.3402655759332\n",
      "SARIMAX (1, 2, 2) x (0, 2, 0, 12)12 : BIC Calculated =4141.097425768747\n"
     ]
    },
    {
     "name": "stderr",
     "output_type": "stream",
     "text": [
      "C:\\Users\\aspen\\anaconda3\\lib\\site-packages\\statsmodels\\base\\model.py:566: ConvergenceWarning: Maximum Likelihood optimization failed to converge. Check mle_retvals\n",
      "  warnings.warn(\"Maximum Likelihood optimization failed to \"\n"
     ]
    },
    {
     "name": "stdout",
     "output_type": "stream",
     "text": [
      "SARIMAX (1, 2, 2) x (0, 2, 1, 12)12 : BIC Calculated =3656.92149645842\n",
      "SARIMAX (1, 2, 2) x (0, 2, 2, 12)12 : BIC Calculated =3400.013803408229\n"
     ]
    },
    {
     "name": "stderr",
     "output_type": "stream",
     "text": [
      "C:\\Users\\aspen\\anaconda3\\lib\\site-packages\\statsmodels\\base\\model.py:566: ConvergenceWarning: Maximum Likelihood optimization failed to converge. Check mle_retvals\n",
      "  warnings.warn(\"Maximum Likelihood optimization failed to \"\n"
     ]
    },
    {
     "name": "stdout",
     "output_type": "stream",
     "text": [
      "SARIMAX (1, 2, 2) x (1, 0, 0, 12)12 : BIC Calculated =3886.5967598659167\n"
     ]
    },
    {
     "name": "stderr",
     "output_type": "stream",
     "text": [
      "C:\\Users\\aspen\\anaconda3\\lib\\site-packages\\statsmodels\\base\\model.py:566: ConvergenceWarning: Maximum Likelihood optimization failed to converge. Check mle_retvals\n",
      "  warnings.warn(\"Maximum Likelihood optimization failed to \"\n"
     ]
    },
    {
     "name": "stdout",
     "output_type": "stream",
     "text": [
      "SARIMAX (1, 2, 2) x (1, 0, 1, 12)12 : BIC Calculated =3793.0044703498374\n"
     ]
    },
    {
     "name": "stderr",
     "output_type": "stream",
     "text": [
      "C:\\Users\\aspen\\anaconda3\\lib\\site-packages\\statsmodels\\base\\model.py:566: ConvergenceWarning: Maximum Likelihood optimization failed to converge. Check mle_retvals\n",
      "  warnings.warn(\"Maximum Likelihood optimization failed to \"\n"
     ]
    },
    {
     "name": "stdout",
     "output_type": "stream",
     "text": [
      "SARIMAX (1, 2, 2) x (1, 0, 2, 12)12 : BIC Calculated =3660.7171560457473\n",
      "SARIMAX (1, 2, 2) x (1, 1, 0, 12)12 : BIC Calculated =3732.7030368837677\n"
     ]
    },
    {
     "name": "stderr",
     "output_type": "stream",
     "text": [
      "C:\\Users\\aspen\\anaconda3\\lib\\site-packages\\statsmodels\\base\\model.py:566: ConvergenceWarning: Maximum Likelihood optimization failed to converge. Check mle_retvals\n",
      "  warnings.warn(\"Maximum Likelihood optimization failed to \"\n"
     ]
    },
    {
     "name": "stdout",
     "output_type": "stream",
     "text": [
      "SARIMAX (1, 2, 2) x (1, 1, 1, 12)12 : BIC Calculated =3637.7321312559134\n"
     ]
    },
    {
     "name": "stderr",
     "output_type": "stream",
     "text": [
      "C:\\Users\\aspen\\anaconda3\\lib\\site-packages\\statsmodels\\base\\model.py:566: ConvergenceWarning: Maximum Likelihood optimization failed to converge. Check mle_retvals\n",
      "  warnings.warn(\"Maximum Likelihood optimization failed to \"\n"
     ]
    },
    {
     "name": "stdout",
     "output_type": "stream",
     "text": [
      "SARIMAX (1, 2, 2) x (1, 1, 2, 12)12 : BIC Calculated =3491.3619085303208\n",
      "SARIMAX (1, 2, 2) x (1, 2, 0, 12)12 : BIC Calculated =3822.892497763644\n"
     ]
    },
    {
     "name": "stderr",
     "output_type": "stream",
     "text": [
      "C:\\Users\\aspen\\anaconda3\\lib\\site-packages\\statsmodels\\base\\model.py:566: ConvergenceWarning: Maximum Likelihood optimization failed to converge. Check mle_retvals\n",
      "  warnings.warn(\"Maximum Likelihood optimization failed to \"\n"
     ]
    },
    {
     "name": "stdout",
     "output_type": "stream",
     "text": [
      "SARIMAX (1, 2, 2) x (1, 2, 1, 12)12 : BIC Calculated =3614.225848368758\n"
     ]
    },
    {
     "name": "stderr",
     "output_type": "stream",
     "text": [
      "C:\\Users\\aspen\\anaconda3\\lib\\site-packages\\statsmodels\\base\\model.py:566: ConvergenceWarning: Maximum Likelihood optimization failed to converge. Check mle_retvals\n",
      "  warnings.warn(\"Maximum Likelihood optimization failed to \"\n"
     ]
    },
    {
     "name": "stdout",
     "output_type": "stream",
     "text": [
      "SARIMAX (1, 2, 2) x (1, 2, 2, 12)12 : BIC Calculated =3402.234130035471\n"
     ]
    },
    {
     "name": "stderr",
     "output_type": "stream",
     "text": [
      "C:\\Users\\aspen\\anaconda3\\lib\\site-packages\\statsmodels\\base\\model.py:566: ConvergenceWarning: Maximum Likelihood optimization failed to converge. Check mle_retvals\n",
      "  warnings.warn(\"Maximum Likelihood optimization failed to \"\n"
     ]
    },
    {
     "name": "stdout",
     "output_type": "stream",
     "text": [
      "SARIMAX (1, 2, 2) x (2, 0, 0, 12)12 : BIC Calculated =3706.628396108348\n"
     ]
    },
    {
     "name": "stderr",
     "output_type": "stream",
     "text": [
      "C:\\Users\\aspen\\anaconda3\\lib\\site-packages\\statsmodels\\base\\model.py:566: ConvergenceWarning: Maximum Likelihood optimization failed to converge. Check mle_retvals\n",
      "  warnings.warn(\"Maximum Likelihood optimization failed to \"\n"
     ]
    },
    {
     "name": "stdout",
     "output_type": "stream",
     "text": [
      "SARIMAX (1, 2, 2) x (2, 0, 1, 12)12 : BIC Calculated =3733.2040971799793\n"
     ]
    },
    {
     "name": "stderr",
     "output_type": "stream",
     "text": [
      "C:\\Users\\aspen\\anaconda3\\lib\\site-packages\\statsmodels\\base\\model.py:566: ConvergenceWarning: Maximum Likelihood optimization failed to converge. Check mle_retvals\n",
      "  warnings.warn(\"Maximum Likelihood optimization failed to \"\n"
     ]
    },
    {
     "name": "stdout",
     "output_type": "stream",
     "text": [
      "SARIMAX (1, 2, 2) x (2, 0, 2, 12)12 : BIC Calculated =3742.217062524382\n"
     ]
    },
    {
     "name": "stderr",
     "output_type": "stream",
     "text": [
      "C:\\Users\\aspen\\anaconda3\\lib\\site-packages\\statsmodels\\base\\model.py:566: ConvergenceWarning: Maximum Likelihood optimization failed to converge. Check mle_retvals\n",
      "  warnings.warn(\"Maximum Likelihood optimization failed to \"\n"
     ]
    },
    {
     "name": "stdout",
     "output_type": "stream",
     "text": [
      "SARIMAX (1, 2, 2) x (2, 1, 0, 12)12 : BIC Calculated =3539.783750408764\n"
     ]
    },
    {
     "name": "stderr",
     "output_type": "stream",
     "text": [
      "C:\\Users\\aspen\\anaconda3\\lib\\site-packages\\statsmodels\\base\\model.py:566: ConvergenceWarning: Maximum Likelihood optimization failed to converge. Check mle_retvals\n",
      "  warnings.warn(\"Maximum Likelihood optimization failed to \"\n"
     ]
    },
    {
     "name": "stdout",
     "output_type": "stream",
     "text": [
      "SARIMAX (1, 2, 2) x (2, 1, 1, 12)12 : BIC Calculated =3528.206673796566\n"
     ]
    },
    {
     "name": "stderr",
     "output_type": "stream",
     "text": [
      "C:\\Users\\aspen\\anaconda3\\lib\\site-packages\\statsmodels\\base\\model.py:566: ConvergenceWarning: Maximum Likelihood optimization failed to converge. Check mle_retvals\n",
      "  warnings.warn(\"Maximum Likelihood optimization failed to \"\n"
     ]
    },
    {
     "name": "stdout",
     "output_type": "stream",
     "text": [
      "SARIMAX (1, 2, 2) x (2, 1, 2, 12)12 : BIC Calculated =3488.4133170833443\n"
     ]
    },
    {
     "name": "stderr",
     "output_type": "stream",
     "text": [
      "C:\\Users\\aspen\\anaconda3\\lib\\site-packages\\statsmodels\\base\\model.py:566: ConvergenceWarning: Maximum Likelihood optimization failed to converge. Check mle_retvals\n",
      "  warnings.warn(\"Maximum Likelihood optimization failed to \"\n"
     ]
    },
    {
     "name": "stdout",
     "output_type": "stream",
     "text": [
      "SARIMAX (1, 2, 2) x (2, 2, 0, 12)12 : BIC Calculated =3581.0708434757516\n"
     ]
    },
    {
     "name": "stderr",
     "output_type": "stream",
     "text": [
      "C:\\Users\\aspen\\anaconda3\\lib\\site-packages\\statsmodels\\base\\model.py:566: ConvergenceWarning: Maximum Likelihood optimization failed to converge. Check mle_retvals\n",
      "  warnings.warn(\"Maximum Likelihood optimization failed to \"\n"
     ]
    },
    {
     "name": "stdout",
     "output_type": "stream",
     "text": [
      "SARIMAX (1, 2, 2) x (2, 2, 1, 12)12 : BIC Calculated =3461.9411722320774\n"
     ]
    },
    {
     "name": "stderr",
     "output_type": "stream",
     "text": [
      "C:\\Users\\aspen\\anaconda3\\lib\\site-packages\\statsmodels\\base\\model.py:566: ConvergenceWarning: Maximum Likelihood optimization failed to converge. Check mle_retvals\n",
      "  warnings.warn(\"Maximum Likelihood optimization failed to \"\n"
     ]
    },
    {
     "name": "stdout",
     "output_type": "stream",
     "text": [
      "SARIMAX (1, 2, 2) x (2, 2, 2, 12)12 : BIC Calculated =3441.4455841870963\n",
      "SARIMAX (2, 0, 0) x (0, 0, 0, 12)12 : BIC Calculated =4182.893911029078\n",
      "SARIMAX (2, 0, 0) x (0, 0, 1, 12)12 : BIC Calculated =3980.377597443378\n",
      "SARIMAX (2, 0, 0) x (0, 0, 2, 12)12 : BIC Calculated =3796.5234005866437\n",
      "SARIMAX (2, 0, 0) x (0, 1, 0, 12)12 : BIC Calculated =3945.9001107645804\n",
      "SARIMAX (2, 0, 0) x (0, 1, 1, 12)12 : BIC Calculated =3684.6188028996635\n",
      "SARIMAX (2, 0, 0) x (0, 1, 2, 12)12 : BIC Calculated =3541.556399071397\n",
      "SARIMAX (2, 0, 0) x (0, 2, 0, 12)12 : BIC Calculated =4139.699623998708\n",
      "SARIMAX (2, 0, 0) x (0, 2, 1, 12)12 : BIC Calculated =3685.1541207038904\n",
      "SARIMAX (2, 0, 0) x (0, 2, 2, 12)12 : BIC Calculated =3444.69182644353\n",
      "SARIMAX (2, 0, 0) x (1, 0, 0, 12)12 : BIC Calculated =3917.1878738037867\n",
      "SARIMAX (2, 0, 0) x (1, 0, 1, 12)12 : BIC Calculated =3830.8749657163157\n",
      "SARIMAX (2, 0, 0) x (1, 0, 2, 12)12 : BIC Calculated =3710.155962923313\n",
      "SARIMAX (2, 0, 0) x (1, 1, 0, 12)12 : BIC Calculated =3731.518212243121\n",
      "SARIMAX (2, 0, 0) x (1, 1, 1, 12)12 : BIC Calculated =3679.6727213152167\n",
      "SARIMAX (2, 0, 0) x (1, 1, 2, 12)12 : BIC Calculated =3546.0079268694626\n",
      "SARIMAX (2, 0, 0) x (1, 2, 0, 12)12 : BIC Calculated =3816.307882045054\n",
      "SARIMAX (2, 0, 0) x (1, 2, 1, 12)12 : BIC Calculated =3639.7510146624018\n",
      "SARIMAX (2, 0, 0) x (1, 2, 2, 12)12 : BIC Calculated =3450.164815234062\n",
      "SARIMAX (2, 0, 0) x (2, 0, 0, 12)12 : BIC Calculated =3734.7174025185795\n",
      "SARIMAX (2, 0, 0) x (2, 0, 1, 12)12 : BIC Calculated =3702.2003288525484\n",
      "SARIMAX (2, 0, 0) x (2, 0, 2, 12)12 : BIC Calculated =3688.871946793101\n",
      "SARIMAX (2, 0, 0) x (2, 1, 0, 12)12 : BIC Calculated =3552.304071414074\n",
      "SARIMAX (2, 0, 0) x (2, 1, 1, 12)12 : BIC Calculated =3530.022146822573\n",
      "SARIMAX (2, 0, 0) x (2, 1, 2, 12)12 : BIC Calculated =3537.229749217508\n",
      "SARIMAX (2, 0, 0) x (2, 2, 0, 12)12 : BIC Calculated =3569.506772840908\n",
      "SARIMAX (2, 0, 0) x (2, 2, 1, 12)12 : BIC Calculated =3464.2888042298555\n"
     ]
    },
    {
     "name": "stderr",
     "output_type": "stream",
     "text": [
      "C:\\Users\\aspen\\anaconda3\\lib\\site-packages\\statsmodels\\base\\model.py:566: ConvergenceWarning: Maximum Likelihood optimization failed to converge. Check mle_retvals\n",
      "  warnings.warn(\"Maximum Likelihood optimization failed to \"\n"
     ]
    },
    {
     "name": "stdout",
     "output_type": "stream",
     "text": [
      "SARIMAX (2, 0, 0) x (2, 2, 2, 12)12 : BIC Calculated =3439.32901367722\n"
     ]
    },
    {
     "name": "stderr",
     "output_type": "stream",
     "text": [
      "C:\\Users\\aspen\\anaconda3\\lib\\site-packages\\statsmodels\\base\\model.py:566: ConvergenceWarning: Maximum Likelihood optimization failed to converge. Check mle_retvals\n",
      "  warnings.warn(\"Maximum Likelihood optimization failed to \"\n"
     ]
    },
    {
     "name": "stdout",
     "output_type": "stream",
     "text": [
      "SARIMAX (2, 0, 1) x (0, 0, 0, 12)12 : BIC Calculated =4153.079229373032\n"
     ]
    },
    {
     "name": "stderr",
     "output_type": "stream",
     "text": [
      "C:\\Users\\aspen\\anaconda3\\lib\\site-packages\\statsmodels\\base\\model.py:566: ConvergenceWarning: Maximum Likelihood optimization failed to converge. Check mle_retvals\n",
      "  warnings.warn(\"Maximum Likelihood optimization failed to \"\n"
     ]
    },
    {
     "name": "stdout",
     "output_type": "stream",
     "text": [
      "SARIMAX (2, 0, 1) x (0, 0, 1, 12)12 : BIC Calculated =3947.884824852682\n"
     ]
    },
    {
     "name": "stderr",
     "output_type": "stream",
     "text": [
      "C:\\Users\\aspen\\anaconda3\\lib\\site-packages\\statsmodels\\base\\model.py:566: ConvergenceWarning: Maximum Likelihood optimization failed to converge. Check mle_retvals\n",
      "  warnings.warn(\"Maximum Likelihood optimization failed to \"\n"
     ]
    },
    {
     "name": "stdout",
     "output_type": "stream",
     "text": [
      "SARIMAX (2, 0, 1) x (0, 0, 2, 12)12 : BIC Calculated =3787.016372967984\n",
      "SARIMAX (2, 0, 1) x (0, 1, 0, 12)12 : BIC Calculated =3942.7707884834313\n",
      "SARIMAX (2, 0, 1) x (0, 1, 1, 12)12 : BIC Calculated =3652.595793671546\n",
      "SARIMAX (2, 0, 1) x (0, 1, 2, 12)12 : BIC Calculated =3513.042826559487\n",
      "SARIMAX (2, 0, 1) x (0, 2, 0, 12)12 : BIC Calculated =4140.552349066685\n",
      "SARIMAX (2, 0, 1) x (0, 2, 1, 12)12 : BIC Calculated =3667.3425469029266\n"
     ]
    },
    {
     "name": "stderr",
     "output_type": "stream",
     "text": [
      "C:\\Users\\aspen\\anaconda3\\lib\\site-packages\\statsmodels\\base\\model.py:566: ConvergenceWarning: Maximum Likelihood optimization failed to converge. Check mle_retvals\n",
      "  warnings.warn(\"Maximum Likelihood optimization failed to \"\n"
     ]
    },
    {
     "name": "stdout",
     "output_type": "stream",
     "text": [
      "SARIMAX (2, 0, 1) x (0, 2, 2, 12)12 : BIC Calculated =3411.4576252810843\n"
     ]
    },
    {
     "name": "stderr",
     "output_type": "stream",
     "text": [
      "C:\\Users\\aspen\\anaconda3\\lib\\site-packages\\statsmodels\\base\\model.py:566: ConvergenceWarning: Maximum Likelihood optimization failed to converge. Check mle_retvals\n",
      "  warnings.warn(\"Maximum Likelihood optimization failed to \"\n"
     ]
    },
    {
     "name": "stdout",
     "output_type": "stream",
     "text": [
      "SARIMAX (2, 0, 1) x (1, 0, 0, 12)12 : BIC Calculated =3885.8639203085663\n"
     ]
    },
    {
     "name": "stderr",
     "output_type": "stream",
     "text": [
      "C:\\Users\\aspen\\anaconda3\\lib\\site-packages\\statsmodels\\base\\model.py:566: ConvergenceWarning: Maximum Likelihood optimization failed to converge. Check mle_retvals\n",
      "  warnings.warn(\"Maximum Likelihood optimization failed to \"\n"
     ]
    },
    {
     "name": "stdout",
     "output_type": "stream",
     "text": [
      "SARIMAX (2, 0, 1) x (1, 0, 1, 12)12 : BIC Calculated =3840.1129269165313\n"
     ]
    },
    {
     "name": "stderr",
     "output_type": "stream",
     "text": [
      "C:\\Users\\aspen\\anaconda3\\lib\\site-packages\\statsmodels\\base\\model.py:566: ConvergenceWarning: Maximum Likelihood optimization failed to converge. Check mle_retvals\n",
      "  warnings.warn(\"Maximum Likelihood optimization failed to \"\n"
     ]
    },
    {
     "name": "stdout",
     "output_type": "stream",
     "text": [
      "SARIMAX (2, 0, 1) x (1, 0, 2, 12)12 : BIC Calculated =3682.923441356469\n",
      "SARIMAX (2, 0, 1) x (1, 1, 0, 12)12 : BIC Calculated =3719.9583377433023\n",
      "SARIMAX (2, 0, 1) x (1, 1, 1, 12)12 : BIC Calculated =3658.348729196935\n"
     ]
    },
    {
     "name": "stderr",
     "output_type": "stream",
     "text": [
      "C:\\Users\\aspen\\anaconda3\\lib\\site-packages\\statsmodels\\base\\model.py:566: ConvergenceWarning: Maximum Likelihood optimization failed to converge. Check mle_retvals\n",
      "  warnings.warn(\"Maximum Likelihood optimization failed to \"\n"
     ]
    },
    {
     "name": "stdout",
     "output_type": "stream",
     "text": [
      "SARIMAX (2, 0, 1) x (1, 1, 2, 12)12 : BIC Calculated =3516.19263849922\n",
      "SARIMAX (2, 0, 1) x (1, 2, 0, 12)12 : BIC Calculated =3807.447383359033\n",
      "SARIMAX (2, 0, 1) x (1, 2, 1, 12)12 : BIC Calculated =3625.589018830687\n"
     ]
    },
    {
     "name": "stderr",
     "output_type": "stream",
     "text": [
      "C:\\Users\\aspen\\anaconda3\\lib\\site-packages\\statsmodels\\base\\model.py:566: ConvergenceWarning: Maximum Likelihood optimization failed to converge. Check mle_retvals\n",
      "  warnings.warn(\"Maximum Likelihood optimization failed to \"\n"
     ]
    },
    {
     "name": "stdout",
     "output_type": "stream",
     "text": [
      "SARIMAX (2, 0, 1) x (1, 2, 2, 12)12 : BIC Calculated =3421.0304588438435\n"
     ]
    },
    {
     "name": "stderr",
     "output_type": "stream",
     "text": [
      "C:\\Users\\aspen\\anaconda3\\lib\\site-packages\\statsmodels\\base\\model.py:566: ConvergenceWarning: Maximum Likelihood optimization failed to converge. Check mle_retvals\n",
      "  warnings.warn(\"Maximum Likelihood optimization failed to \"\n"
     ]
    },
    {
     "name": "stdout",
     "output_type": "stream",
     "text": [
      "SARIMAX (2, 0, 1) x (2, 0, 0, 12)12 : BIC Calculated =3745.529105120031\n"
     ]
    },
    {
     "name": "stderr",
     "output_type": "stream",
     "text": [
      "C:\\Users\\aspen\\anaconda3\\lib\\site-packages\\statsmodels\\base\\model.py:566: ConvergenceWarning: Maximum Likelihood optimization failed to converge. Check mle_retvals\n",
      "  warnings.warn(\"Maximum Likelihood optimization failed to \"\n"
     ]
    },
    {
     "name": "stdout",
     "output_type": "stream",
     "text": [
      "SARIMAX (2, 0, 1) x (2, 0, 1, 12)12 : BIC Calculated =3757.25814325638\n"
     ]
    },
    {
     "name": "stderr",
     "output_type": "stream",
     "text": [
      "C:\\Users\\aspen\\anaconda3\\lib\\site-packages\\statsmodels\\base\\model.py:566: ConvergenceWarning: Maximum Likelihood optimization failed to converge. Check mle_retvals\n",
      "  warnings.warn(\"Maximum Likelihood optimization failed to \"\n"
     ]
    },
    {
     "name": "stdout",
     "output_type": "stream",
     "text": [
      "SARIMAX (2, 0, 1) x (2, 0, 2, 12)12 : BIC Calculated =3697.379855610071\n",
      "SARIMAX (2, 0, 1) x (2, 1, 0, 12)12 : BIC Calculated =3538.5828838497323\n"
     ]
    },
    {
     "name": "stderr",
     "output_type": "stream",
     "text": [
      "C:\\Users\\aspen\\anaconda3\\lib\\site-packages\\statsmodels\\base\\model.py:566: ConvergenceWarning: Maximum Likelihood optimization failed to converge. Check mle_retvals\n",
      "  warnings.warn(\"Maximum Likelihood optimization failed to \"\n"
     ]
    },
    {
     "name": "stdout",
     "output_type": "stream",
     "text": [
      "SARIMAX (2, 0, 1) x (2, 1, 1, 12)12 : BIC Calculated =3508.5935335393638\n"
     ]
    },
    {
     "name": "stderr",
     "output_type": "stream",
     "text": [
      "C:\\Users\\aspen\\anaconda3\\lib\\site-packages\\statsmodels\\base\\model.py:566: ConvergenceWarning: Maximum Likelihood optimization failed to converge. Check mle_retvals\n",
      "  warnings.warn(\"Maximum Likelihood optimization failed to \"\n"
     ]
    },
    {
     "name": "stdout",
     "output_type": "stream",
     "text": [
      "SARIMAX (2, 0, 1) x (2, 1, 2, 12)12 : BIC Calculated =3513.809227644055\n",
      "SARIMAX (2, 0, 1) x (2, 2, 0, 12)12 : BIC Calculated =3568.127593727518\n"
     ]
    },
    {
     "name": "stderr",
     "output_type": "stream",
     "text": [
      "C:\\Users\\aspen\\anaconda3\\lib\\site-packages\\statsmodels\\base\\model.py:566: ConvergenceWarning: Maximum Likelihood optimization failed to converge. Check mle_retvals\n",
      "  warnings.warn(\"Maximum Likelihood optimization failed to \"\n"
     ]
    },
    {
     "name": "stdout",
     "output_type": "stream",
     "text": [
      "SARIMAX (2, 0, 1) x (2, 2, 1, 12)12 : BIC Calculated =3450.7562669628674\n"
     ]
    },
    {
     "name": "stderr",
     "output_type": "stream",
     "text": [
      "C:\\Users\\aspen\\anaconda3\\lib\\site-packages\\statsmodels\\base\\model.py:566: ConvergenceWarning: Maximum Likelihood optimization failed to converge. Check mle_retvals\n",
      "  warnings.warn(\"Maximum Likelihood optimization failed to \"\n"
     ]
    },
    {
     "name": "stdout",
     "output_type": "stream",
     "text": [
      "SARIMAX (2, 0, 1) x (2, 2, 2, 12)12 : BIC Calculated =3480.558333142739\n",
      "SARIMAX (2, 0, 2) x (0, 0, 0, 12)12 : BIC Calculated =4137.530215674339\n"
     ]
    },
    {
     "name": "stderr",
     "output_type": "stream",
     "text": [
      "C:\\Users\\aspen\\anaconda3\\lib\\site-packages\\statsmodels\\base\\model.py:566: ConvergenceWarning: Maximum Likelihood optimization failed to converge. Check mle_retvals\n",
      "  warnings.warn(\"Maximum Likelihood optimization failed to \"\n"
     ]
    },
    {
     "name": "stdout",
     "output_type": "stream",
     "text": [
      "SARIMAX (2, 0, 2) x (0, 0, 1, 12)12 : BIC Calculated =3940.455022552658\n",
      "SARIMAX (2, 0, 2) x (0, 0, 2, 12)12 : BIC Calculated =3777.95935123631\n",
      "SARIMAX (2, 0, 2) x (0, 1, 0, 12)12 : BIC Calculated =3931.599995210361\n"
     ]
    },
    {
     "name": "stderr",
     "output_type": "stream",
     "text": [
      "C:\\Users\\aspen\\anaconda3\\lib\\site-packages\\statsmodels\\base\\model.py:566: ConvergenceWarning: Maximum Likelihood optimization failed to converge. Check mle_retvals\n",
      "  warnings.warn(\"Maximum Likelihood optimization failed to \"\n"
     ]
    },
    {
     "name": "stdout",
     "output_type": "stream",
     "text": [
      "SARIMAX (2, 0, 2) x (0, 1, 1, 12)12 : BIC Calculated =3642.9975764272394\n",
      "SARIMAX (2, 0, 2) x (0, 1, 2, 12)12 : BIC Calculated =3505.393568454336\n",
      "SARIMAX (2, 0, 2) x (0, 2, 0, 12)12 : BIC Calculated =4111.291934707221\n",
      "SARIMAX (2, 0, 2) x (0, 2, 1, 12)12 : BIC Calculated =3657.270637857851\n"
     ]
    },
    {
     "name": "stderr",
     "output_type": "stream",
     "text": [
      "C:\\Users\\aspen\\anaconda3\\lib\\site-packages\\statsmodels\\base\\model.py:566: ConvergenceWarning: Maximum Likelihood optimization failed to converge. Check mle_retvals\n",
      "  warnings.warn(\"Maximum Likelihood optimization failed to \"\n"
     ]
    },
    {
     "name": "stdout",
     "output_type": "stream",
     "text": [
      "SARIMAX (2, 0, 2) x (0, 2, 2, 12)12 : BIC Calculated =3404.4705195156344\n",
      "SARIMAX (2, 0, 2) x (1, 0, 0, 12)12 : BIC Calculated =3918.935865101666\n"
     ]
    },
    {
     "name": "stderr",
     "output_type": "stream",
     "text": [
      "C:\\Users\\aspen\\anaconda3\\lib\\site-packages\\statsmodels\\base\\model.py:566: ConvergenceWarning: Maximum Likelihood optimization failed to converge. Check mle_retvals\n",
      "  warnings.warn(\"Maximum Likelihood optimization failed to \"\n"
     ]
    },
    {
     "name": "stdout",
     "output_type": "stream",
     "text": [
      "SARIMAX (2, 0, 2) x (1, 0, 1, 12)12 : BIC Calculated =3861.4418250617223\n"
     ]
    },
    {
     "name": "stderr",
     "output_type": "stream",
     "text": [
      "C:\\Users\\aspen\\anaconda3\\lib\\site-packages\\statsmodels\\base\\model.py:566: ConvergenceWarning: Maximum Likelihood optimization failed to converge. Check mle_retvals\n",
      "  warnings.warn(\"Maximum Likelihood optimization failed to \"\n"
     ]
    },
    {
     "name": "stdout",
     "output_type": "stream",
     "text": [
      "SARIMAX (2, 0, 2) x (1, 0, 2, 12)12 : BIC Calculated =3728.1608287917434\n",
      "SARIMAX (2, 0, 2) x (1, 1, 0, 12)12 : BIC Calculated =3724.0194856437074\n"
     ]
    },
    {
     "name": "stderr",
     "output_type": "stream",
     "text": [
      "C:\\Users\\aspen\\anaconda3\\lib\\site-packages\\statsmodels\\base\\model.py:566: ConvergenceWarning: Maximum Likelihood optimization failed to converge. Check mle_retvals\n",
      "  warnings.warn(\"Maximum Likelihood optimization failed to \"\n"
     ]
    },
    {
     "name": "stdout",
     "output_type": "stream",
     "text": [
      "SARIMAX (2, 0, 2) x (1, 1, 1, 12)12 : BIC Calculated =3653.3958079278173\n",
      "SARIMAX (2, 0, 2) x (1, 1, 2, 12)12 : BIC Calculated =3510.330155661351\n",
      "SARIMAX (2, 0, 2) x (1, 2, 0, 12)12 : BIC Calculated =3803.5504317953632\n",
      "SARIMAX (2, 0, 2) x (1, 2, 1, 12)12 : BIC Calculated =3618.4016922380733\n"
     ]
    },
    {
     "name": "stderr",
     "output_type": "stream",
     "text": [
      "C:\\Users\\aspen\\anaconda3\\lib\\site-packages\\statsmodels\\base\\model.py:566: ConvergenceWarning: Maximum Likelihood optimization failed to converge. Check mle_retvals\n",
      "  warnings.warn(\"Maximum Likelihood optimization failed to \"\n"
     ]
    },
    {
     "name": "stdout",
     "output_type": "stream",
     "text": [
      "SARIMAX (2, 0, 2) x (1, 2, 2, 12)12 : BIC Calculated =3409.4082429586865\n",
      "SARIMAX (2, 0, 2) x (2, 0, 0, 12)12 : BIC Calculated =3760.3162319507815\n"
     ]
    },
    {
     "name": "stderr",
     "output_type": "stream",
     "text": [
      "C:\\Users\\aspen\\anaconda3\\lib\\site-packages\\statsmodels\\base\\model.py:566: ConvergenceWarning: Maximum Likelihood optimization failed to converge. Check mle_retvals\n",
      "  warnings.warn(\"Maximum Likelihood optimization failed to \"\n"
     ]
    },
    {
     "name": "stdout",
     "output_type": "stream",
     "text": [
      "SARIMAX (2, 0, 2) x (2, 0, 1, 12)12 : BIC Calculated =3756.6435938394234\n"
     ]
    },
    {
     "name": "stderr",
     "output_type": "stream",
     "text": [
      "C:\\Users\\aspen\\anaconda3\\lib\\site-packages\\statsmodels\\base\\model.py:566: ConvergenceWarning: Maximum Likelihood optimization failed to converge. Check mle_retvals\n",
      "  warnings.warn(\"Maximum Likelihood optimization failed to \"\n"
     ]
    },
    {
     "name": "stdout",
     "output_type": "stream",
     "text": [
      "SARIMAX (2, 0, 2) x (2, 0, 2, 12)12 : BIC Calculated =3733.4041911866684\n",
      "SARIMAX (2, 0, 2) x (2, 1, 0, 12)12 : BIC Calculated =3543.4432092774473\n"
     ]
    },
    {
     "name": "stderr",
     "output_type": "stream",
     "text": [
      "C:\\Users\\aspen\\anaconda3\\lib\\site-packages\\statsmodels\\base\\model.py:566: ConvergenceWarning: Maximum Likelihood optimization failed to converge. Check mle_retvals\n",
      "  warnings.warn(\"Maximum Likelihood optimization failed to \"\n"
     ]
    },
    {
     "name": "stdout",
     "output_type": "stream",
     "text": [
      "SARIMAX (2, 0, 2) x (2, 1, 1, 12)12 : BIC Calculated =3517.7965481758824\n"
     ]
    },
    {
     "name": "stderr",
     "output_type": "stream",
     "text": [
      "C:\\Users\\aspen\\anaconda3\\lib\\site-packages\\statsmodels\\base\\model.py:566: ConvergenceWarning: Maximum Likelihood optimization failed to converge. Check mle_retvals\n",
      "  warnings.warn(\"Maximum Likelihood optimization failed to \"\n"
     ]
    },
    {
     "name": "stdout",
     "output_type": "stream",
     "text": [
      "SARIMAX (2, 0, 2) x (2, 1, 2, 12)12 : BIC Calculated =3509.581240517177\n"
     ]
    },
    {
     "name": "stderr",
     "output_type": "stream",
     "text": [
      "C:\\Users\\aspen\\anaconda3\\lib\\site-packages\\statsmodels\\base\\model.py:566: ConvergenceWarning: Maximum Likelihood optimization failed to converge. Check mle_retvals\n",
      "  warnings.warn(\"Maximum Likelihood optimization failed to \"\n"
     ]
    },
    {
     "name": "stdout",
     "output_type": "stream",
     "text": [
      "SARIMAX (2, 0, 2) x (2, 2, 0, 12)12 : BIC Calculated =3563.398757594434\n",
      "SARIMAX (2, 0, 2) x (2, 2, 1, 12)12 : BIC Calculated =3454.623337860409\n"
     ]
    },
    {
     "name": "stderr",
     "output_type": "stream",
     "text": [
      "C:\\Users\\aspen\\anaconda3\\lib\\site-packages\\statsmodels\\base\\model.py:566: ConvergenceWarning: Maximum Likelihood optimization failed to converge. Check mle_retvals\n",
      "  warnings.warn(\"Maximum Likelihood optimization failed to \"\n"
     ]
    },
    {
     "name": "stdout",
     "output_type": "stream",
     "text": [
      "SARIMAX (2, 0, 2) x (2, 2, 2, 12)12 : BIC Calculated =3411.567192074234\n",
      "SARIMAX (2, 1, 0) x (0, 0, 0, 12)12 : BIC Calculated =4167.2121685005295\n",
      "SARIMAX (2, 1, 0) x (0, 0, 1, 12)12 : BIC Calculated =3961.848614565454\n",
      "SARIMAX (2, 1, 0) x (0, 0, 2, 12)12 : BIC Calculated =3768.506046629314\n",
      "SARIMAX (2, 1, 0) x (0, 1, 0, 12)12 : BIC Calculated =3953.6842345233676\n",
      "SARIMAX (2, 1, 0) x (0, 1, 1, 12)12 : BIC Calculated =3661.220966536962\n",
      "SARIMAX (2, 1, 0) x (0, 1, 2, 12)12 : BIC Calculated =3519.2410404662787\n",
      "SARIMAX (2, 1, 0) x (0, 2, 0, 12)12 : BIC Calculated =4151.451721326126\n",
      "SARIMAX (2, 1, 0) x (0, 2, 1, 12)12 : BIC Calculated =3686.181994498151\n",
      "SARIMAX (2, 1, 0) x (0, 2, 2, 12)12 : BIC Calculated =3421.3347898537704\n",
      "SARIMAX (2, 1, 0) x (1, 0, 0, 12)12 : BIC Calculated =3888.964195675673\n",
      "SARIMAX (2, 1, 0) x (1, 0, 1, 12)12 : BIC Calculated =3807.6274092818308\n",
      "SARIMAX (2, 1, 0) x (1, 0, 2, 12)12 : BIC Calculated =3689.2301004217375\n",
      "SARIMAX (2, 1, 0) x (1, 1, 0, 12)12 : BIC Calculated =3720.2312145314695\n",
      "SARIMAX (2, 1, 0) x (1, 1, 1, 12)12 : BIC Calculated =3652.550736305568\n",
      "SARIMAX (2, 1, 0) x (1, 1, 2, 12)12 : BIC Calculated =3525.160441612762\n",
      "SARIMAX (2, 1, 0) x (1, 2, 0, 12)12 : BIC Calculated =3808.164424805927\n",
      "SARIMAX (2, 1, 0) x (1, 2, 1, 12)12 : BIC Calculated =3628.4867021787068\n",
      "SARIMAX (2, 1, 0) x (1, 2, 2, 12)12 : BIC Calculated =3427.006088375993\n",
      "SARIMAX (2, 1, 0) x (2, 0, 0, 12)12 : BIC Calculated =3698.7308304754965\n",
      "SARIMAX (2, 1, 0) x (2, 0, 1, 12)12 : BIC Calculated =3675.3296643711865\n",
      "SARIMAX (2, 1, 0) x (2, 0, 2, 12)12 : BIC Calculated =3666.081017828685\n",
      "SARIMAX (2, 1, 0) x (2, 1, 0, 12)12 : BIC Calculated =3536.8106512176087\n",
      "SARIMAX (2, 1, 0) x (2, 1, 1, 12)12 : BIC Calculated =3505.504927154401\n",
      "SARIMAX (2, 1, 0) x (2, 1, 2, 12)12 : BIC Calculated =3510.567265556888\n",
      "SARIMAX (2, 1, 0) x (2, 2, 0, 12)12 : BIC Calculated =3578.3210481716237\n",
      "SARIMAX (2, 1, 0) x (2, 2, 1, 12)12 : BIC Calculated =3456.3435036399087\n",
      "SARIMAX (2, 1, 0) x (2, 2, 2, 12)12 : BIC Calculated =3418.06821406177\n",
      "SARIMAX (2, 1, 1) x (0, 0, 0, 12)12 : BIC Calculated =4125.620476914146\n",
      "SARIMAX (2, 1, 1) x (0, 0, 1, 12)12 : BIC Calculated =3914.761882365177\n",
      "SARIMAX (2, 1, 1) x (0, 0, 2, 12)12 : BIC Calculated =3737.465764044813\n",
      "SARIMAX (2, 1, 1) x (0, 1, 0, 12)12 : BIC Calculated =3952.700310418328\n",
      "SARIMAX (2, 1, 1) x (0, 1, 1, 12)12 : BIC Calculated =3644.5824775884257\n",
      "SARIMAX (2, 1, 1) x (0, 1, 2, 12)12 : BIC Calculated =3503.6555525046933\n",
      "SARIMAX (2, 1, 1) x (0, 2, 0, 12)12 : BIC Calculated =4152.519715967774\n",
      "SARIMAX (2, 1, 1) x (0, 2, 1, 12)12 : BIC Calculated =3699.216945485855\n",
      "SARIMAX (2, 1, 1) x (0, 2, 2, 12)12 : BIC Calculated =3403.9289872557792\n",
      "SARIMAX (2, 1, 1) x (1, 0, 0, 12)12 : BIC Calculated =3872.2591548169435\n",
      "SARIMAX (2, 1, 1) x (1, 0, 1, 12)12 : BIC Calculated =3805.0827860052386\n",
      "SARIMAX (2, 1, 1) x (1, 0, 2, 12)12 : BIC Calculated =3671.176086083005\n",
      "SARIMAX (2, 1, 1) x (1, 1, 0, 12)12 : BIC Calculated =3719.0641734858787\n",
      "SARIMAX (2, 1, 1) x (1, 1, 1, 12)12 : BIC Calculated =3649.8268251642658\n",
      "SARIMAX (2, 1, 1) x (1, 1, 2, 12)12 : BIC Calculated =3508.9629247242665\n",
      "SARIMAX (2, 1, 1) x (1, 2, 0, 12)12 : BIC Calculated =3806.746756757462\n",
      "SARIMAX (2, 1, 1) x (1, 2, 1, 12)12 : BIC Calculated =3627.2346136565247\n"
     ]
    },
    {
     "name": "stderr",
     "output_type": "stream",
     "text": [
      "C:\\Users\\aspen\\anaconda3\\lib\\site-packages\\statsmodels\\base\\model.py:566: ConvergenceWarning: Maximum Likelihood optimization failed to converge. Check mle_retvals\n",
      "  warnings.warn(\"Maximum Likelihood optimization failed to \"\n"
     ]
    },
    {
     "name": "stdout",
     "output_type": "stream",
     "text": [
      "SARIMAX (2, 1, 1) x (1, 2, 2, 12)12 : BIC Calculated =3407.0581570926834\n",
      "SARIMAX (2, 1, 1) x (2, 0, 0, 12)12 : BIC Calculated =3697.430479856972\n",
      "SARIMAX (2, 1, 1) x (2, 0, 1, 12)12 : BIC Calculated =3670.9696590920926\n"
     ]
    },
    {
     "name": "stderr",
     "output_type": "stream",
     "text": [
      "C:\\Users\\aspen\\anaconda3\\lib\\site-packages\\statsmodels\\base\\model.py:566: ConvergenceWarning: Maximum Likelihood optimization failed to converge. Check mle_retvals\n",
      "  warnings.warn(\"Maximum Likelihood optimization failed to \"\n"
     ]
    },
    {
     "name": "stdout",
     "output_type": "stream",
     "text": [
      "SARIMAX (2, 1, 1) x (2, 0, 2, 12)12 : BIC Calculated =3663.6613305012647\n",
      "SARIMAX (2, 1, 1) x (2, 1, 0, 12)12 : BIC Calculated =3528.991388858557\n",
      "SARIMAX (2, 1, 1) x (2, 1, 1, 12)12 : BIC Calculated =3499.5464704665674\n",
      "SARIMAX (2, 1, 1) x (2, 1, 2, 12)12 : BIC Calculated =3504.0267895443703\n",
      "SARIMAX (2, 1, 1) x (2, 2, 0, 12)12 : BIC Calculated =3567.83227535913\n",
      "SARIMAX (2, 1, 1) x (2, 2, 1, 12)12 : BIC Calculated =3451.312702977218\n"
     ]
    },
    {
     "name": "stderr",
     "output_type": "stream",
     "text": [
      "C:\\Users\\aspen\\anaconda3\\lib\\site-packages\\statsmodels\\base\\model.py:566: ConvergenceWarning: Maximum Likelihood optimization failed to converge. Check mle_retvals\n",
      "  warnings.warn(\"Maximum Likelihood optimization failed to \"\n"
     ]
    },
    {
     "name": "stdout",
     "output_type": "stream",
     "text": [
      "SARIMAX (2, 1, 1) x (2, 2, 2, 12)12 : BIC Calculated =3418.1995986523866\n",
      "SARIMAX (2, 1, 2) x (0, 0, 0, 12)12 : BIC Calculated =4108.761566047168\n",
      "SARIMAX (2, 1, 2) x (0, 0, 1, 12)12 : BIC Calculated =3905.292234176292\n",
      "SARIMAX (2, 1, 2) x (0, 0, 2, 12)12 : BIC Calculated =3730.5477638997945\n",
      "SARIMAX (2, 1, 2) x (0, 1, 0, 12)12 : BIC Calculated =3947.5093161867676\n",
      "SARIMAX (2, 1, 2) x (0, 1, 1, 12)12 : BIC Calculated =3638.3644033569503\n",
      "SARIMAX (2, 1, 2) x (0, 1, 2, 12)12 : BIC Calculated =3497.9825904705876\n",
      "SARIMAX (2, 1, 2) x (0, 2, 0, 12)12 : BIC Calculated =4146.386821835764\n"
     ]
    },
    {
     "name": "stderr",
     "output_type": "stream",
     "text": [
      "C:\\Users\\aspen\\anaconda3\\lib\\site-packages\\statsmodels\\base\\model.py:566: ConvergenceWarning: Maximum Likelihood optimization failed to converge. Check mle_retvals\n",
      "  warnings.warn(\"Maximum Likelihood optimization failed to \"\n"
     ]
    },
    {
     "name": "stdout",
     "output_type": "stream",
     "text": [
      "SARIMAX (2, 1, 2) x (0, 2, 1, 12)12 : BIC Calculated =3671.5174570830472\n"
     ]
    },
    {
     "name": "stderr",
     "output_type": "stream",
     "text": [
      "C:\\Users\\aspen\\anaconda3\\lib\\site-packages\\statsmodels\\base\\model.py:566: ConvergenceWarning: Maximum Likelihood optimization failed to converge. Check mle_retvals\n",
      "  warnings.warn(\"Maximum Likelihood optimization failed to \"\n"
     ]
    },
    {
     "name": "stdout",
     "output_type": "stream",
     "text": [
      "SARIMAX (2, 1, 2) x (0, 2, 2, 12)12 : BIC Calculated =3403.5306443256295\n"
     ]
    },
    {
     "name": "stderr",
     "output_type": "stream",
     "text": [
      "C:\\Users\\aspen\\anaconda3\\lib\\site-packages\\statsmodels\\base\\model.py:566: ConvergenceWarning: Maximum Likelihood optimization failed to converge. Check mle_retvals\n",
      "  warnings.warn(\"Maximum Likelihood optimization failed to \"\n"
     ]
    },
    {
     "name": "stdout",
     "output_type": "stream",
     "text": [
      "SARIMAX (2, 1, 2) x (1, 0, 0, 12)12 : BIC Calculated =3874.7814543237578\n"
     ]
    },
    {
     "name": "stderr",
     "output_type": "stream",
     "text": [
      "C:\\Users\\aspen\\anaconda3\\lib\\site-packages\\statsmodels\\base\\model.py:566: ConvergenceWarning: Maximum Likelihood optimization failed to converge. Check mle_retvals\n",
      "  warnings.warn(\"Maximum Likelihood optimization failed to \"\n"
     ]
    },
    {
     "name": "stdout",
     "output_type": "stream",
     "text": [
      "SARIMAX (2, 1, 2) x (1, 0, 1, 12)12 : BIC Calculated =3801.476603822145\n"
     ]
    },
    {
     "name": "stderr",
     "output_type": "stream",
     "text": [
      "C:\\Users\\aspen\\anaconda3\\lib\\site-packages\\statsmodels\\base\\model.py:566: ConvergenceWarning: Maximum Likelihood optimization failed to converge. Check mle_retvals\n",
      "  warnings.warn(\"Maximum Likelihood optimization failed to \"\n"
     ]
    },
    {
     "name": "stdout",
     "output_type": "stream",
     "text": [
      "SARIMAX (2, 1, 2) x (1, 0, 2, 12)12 : BIC Calculated =3666.4017845348317\n",
      "SARIMAX (2, 1, 2) x (1, 1, 0, 12)12 : BIC Calculated =3724.828156344358\n",
      "SARIMAX (2, 1, 2) x (1, 1, 1, 12)12 : BIC Calculated =3644.167475412144\n"
     ]
    },
    {
     "name": "stderr",
     "output_type": "stream",
     "text": [
      "C:\\Users\\aspen\\anaconda3\\lib\\site-packages\\statsmodels\\base\\model.py:566: ConvergenceWarning: Maximum Likelihood optimization failed to converge. Check mle_retvals\n",
      "  warnings.warn(\"Maximum Likelihood optimization failed to \"\n"
     ]
    },
    {
     "name": "stdout",
     "output_type": "stream",
     "text": [
      "SARIMAX (2, 1, 2) x (1, 1, 2, 12)12 : BIC Calculated =3502.6314051602403\n",
      "SARIMAX (2, 1, 2) x (1, 2, 0, 12)12 : BIC Calculated =3803.2697216472225\n",
      "SARIMAX (2, 1, 2) x (1, 2, 1, 12)12 : BIC Calculated =3615.8092853844355\n"
     ]
    },
    {
     "name": "stderr",
     "output_type": "stream",
     "text": [
      "C:\\Users\\aspen\\anaconda3\\lib\\site-packages\\statsmodels\\base\\model.py:566: ConvergenceWarning: Maximum Likelihood optimization failed to converge. Check mle_retvals\n",
      "  warnings.warn(\"Maximum Likelihood optimization failed to \"\n"
     ]
    },
    {
     "name": "stdout",
     "output_type": "stream",
     "text": [
      "SARIMAX (2, 1, 2) x (1, 2, 2, 12)12 : BIC Calculated =3409.6972996274662\n",
      "SARIMAX (2, 1, 2) x (2, 0, 0, 12)12 : BIC Calculated =3697.2187559689123\n"
     ]
    },
    {
     "name": "stderr",
     "output_type": "stream",
     "text": [
      "C:\\Users\\aspen\\anaconda3\\lib\\site-packages\\statsmodels\\base\\model.py:566: ConvergenceWarning: Maximum Likelihood optimization failed to converge. Check mle_retvals\n",
      "  warnings.warn(\"Maximum Likelihood optimization failed to \"\n"
     ]
    },
    {
     "name": "stdout",
     "output_type": "stream",
     "text": [
      "SARIMAX (2, 1, 2) x (2, 0, 1, 12)12 : BIC Calculated =3679.4651693085048\n"
     ]
    },
    {
     "name": "stderr",
     "output_type": "stream",
     "text": [
      "C:\\Users\\aspen\\anaconda3\\lib\\site-packages\\statsmodels\\base\\model.py:566: ConvergenceWarning: Maximum Likelihood optimization failed to converge. Check mle_retvals\n",
      "  warnings.warn(\"Maximum Likelihood optimization failed to \"\n"
     ]
    },
    {
     "name": "stdout",
     "output_type": "stream",
     "text": [
      "SARIMAX (2, 1, 2) x (2, 0, 2, 12)12 : BIC Calculated =3659.9681955890687\n",
      "SARIMAX (2, 1, 2) x (2, 1, 0, 12)12 : BIC Calculated =3534.5006298028247\n",
      "SARIMAX (2, 1, 2) x (2, 1, 1, 12)12 : BIC Calculated =3508.1540328569\n"
     ]
    },
    {
     "name": "stderr",
     "output_type": "stream",
     "text": [
      "C:\\Users\\aspen\\anaconda3\\lib\\site-packages\\statsmodels\\base\\model.py:566: ConvergenceWarning: Maximum Likelihood optimization failed to converge. Check mle_retvals\n",
      "  warnings.warn(\"Maximum Likelihood optimization failed to \"\n"
     ]
    },
    {
     "name": "stdout",
     "output_type": "stream",
     "text": [
      "SARIMAX (2, 1, 2) x (2, 1, 2, 12)12 : BIC Calculated =3501.07253468569\n",
      "SARIMAX (2, 1, 2) x (2, 2, 0, 12)12 : BIC Calculated =3574.2290335041052\n",
      "SARIMAX (2, 1, 2) x (2, 2, 1, 12)12 : BIC Calculated =3454.4421121101236\n"
     ]
    },
    {
     "name": "stderr",
     "output_type": "stream",
     "text": [
      "C:\\Users\\aspen\\anaconda3\\lib\\site-packages\\statsmodels\\base\\model.py:566: ConvergenceWarning: Maximum Likelihood optimization failed to converge. Check mle_retvals\n",
      "  warnings.warn(\"Maximum Likelihood optimization failed to \"\n"
     ]
    },
    {
     "name": "stdout",
     "output_type": "stream",
     "text": [
      "SARIMAX (2, 1, 2) x (2, 2, 2, 12)12 : BIC Calculated =3406.79715175903\n",
      "SARIMAX (2, 2, 0) x (0, 0, 0, 12)12 : BIC Calculated =4301.123258487386\n",
      "SARIMAX (2, 2, 0) x (0, 0, 1, 12)12 : BIC Calculated =4100.1482147126035\n",
      "SARIMAX (2, 2, 0) x (0, 0, 2, 12)12 : BIC Calculated =3914.6072188526273\n",
      "SARIMAX (2, 2, 0) x (0, 1, 0, 12)12 : BIC Calculated =4112.264284607137\n",
      "SARIMAX (2, 2, 0) x (0, 1, 1, 12)12 : BIC Calculated =3826.667400566332\n",
      "SARIMAX (2, 2, 0) x (0, 1, 2, 12)12 : BIC Calculated =3680.653880457996\n",
      "SARIMAX (2, 2, 0) x (0, 2, 0, 12)12 : BIC Calculated =4302.498418063318\n",
      "SARIMAX (2, 2, 0) x (0, 2, 1, 12)12 : BIC Calculated =3840.1797392342696\n",
      "SARIMAX (2, 2, 0) x (0, 2, 2, 12)12 : BIC Calculated =3582.7395808328265\n",
      "SARIMAX (2, 2, 0) x (1, 0, 0, 12)12 : BIC Calculated =4038.9794168849576\n",
      "SARIMAX (2, 2, 0) x (1, 0, 1, 12)12 : BIC Calculated =3968.593678105285\n",
      "SARIMAX (2, 2, 0) x (1, 0, 2, 12)12 : BIC Calculated =3845.4727183420855\n",
      "SARIMAX (2, 2, 0) x (1, 1, 0, 12)12 : BIC Calculated =3887.0343615307133\n",
      "SARIMAX (2, 2, 0) x (1, 1, 1, 12)12 : BIC Calculated =3818.9447652830877\n",
      "SARIMAX (2, 2, 0) x (1, 1, 2, 12)12 : BIC Calculated =3685.5993269734217\n",
      "SARIMAX (2, 2, 0) x (1, 2, 0, 12)12 : BIC Calculated =3970.6155059655575\n",
      "SARIMAX (2, 2, 0) x (1, 2, 1, 12)12 : BIC Calculated =3785.3247237061505\n",
      "SARIMAX (2, 2, 0) x (1, 2, 2, 12)12 : BIC Calculated =3588.162720446849\n",
      "SARIMAX (2, 2, 0) x (2, 0, 0, 12)12 : BIC Calculated =3856.0902036011325\n"
     ]
    },
    {
     "name": "stderr",
     "output_type": "stream",
     "text": [
      "C:\\Users\\aspen\\anaconda3\\lib\\site-packages\\statsmodels\\base\\model.py:566: ConvergenceWarning: Maximum Likelihood optimization failed to converge. Check mle_retvals\n",
      "  warnings.warn(\"Maximum Likelihood optimization failed to \"\n"
     ]
    },
    {
     "name": "stdout",
     "output_type": "stream",
     "text": [
      "SARIMAX (2, 2, 0) x (2, 0, 1, 12)12 : BIC Calculated =3834.9794339283367\n",
      "SARIMAX (2, 2, 0) x (2, 0, 2, 12)12 : BIC Calculated =3825.7019892815165\n",
      "SARIMAX (2, 2, 0) x (2, 1, 0, 12)12 : BIC Calculated =3696.4702745500485\n",
      "SARIMAX (2, 2, 0) x (2, 1, 1, 12)12 : BIC Calculated =3668.943361173919\n",
      "SARIMAX (2, 2, 0) x (2, 1, 2, 12)12 : BIC Calculated =3672.576362799353\n",
      "SARIMAX (2, 2, 0) x (2, 2, 0, 12)12 : BIC Calculated =3725.6711648727305\n",
      "SARIMAX (2, 2, 0) x (2, 2, 1, 12)12 : BIC Calculated =3609.4730646488306\n",
      "SARIMAX (2, 2, 0) x (2, 2, 2, 12)12 : BIC Calculated =3578.714925056186\n",
      "SARIMAX (2, 2, 1) x (0, 0, 0, 12)12 : BIC Calculated =4167.825830258295\n",
      "SARIMAX (2, 2, 1) x (0, 0, 1, 12)12 : BIC Calculated =3949.9459226965932\n",
      "SARIMAX (2, 2, 1) x (0, 0, 2, 12)12 : BIC Calculated =3756.130829654203\n",
      "SARIMAX (2, 2, 1) x (0, 1, 0, 12)12 : BIC Calculated =3955.659582631688\n",
      "SARIMAX (2, 2, 1) x (0, 1, 1, 12)12 : BIC Calculated =3649.70976026516\n",
      "SARIMAX (2, 2, 1) x (0, 1, 2, 12)12 : BIC Calculated =3511.908273598513\n",
      "SARIMAX (2, 2, 1) x (0, 2, 0, 12)12 : BIC Calculated =4152.440914933746\n",
      "SARIMAX (2, 2, 1) x (0, 2, 1, 12)12 : BIC Calculated =3671.1464424765018\n",
      "SARIMAX (2, 2, 1) x (0, 2, 2, 12)12 : BIC Calculated =3415.9450453293166\n",
      "SARIMAX (2, 2, 1) x (1, 0, 0, 12)12 : BIC Calculated =3890.9635979614486\n",
      "SARIMAX (2, 2, 1) x (1, 0, 1, 12)12 : BIC Calculated =3812.7076786386424\n",
      "SARIMAX (2, 2, 1) x (1, 0, 2, 12)12 : BIC Calculated =3679.279030803234\n",
      "SARIMAX (2, 2, 1) x (1, 1, 0, 12)12 : BIC Calculated =3720.4840503791975\n",
      "SARIMAX (2, 2, 1) x (1, 1, 1, 12)12 : BIC Calculated =3654.993568925212\n",
      "SARIMAX (2, 2, 1) x (1, 1, 2, 12)12 : BIC Calculated =3516.906342072228\n",
      "SARIMAX (2, 2, 1) x (1, 2, 0, 12)12 : BIC Calculated =3806.8229046936203\n",
      "SARIMAX (2, 2, 1) x (1, 2, 1, 12)12 : BIC Calculated =3628.7900683931894\n",
      "SARIMAX (2, 2, 1) x (1, 2, 2, 12)12 : BIC Calculated =3420.9423133093023\n",
      "SARIMAX (2, 2, 1) x (2, 0, 0, 12)12 : BIC Calculated =3698.8789195802806\n",
      "SARIMAX (2, 2, 1) x (2, 0, 1, 12)12 : BIC Calculated =3679.51719415535\n",
      "SARIMAX (2, 2, 1) x (2, 0, 2, 12)12 : BIC Calculated =3668.358728811003\n",
      "SARIMAX (2, 2, 1) x (2, 1, 0, 12)12 : BIC Calculated =3538.766648463936\n",
      "SARIMAX (2, 2, 1) x (2, 1, 1, 12)12 : BIC Calculated =3511.5036583184583\n",
      "SARIMAX (2, 2, 1) x (2, 1, 2, 12)12 : BIC Calculated =3517.222336756531\n",
      "SARIMAX (2, 2, 1) x (2, 2, 0, 12)12 : BIC Calculated =3578.660606208432\n",
      "SARIMAX (2, 2, 1) x (2, 2, 1, 12)12 : BIC Calculated =3461.3785837481573\n"
     ]
    },
    {
     "name": "stderr",
     "output_type": "stream",
     "text": [
      "C:\\Users\\aspen\\anaconda3\\lib\\site-packages\\statsmodels\\base\\model.py:566: ConvergenceWarning: Maximum Likelihood optimization failed to converge. Check mle_retvals\n",
      "  warnings.warn(\"Maximum Likelihood optimization failed to \"\n"
     ]
    },
    {
     "name": "stdout",
     "output_type": "stream",
     "text": [
      "SARIMAX (2, 2, 1) x (2, 2, 2, 12)12 : BIC Calculated =3424.714433337874\n",
      "SARIMAX (2, 2, 2) x (0, 0, 0, 12)12 : BIC Calculated =4111.127967363726\n"
     ]
    },
    {
     "name": "stderr",
     "output_type": "stream",
     "text": [
      "C:\\Users\\aspen\\anaconda3\\lib\\site-packages\\statsmodels\\base\\model.py:566: ConvergenceWarning: Maximum Likelihood optimization failed to converge. Check mle_retvals\n",
      "  warnings.warn(\"Maximum Likelihood optimization failed to \"\n"
     ]
    },
    {
     "name": "stdout",
     "output_type": "stream",
     "text": [
      "SARIMAX (2, 2, 2) x (0, 0, 1, 12)12 : BIC Calculated =3908.705379789599\n"
     ]
    },
    {
     "name": "stderr",
     "output_type": "stream",
     "text": [
      "C:\\Users\\aspen\\anaconda3\\lib\\site-packages\\statsmodels\\base\\model.py:566: ConvergenceWarning: Maximum Likelihood optimization failed to converge. Check mle_retvals\n",
      "  warnings.warn(\"Maximum Likelihood optimization failed to \"\n"
     ]
    },
    {
     "name": "stdout",
     "output_type": "stream",
     "text": [
      "SARIMAX (2, 2, 2) x (0, 0, 2, 12)12 : BIC Calculated =3793.0340383597136\n",
      "SARIMAX (2, 2, 2) x (0, 1, 0, 12)12 : BIC Calculated =3942.9284769353917\n"
     ]
    },
    {
     "name": "stderr",
     "output_type": "stream",
     "text": [
      "C:\\Users\\aspen\\anaconda3\\lib\\site-packages\\statsmodels\\base\\model.py:566: ConvergenceWarning: Maximum Likelihood optimization failed to converge. Check mle_retvals\n",
      "  warnings.warn(\"Maximum Likelihood optimization failed to \"\n"
     ]
    },
    {
     "name": "stdout",
     "output_type": "stream",
     "text": [
      "SARIMAX (2, 2, 2) x (0, 1, 1, 12)12 : BIC Calculated =3637.629394319486\n"
     ]
    },
    {
     "name": "stderr",
     "output_type": "stream",
     "text": [
      "C:\\Users\\aspen\\anaconda3\\lib\\site-packages\\statsmodels\\base\\model.py:566: ConvergenceWarning: Maximum Likelihood optimization failed to converge. Check mle_retvals\n",
      "  warnings.warn(\"Maximum Likelihood optimization failed to \"\n"
     ]
    },
    {
     "name": "stdout",
     "output_type": "stream",
     "text": [
      "SARIMAX (2, 2, 2) x (0, 1, 2, 12)12 : BIC Calculated =3490.3443365669514\n",
      "SARIMAX (2, 2, 2) x (0, 2, 0, 12)12 : BIC Calculated =4138.754320528594\n",
      "SARIMAX (2, 2, 2) x (0, 2, 1, 12)12 : BIC Calculated =3659.4486801158396\n"
     ]
    },
    {
     "name": "stderr",
     "output_type": "stream",
     "text": [
      "C:\\Users\\aspen\\anaconda3\\lib\\site-packages\\statsmodels\\base\\model.py:566: ConvergenceWarning: Maximum Likelihood optimization failed to converge. Check mle_retvals\n",
      "  warnings.warn(\"Maximum Likelihood optimization failed to \"\n"
     ]
    },
    {
     "name": "stdout",
     "output_type": "stream",
     "text": [
      "SARIMAX (2, 2, 2) x (0, 2, 2, 12)12 : BIC Calculated =3401.5757823390186\n"
     ]
    },
    {
     "name": "stderr",
     "output_type": "stream",
     "text": [
      "C:\\Users\\aspen\\anaconda3\\lib\\site-packages\\statsmodels\\base\\model.py:566: ConvergenceWarning: Maximum Likelihood optimization failed to converge. Check mle_retvals\n",
      "  warnings.warn(\"Maximum Likelihood optimization failed to \"\n"
     ]
    },
    {
     "name": "stdout",
     "output_type": "stream",
     "text": [
      "SARIMAX (2, 2, 2) x (1, 0, 0, 12)12 : BIC Calculated =3878.646389021609\n"
     ]
    },
    {
     "name": "stderr",
     "output_type": "stream",
     "text": [
      "C:\\Users\\aspen\\anaconda3\\lib\\site-packages\\statsmodels\\base\\model.py:566: ConvergenceWarning: Maximum Likelihood optimization failed to converge. Check mle_retvals\n",
      "  warnings.warn(\"Maximum Likelihood optimization failed to \"\n"
     ]
    },
    {
     "name": "stdout",
     "output_type": "stream",
     "text": [
      "SARIMAX (2, 2, 2) x (1, 0, 1, 12)12 : BIC Calculated =3800.4606418690196\n"
     ]
    },
    {
     "name": "stderr",
     "output_type": "stream",
     "text": [
      "C:\\Users\\aspen\\anaconda3\\lib\\site-packages\\statsmodels\\base\\model.py:566: ConvergenceWarning: Maximum Likelihood optimization failed to converge. Check mle_retvals\n",
      "  warnings.warn(\"Maximum Likelihood optimization failed to \"\n"
     ]
    },
    {
     "name": "stdout",
     "output_type": "stream",
     "text": [
      "SARIMAX (2, 2, 2) x (1, 0, 2, 12)12 : BIC Calculated =3710.2322006333993\n",
      "SARIMAX (2, 2, 2) x (1, 1, 0, 12)12 : BIC Calculated =3719.77888270751\n"
     ]
    },
    {
     "name": "stderr",
     "output_type": "stream",
     "text": [
      "C:\\Users\\aspen\\anaconda3\\lib\\site-packages\\statsmodels\\base\\model.py:566: ConvergenceWarning: Maximum Likelihood optimization failed to converge. Check mle_retvals\n",
      "  warnings.warn(\"Maximum Likelihood optimization failed to \"\n"
     ]
    },
    {
     "name": "stdout",
     "output_type": "stream",
     "text": [
      "SARIMAX (2, 2, 2) x (1, 1, 1, 12)12 : BIC Calculated =3638.838041843338\n"
     ]
    },
    {
     "name": "stderr",
     "output_type": "stream",
     "text": [
      "C:\\Users\\aspen\\anaconda3\\lib\\site-packages\\statsmodels\\base\\model.py:566: ConvergenceWarning: Maximum Likelihood optimization failed to converge. Check mle_retvals\n",
      "  warnings.warn(\"Maximum Likelihood optimization failed to \"\n"
     ]
    },
    {
     "name": "stdout",
     "output_type": "stream",
     "text": [
      "SARIMAX (2, 2, 2) x (1, 1, 2, 12)12 : BIC Calculated =3527.7283719911716\n",
      "SARIMAX (2, 2, 2) x (1, 2, 0, 12)12 : BIC Calculated =3805.7374655692556\n",
      "SARIMAX (2, 2, 2) x (1, 2, 1, 12)12 : BIC Calculated =3616.39032185756\n"
     ]
    },
    {
     "name": "stderr",
     "output_type": "stream",
     "text": [
      "C:\\Users\\aspen\\anaconda3\\lib\\site-packages\\statsmodels\\base\\model.py:566: ConvergenceWarning: Maximum Likelihood optimization failed to converge. Check mle_retvals\n",
      "  warnings.warn(\"Maximum Likelihood optimization failed to \"\n"
     ]
    },
    {
     "name": "stdout",
     "output_type": "stream",
     "text": [
      "SARIMAX (2, 2, 2) x (1, 2, 2, 12)12 : BIC Calculated =3410.293628354042\n",
      "SARIMAX (2, 2, 2) x (2, 0, 0, 12)12 : BIC Calculated =3697.1722081714124\n"
     ]
    },
    {
     "name": "stderr",
     "output_type": "stream",
     "text": [
      "C:\\Users\\aspen\\anaconda3\\lib\\site-packages\\statsmodels\\base\\model.py:566: ConvergenceWarning: Maximum Likelihood optimization failed to converge. Check mle_retvals\n",
      "  warnings.warn(\"Maximum Likelihood optimization failed to \"\n"
     ]
    },
    {
     "name": "stdout",
     "output_type": "stream",
     "text": [
      "SARIMAX (2, 2, 2) x (2, 0, 1, 12)12 : BIC Calculated =3706.967410766908\n"
     ]
    },
    {
     "name": "stderr",
     "output_type": "stream",
     "text": [
      "C:\\Users\\aspen\\anaconda3\\lib\\site-packages\\statsmodels\\base\\model.py:566: ConvergenceWarning: Maximum Likelihood optimization failed to converge. Check mle_retvals\n",
      "  warnings.warn(\"Maximum Likelihood optimization failed to \"\n"
     ]
    },
    {
     "name": "stdout",
     "output_type": "stream",
     "text": [
      "SARIMAX (2, 2, 2) x (2, 0, 2, 12)12 : BIC Calculated =3667.9927682488797\n"
     ]
    },
    {
     "name": "stderr",
     "output_type": "stream",
     "text": [
      "C:\\Users\\aspen\\anaconda3\\lib\\site-packages\\statsmodels\\base\\model.py:566: ConvergenceWarning: Maximum Likelihood optimization failed to converge. Check mle_retvals\n",
      "  warnings.warn(\"Maximum Likelihood optimization failed to \"\n"
     ]
    },
    {
     "name": "stdout",
     "output_type": "stream",
     "text": [
      "SARIMAX (2, 2, 2) x (2, 1, 0, 12)12 : BIC Calculated =3532.1398105414128\n"
     ]
    },
    {
     "name": "stderr",
     "output_type": "stream",
     "text": [
      "C:\\Users\\aspen\\anaconda3\\lib\\site-packages\\statsmodels\\base\\model.py:566: ConvergenceWarning: Maximum Likelihood optimization failed to converge. Check mle_retvals\n",
      "  warnings.warn(\"Maximum Likelihood optimization failed to \"\n"
     ]
    },
    {
     "name": "stdout",
     "output_type": "stream",
     "text": [
      "SARIMAX (2, 2, 2) x (2, 1, 1, 12)12 : BIC Calculated =3505.6667839885936\n"
     ]
    },
    {
     "name": "stderr",
     "output_type": "stream",
     "text": [
      "C:\\Users\\aspen\\anaconda3\\lib\\site-packages\\statsmodels\\base\\model.py:566: ConvergenceWarning: Maximum Likelihood optimization failed to converge. Check mle_retvals\n",
      "  warnings.warn(\"Maximum Likelihood optimization failed to \"\n"
     ]
    },
    {
     "name": "stdout",
     "output_type": "stream",
     "text": [
      "SARIMAX (2, 2, 2) x (2, 1, 2, 12)12 : BIC Calculated =3556.112973926399\n"
     ]
    },
    {
     "name": "stderr",
     "output_type": "stream",
     "text": [
      "C:\\Users\\aspen\\anaconda3\\lib\\site-packages\\statsmodels\\base\\model.py:566: ConvergenceWarning: Maximum Likelihood optimization failed to converge. Check mle_retvals\n",
      "  warnings.warn(\"Maximum Likelihood optimization failed to \"\n"
     ]
    },
    {
     "name": "stdout",
     "output_type": "stream",
     "text": [
      "SARIMAX (2, 2, 2) x (2, 2, 0, 12)12 : BIC Calculated =3601.913338328349\n"
     ]
    },
    {
     "name": "stderr",
     "output_type": "stream",
     "text": [
      "C:\\Users\\aspen\\anaconda3\\lib\\site-packages\\statsmodels\\base\\model.py:566: ConvergenceWarning: Maximum Likelihood optimization failed to converge. Check mle_retvals\n",
      "  warnings.warn(\"Maximum Likelihood optimization failed to \"\n"
     ]
    },
    {
     "name": "stdout",
     "output_type": "stream",
     "text": [
      "SARIMAX (2, 2, 2) x (2, 2, 1, 12)12 : BIC Calculated =3461.0720164666923\n"
     ]
    },
    {
     "name": "stderr",
     "output_type": "stream",
     "text": [
      "C:\\Users\\aspen\\anaconda3\\lib\\site-packages\\statsmodels\\base\\model.py:566: ConvergenceWarning: Maximum Likelihood optimization failed to converge. Check mle_retvals\n",
      "  warnings.warn(\"Maximum Likelihood optimization failed to \"\n"
     ]
    },
    {
     "name": "stdout",
     "output_type": "stream",
     "text": [
      "SARIMAX (2, 2, 2) x (2, 2, 2, 12)12 : BIC Calculated =3461.206040609655\n"
     ]
    },
    {
     "data": {
      "text/html": [
       "<div>\n",
       "<style scoped>\n",
       "    .dataframe tbody tr th:only-of-type {\n",
       "        vertical-align: middle;\n",
       "    }\n",
       "\n",
       "    .dataframe tbody tr th {\n",
       "        vertical-align: top;\n",
       "    }\n",
       "\n",
       "    .dataframe thead th {\n",
       "        text-align: right;\n",
       "    }\n",
       "</style>\n",
       "<table border=\"1\" class=\"dataframe\">\n",
       "  <thead>\n",
       "    <tr style=\"text-align: right;\">\n",
       "      <th></th>\n",
       "      <th>pdq</th>\n",
       "      <th>pdqs</th>\n",
       "      <th>bic</th>\n",
       "    </tr>\n",
       "  </thead>\n",
       "  <tbody>\n",
       "    <tr>\n",
       "      <th>143</th>\n",
       "      <td>(0, 1, 2)</td>\n",
       "      <td>(0, 2, 2, 12)</td>\n",
       "      <td>3391.062466</td>\n",
       "    </tr>\n",
       "    <tr>\n",
       "      <th>386</th>\n",
       "      <td>(1, 1, 2)</td>\n",
       "      <td>(0, 2, 2, 12)</td>\n",
       "      <td>3391.265622</td>\n",
       "    </tr>\n",
       "    <tr>\n",
       "      <th>152</th>\n",
       "      <td>(0, 1, 2)</td>\n",
       "      <td>(1, 2, 2, 12)</td>\n",
       "      <td>3392.649079</td>\n",
       "    </tr>\n",
       "    <tr>\n",
       "      <th>224</th>\n",
       "      <td>(0, 2, 2)</td>\n",
       "      <td>(0, 2, 2, 12)</td>\n",
       "      <td>3393.988898</td>\n",
       "    </tr>\n",
       "    <tr>\n",
       "      <th>161</th>\n",
       "      <td>(0, 1, 2)</td>\n",
       "      <td>(2, 2, 2, 12)</td>\n",
       "      <td>3395.417232</td>\n",
       "    </tr>\n",
       "  </tbody>\n",
       "</table>\n",
       "</div>"
      ],
      "text/plain": [
       "           pdq           pdqs          bic\n",
       "143  (0, 1, 2)  (0, 2, 2, 12)  3391.062466\n",
       "386  (1, 1, 2)  (0, 2, 2, 12)  3391.265622\n",
       "152  (0, 1, 2)  (1, 2, 2, 12)  3392.649079\n",
       "224  (0, 2, 2)  (0, 2, 2, 12)  3393.988898\n",
       "161  (0, 1, 2)  (2, 2, 2, 12)  3395.417232"
      ]
     },
     "execution_count": 36,
     "metadata": {},
     "output_type": "execute_result"
    }
   ],
   "source": [
    "results_df = sarimax_gridsearch(ts, pdq, pdqs, freq='M')\n",
    "results_df"
   ]
  },
  {
   "cell_type": "code",
   "execution_count": null,
   "id": "b8ecb457",
   "metadata": {},
   "outputs": [],
   "source": [
    "SARIMAX (0, 0, 2) x (0, 2, 2, 12)12 : BIC Calculated =3491.8891444072333\n",
    "    \n",
    "SARIMAX (0, 1, 1) x (1, 2, 2, 12)12 : BIC Calculated =3399.3717032038985\n",
    "        \n",
    "SARIMAX (0, 1, 2) x (0, 2, 2, 12)12 : BIC Calculated =3391.062465988071"
   ]
  },
  {
   "cell_type": "code",
   "execution_count": null,
   "id": "8a20a989",
   "metadata": {},
   "outputs": [],
   "source": [
    "results_df.to_csv"
   ]
  },
  {
   "cell_type": "code",
   "execution_count": 39,
   "id": "70e301f8",
   "metadata": {},
   "outputs": [
    {
     "ename": "KeyError",
     "evalue": "3391.062465988071",
     "output_type": "error",
     "traceback": [
      "\u001b[1;31m---------------------------------------------------------------------------\u001b[0m",
      "\u001b[1;31mKeyError\u001b[0m                                  Traceback (most recent call last)",
      "\u001b[1;32m~\\anaconda3\\lib\\site-packages\\pandas\\core\\indexes\\base.py\u001b[0m in \u001b[0;36mget_loc\u001b[1;34m(self, key, method, tolerance)\u001b[0m\n\u001b[0;32m   3360\u001b[0m             \u001b[1;32mtry\u001b[0m\u001b[1;33m:\u001b[0m\u001b[1;33m\u001b[0m\u001b[1;33m\u001b[0m\u001b[0m\n\u001b[1;32m-> 3361\u001b[1;33m                 \u001b[1;32mreturn\u001b[0m \u001b[0mself\u001b[0m\u001b[1;33m.\u001b[0m\u001b[0m_engine\u001b[0m\u001b[1;33m.\u001b[0m\u001b[0mget_loc\u001b[0m\u001b[1;33m(\u001b[0m\u001b[0mcasted_key\u001b[0m\u001b[1;33m)\u001b[0m\u001b[1;33m\u001b[0m\u001b[1;33m\u001b[0m\u001b[0m\n\u001b[0m\u001b[0;32m   3362\u001b[0m             \u001b[1;32mexcept\u001b[0m \u001b[0mKeyError\u001b[0m \u001b[1;32mas\u001b[0m \u001b[0merr\u001b[0m\u001b[1;33m:\u001b[0m\u001b[1;33m\u001b[0m\u001b[1;33m\u001b[0m\u001b[0m\n",
      "\u001b[1;32m~\\anaconda3\\lib\\site-packages\\pandas\\_libs\\index.pyx\u001b[0m in \u001b[0;36mpandas._libs.index.IndexEngine.get_loc\u001b[1;34m()\u001b[0m\n",
      "\u001b[1;32m~\\anaconda3\\lib\\site-packages\\pandas\\_libs\\index.pyx\u001b[0m in \u001b[0;36mpandas._libs.index.IndexEngine.get_loc\u001b[1;34m()\u001b[0m\n",
      "\u001b[1;32mpandas\\_libs\\hashtable_class_helper.pxi\u001b[0m in \u001b[0;36mpandas._libs.hashtable.PyObjectHashTable.get_item\u001b[1;34m()\u001b[0m\n",
      "\u001b[1;32mpandas\\_libs\\hashtable_class_helper.pxi\u001b[0m in \u001b[0;36mpandas._libs.hashtable.PyObjectHashTable.get_item\u001b[1;34m()\u001b[0m\n",
      "\u001b[1;31mKeyError\u001b[0m: 3391.062465988071",
      "\nThe above exception was the direct cause of the following exception:\n",
      "\u001b[1;31mKeyError\u001b[0m                                  Traceback (most recent call last)",
      "\u001b[1;32m~\\AppData\\Local\\Temp/ipykernel_2652/3339184713.py\u001b[0m in \u001b[0;36m<module>\u001b[1;34m\u001b[0m\n\u001b[1;32m----> 1\u001b[1;33m \u001b[0mresults_df\u001b[0m\u001b[1;33m[\u001b[0m\u001b[0mresults_df\u001b[0m\u001b[1;33m[\u001b[0m\u001b[1;34m'bic'\u001b[0m\u001b[1;33m]\u001b[0m\u001b[1;33m.\u001b[0m\u001b[0mmin\u001b[0m\u001b[1;33m(\u001b[0m\u001b[1;33m)\u001b[0m\u001b[1;33m]\u001b[0m\u001b[1;33m\u001b[0m\u001b[1;33m\u001b[0m\u001b[0m\n\u001b[0m",
      "\u001b[1;32m~\\anaconda3\\lib\\site-packages\\pandas\\core\\frame.py\u001b[0m in \u001b[0;36m__getitem__\u001b[1;34m(self, key)\u001b[0m\n\u001b[0;32m   3456\u001b[0m             \u001b[1;32mif\u001b[0m \u001b[0mself\u001b[0m\u001b[1;33m.\u001b[0m\u001b[0mcolumns\u001b[0m\u001b[1;33m.\u001b[0m\u001b[0mnlevels\u001b[0m \u001b[1;33m>\u001b[0m \u001b[1;36m1\u001b[0m\u001b[1;33m:\u001b[0m\u001b[1;33m\u001b[0m\u001b[1;33m\u001b[0m\u001b[0m\n\u001b[0;32m   3457\u001b[0m                 \u001b[1;32mreturn\u001b[0m \u001b[0mself\u001b[0m\u001b[1;33m.\u001b[0m\u001b[0m_getitem_multilevel\u001b[0m\u001b[1;33m(\u001b[0m\u001b[0mkey\u001b[0m\u001b[1;33m)\u001b[0m\u001b[1;33m\u001b[0m\u001b[1;33m\u001b[0m\u001b[0m\n\u001b[1;32m-> 3458\u001b[1;33m             \u001b[0mindexer\u001b[0m \u001b[1;33m=\u001b[0m \u001b[0mself\u001b[0m\u001b[1;33m.\u001b[0m\u001b[0mcolumns\u001b[0m\u001b[1;33m.\u001b[0m\u001b[0mget_loc\u001b[0m\u001b[1;33m(\u001b[0m\u001b[0mkey\u001b[0m\u001b[1;33m)\u001b[0m\u001b[1;33m\u001b[0m\u001b[1;33m\u001b[0m\u001b[0m\n\u001b[0m\u001b[0;32m   3459\u001b[0m             \u001b[1;32mif\u001b[0m \u001b[0mis_integer\u001b[0m\u001b[1;33m(\u001b[0m\u001b[0mindexer\u001b[0m\u001b[1;33m)\u001b[0m\u001b[1;33m:\u001b[0m\u001b[1;33m\u001b[0m\u001b[1;33m\u001b[0m\u001b[0m\n\u001b[0;32m   3460\u001b[0m                 \u001b[0mindexer\u001b[0m \u001b[1;33m=\u001b[0m \u001b[1;33m[\u001b[0m\u001b[0mindexer\u001b[0m\u001b[1;33m]\u001b[0m\u001b[1;33m\u001b[0m\u001b[1;33m\u001b[0m\u001b[0m\n",
      "\u001b[1;32m~\\anaconda3\\lib\\site-packages\\pandas\\core\\indexes\\base.py\u001b[0m in \u001b[0;36mget_loc\u001b[1;34m(self, key, method, tolerance)\u001b[0m\n\u001b[0;32m   3361\u001b[0m                 \u001b[1;32mreturn\u001b[0m \u001b[0mself\u001b[0m\u001b[1;33m.\u001b[0m\u001b[0m_engine\u001b[0m\u001b[1;33m.\u001b[0m\u001b[0mget_loc\u001b[0m\u001b[1;33m(\u001b[0m\u001b[0mcasted_key\u001b[0m\u001b[1;33m)\u001b[0m\u001b[1;33m\u001b[0m\u001b[1;33m\u001b[0m\u001b[0m\n\u001b[0;32m   3362\u001b[0m             \u001b[1;32mexcept\u001b[0m \u001b[0mKeyError\u001b[0m \u001b[1;32mas\u001b[0m \u001b[0merr\u001b[0m\u001b[1;33m:\u001b[0m\u001b[1;33m\u001b[0m\u001b[1;33m\u001b[0m\u001b[0m\n\u001b[1;32m-> 3363\u001b[1;33m                 \u001b[1;32mraise\u001b[0m \u001b[0mKeyError\u001b[0m\u001b[1;33m(\u001b[0m\u001b[0mkey\u001b[0m\u001b[1;33m)\u001b[0m \u001b[1;32mfrom\u001b[0m \u001b[0merr\u001b[0m\u001b[1;33m\u001b[0m\u001b[1;33m\u001b[0m\u001b[0m\n\u001b[0m\u001b[0;32m   3364\u001b[0m \u001b[1;33m\u001b[0m\u001b[0m\n\u001b[0;32m   3365\u001b[0m         \u001b[1;32mif\u001b[0m \u001b[0mis_scalar\u001b[0m\u001b[1;33m(\u001b[0m\u001b[0mkey\u001b[0m\u001b[1;33m)\u001b[0m \u001b[1;32mand\u001b[0m \u001b[0misna\u001b[0m\u001b[1;33m(\u001b[0m\u001b[0mkey\u001b[0m\u001b[1;33m)\u001b[0m \u001b[1;32mand\u001b[0m \u001b[1;32mnot\u001b[0m \u001b[0mself\u001b[0m\u001b[1;33m.\u001b[0m\u001b[0mhasnans\u001b[0m\u001b[1;33m:\u001b[0m\u001b[1;33m\u001b[0m\u001b[1;33m\u001b[0m\u001b[0m\n",
      "\u001b[1;31mKeyError\u001b[0m: 3391.062465988071"
     ]
    }
   ],
   "source": [
    "results_df[results_df['bic'].min()]"
   ]
  },
  {
   "cell_type": "code",
   "execution_count": null,
   "id": "b71f6ac4",
   "metadata": {},
   "outputs": [],
   "source": []
  },
  {
   "cell_type": "markdown",
   "id": "f2ee896a",
   "metadata": {},
   "source": [
    "### Supervised Learning with Timeseries"
   ]
  },
  {
   "cell_type": "code",
   "execution_count": null,
   "id": "38746653",
   "metadata": {},
   "outputs": [],
   "source": [
    "#create lag features t, t-1, t-2, etc\n",
    "#can compute more advanced features like rolling mean pd rolling() \n",
    "#or expanding windows pd expanding()\n",
    "#use ridge regression to select most impactful lag features\n",
    "\n",
    "#walk forward validation with sklearn TimeSeriesSplit()\n",
    "\n",
    "#evaluation with MAE, MSE, RMSE"
   ]
  },
  {
   "cell_type": "code",
   "execution_count": 42,
   "id": "dc96bf10",
   "metadata": {},
   "outputs": [
    {
     "name": "stdout",
     "output_type": "stream",
     "text": [
      "<class 'pandas.core.frame.DataFrame'>\n",
      "RangeIndex: 219577 entries, 0 to 219576\n",
      "Data columns (total 13 columns):\n",
      " #   Column                 Non-Null Count   Dtype         \n",
      "---  ------                 --------------   -----         \n",
      " 0   DATA_YEAR              219577 non-null  int64         \n",
      " 1   STATE_ABBR             219577 non-null  object        \n",
      " 2   REGION_NAME            219577 non-null  object        \n",
      " 3   POPULATION_GROUP_CODE  219577 non-null  object        \n",
      " 4   INCIDENT_DATE          219577 non-null  datetime64[ns]\n",
      " 5   TOTAL_OFFENDER_COUNT   219577 non-null  int64         \n",
      " 6   OFFENDER_RACE          219577 non-null  object        \n",
      " 7   VICTIM_COUNT           219577 non-null  int64         \n",
      " 8   OFFENSE_NAME           219577 non-null  object        \n",
      " 9   LOCATION_NAME          219577 non-null  object        \n",
      " 10  BIAS_DESC              219577 non-null  object        \n",
      " 11  VICTIM_TYPES           219577 non-null  object        \n",
      " 12  TOTAL_INCIDENTS        219577 non-null  int64         \n",
      "dtypes: datetime64[ns](1), int64(4), object(8)\n",
      "memory usage: 21.8+ MB\n"
     ]
    }
   ],
   "source": [
    "hate_crime.info()"
   ]
  },
  {
   "cell_type": "code",
   "execution_count": null,
   "id": "46bf7257",
   "metadata": {},
   "outputs": [],
   "source": [
    "regions = hate_crime"
   ]
  },
  {
   "cell_type": "code",
   "execution_count": 45,
   "id": "2d7c4d22",
   "metadata": {},
   "outputs": [
    {
     "data": {
      "text/html": [
       "<div>\n",
       "<style scoped>\n",
       "    .dataframe tbody tr th:only-of-type {\n",
       "        vertical-align: middle;\n",
       "    }\n",
       "\n",
       "    .dataframe tbody tr th {\n",
       "        vertical-align: top;\n",
       "    }\n",
       "\n",
       "    .dataframe thead th {\n",
       "        text-align: right;\n",
       "    }\n",
       "</style>\n",
       "<table border=\"1\" class=\"dataframe\">\n",
       "  <thead>\n",
       "    <tr style=\"text-align: right;\">\n",
       "      <th></th>\n",
       "      <th>REGION_NAME</th>\n",
       "      <th>DATA_YEAR</th>\n",
       "      <th>INCIDENT_COUNT</th>\n",
       "    </tr>\n",
       "  </thead>\n",
       "  <tbody>\n",
       "    <tr>\n",
       "      <th>0</th>\n",
       "      <td>Midwest</td>\n",
       "      <td>1991</td>\n",
       "      <td>733</td>\n",
       "    </tr>\n",
       "    <tr>\n",
       "      <th>1</th>\n",
       "      <td>Midwest</td>\n",
       "      <td>1992</td>\n",
       "      <td>779</td>\n",
       "    </tr>\n",
       "    <tr>\n",
       "      <th>2</th>\n",
       "      <td>Midwest</td>\n",
       "      <td>1993</td>\n",
       "      <td>1565</td>\n",
       "    </tr>\n",
       "    <tr>\n",
       "      <th>3</th>\n",
       "      <td>Midwest</td>\n",
       "      <td>1994</td>\n",
       "      <td>1127</td>\n",
       "    </tr>\n",
       "    <tr>\n",
       "      <th>4</th>\n",
       "      <td>Midwest</td>\n",
       "      <td>1995</td>\n",
       "      <td>1356</td>\n",
       "    </tr>\n",
       "    <tr>\n",
       "      <th>...</th>\n",
       "      <td>...</td>\n",
       "      <td>...</td>\n",
       "      <td>...</td>\n",
       "    </tr>\n",
       "    <tr>\n",
       "      <th>121</th>\n",
       "      <td>West</td>\n",
       "      <td>2016</td>\n",
       "      <td>1954</td>\n",
       "    </tr>\n",
       "    <tr>\n",
       "      <th>122</th>\n",
       "      <td>West</td>\n",
       "      <td>2017</td>\n",
       "      <td>2226</td>\n",
       "    </tr>\n",
       "    <tr>\n",
       "      <th>123</th>\n",
       "      <td>West</td>\n",
       "      <td>2018</td>\n",
       "      <td>2195</td>\n",
       "    </tr>\n",
       "    <tr>\n",
       "      <th>124</th>\n",
       "      <td>West</td>\n",
       "      <td>2019</td>\n",
       "      <td>2391</td>\n",
       "    </tr>\n",
       "    <tr>\n",
       "      <th>125</th>\n",
       "      <td>West</td>\n",
       "      <td>2020</td>\n",
       "      <td>3040</td>\n",
       "    </tr>\n",
       "  </tbody>\n",
       "</table>\n",
       "<p>126 rows × 3 columns</p>\n",
       "</div>"
      ],
      "text/plain": [
       "    REGION_NAME  DATA_YEAR  INCIDENT_COUNT\n",
       "0       Midwest       1991             733\n",
       "1       Midwest       1992             779\n",
       "2       Midwest       1993            1565\n",
       "3       Midwest       1994            1127\n",
       "4       Midwest       1995            1356\n",
       "..          ...        ...             ...\n",
       "121        West       2016            1954\n",
       "122        West       2017            2226\n",
       "123        West       2018            2195\n",
       "124        West       2019            2391\n",
       "125        West       2020            3040\n",
       "\n",
       "[126 rows x 3 columns]"
      ]
     },
     "execution_count": 45,
     "metadata": {},
     "output_type": "execute_result"
    }
   ],
   "source": [
    "region_grouped"
   ]
  }
 ],
 "metadata": {
  "kernelspec": {
   "display_name": "Python 3 (ipykernel)",
   "language": "python",
   "name": "python3"
  },
  "language_info": {
   "codemirror_mode": {
    "name": "ipython",
    "version": 3
   },
   "file_extension": ".py",
   "mimetype": "text/x-python",
   "name": "python",
   "nbconvert_exporter": "python",
   "pygments_lexer": "ipython3",
   "version": "3.9.7"
  }
 },
 "nbformat": 4,
 "nbformat_minor": 5
}
