{
 "cells": [
  {
   "cell_type": "code",
   "execution_count": 9,
   "id": "fadddac6",
   "metadata": {},
   "outputs": [],
   "source": [
    "import numpy as np\n",
    "import pandas as pd\n",
    "import matplotlib.pyplot as plt\n",
    "\n",
    "import warnings\n",
    "warnings.filterwarnings('ignore')\n",
    "from Data_Preprocessing import exp_var, hate_crime, hate_crime_combined, hc_by_year, region_grouped, race_grouped, indexed_df"
   ]
  },
  {
   "cell_type": "code",
   "execution_count": 10,
   "id": "09f1e544",
   "metadata": {},
   "outputs": [
    {
     "data": {
      "text/plain": [
       "['hate_crime',\n",
       " 'hate_crime_combined',\n",
       " 'hc_by_year',\n",
       " 'region_grouped',\n",
       " 'race_grouped',\n",
       " 'indexed_df']"
      ]
     },
     "execution_count": 10,
     "metadata": {},
     "output_type": "execute_result"
    }
   ],
   "source": [
    "exp_var"
   ]
  },
  {
   "cell_type": "code",
   "execution_count": null,
   "id": "9d58a44f",
   "metadata": {},
   "outputs": [],
   "source": []
  },
  {
   "cell_type": "code",
   "execution_count": null,
   "id": "2364fe53",
   "metadata": {},
   "outputs": [],
   "source": []
  }
 ],
 "metadata": {
  "kernelspec": {
   "display_name": "Python 3 (ipykernel)",
   "language": "python",
   "name": "python3"
  },
  "language_info": {
   "codemirror_mode": {
    "name": "ipython",
    "version": 3
   },
   "file_extension": ".py",
   "mimetype": "text/x-python",
   "name": "python",
   "nbconvert_exporter": "python",
   "pygments_lexer": "ipython3",
   "version": "3.9.7"
  }
 },
 "nbformat": 4,
 "nbformat_minor": 5
}
